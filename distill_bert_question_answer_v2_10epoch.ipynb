{
  "cells": [
    {
      "cell_type": "markdown",
      "metadata": {
        "id": "X4cRE8IbIrIV"
      },
      "source": [
        "If you're opening this Notebook on colab, you will probably need to install 🤗 Transformers and 🤗 Datasets. Uncomment the following cell and run it."
      ]
    },
    {
      "cell_type": "code",
      "execution_count": null,
      "metadata": {
        "colab": {
          "base_uri": "https://localhost:8080/"
        },
        "id": "MOsHUjgdIrIW",
        "outputId": "08b211de-3a1d-47f4-97a8-3448370fe0a1"
      },
      "outputs": [
        {
          "name": "stdout",
          "output_type": "stream",
          "text": [
            "Looking in indexes: https://pypi.org/simple, https://us-python.pkg.dev/colab-wheels/public/simple/\n",
            "Collecting datasets\n",
            "  Using cached datasets-2.7.1-py3-none-any.whl (451 kB)\n",
            "Collecting transformers\n",
            "  Using cached transformers-4.25.1-py3-none-any.whl (5.8 MB)\n",
            "Collecting multiprocess\n",
            "  Downloading multiprocess-0.70.14-py38-none-any.whl (132 kB)\n",
            "\u001b[K     |████████████████████████████████| 132 kB 12.2 MB/s \n",
            "\u001b[?25hRequirement already satisfied: pyyaml>=5.1 in /usr/local/lib/python3.8/dist-packages (from datasets) (6.0)\n",
            "Requirement already satisfied: pyarrow>=6.0.0 in /usr/local/lib/python3.8/dist-packages (from datasets) (9.0.0)\n",
            "Requirement already satisfied: aiohttp in /usr/local/lib/python3.8/dist-packages (from datasets) (3.8.3)\n",
            "Requirement already satisfied: pandas in /usr/local/lib/python3.8/dist-packages (from datasets) (1.3.5)\n",
            "Requirement already satisfied: fsspec[http]>=2021.11.1 in /usr/local/lib/python3.8/dist-packages (from datasets) (2022.11.0)\n",
            "Collecting huggingface-hub<1.0.0,>=0.2.0\n",
            "  Downloading huggingface_hub-0.11.1-py3-none-any.whl (182 kB)\n",
            "\u001b[K     |████████████████████████████████| 182 kB 28.2 MB/s \n",
            "\u001b[?25hRequirement already satisfied: requests>=2.19.0 in /usr/local/lib/python3.8/dist-packages (from datasets) (2.23.0)\n",
            "Collecting responses<0.19\n",
            "  Downloading responses-0.18.0-py3-none-any.whl (38 kB)\n",
            "Requirement already satisfied: tqdm>=4.62.1 in /usr/local/lib/python3.8/dist-packages (from datasets) (4.64.1)\n",
            "Requirement already satisfied: numpy>=1.17 in /usr/local/lib/python3.8/dist-packages (from datasets) (1.21.6)\n",
            "Collecting xxhash\n",
            "  Using cached xxhash-3.1.0-cp38-cp38-manylinux_2_17_x86_64.manylinux2014_x86_64.whl (212 kB)\n",
            "Requirement already satisfied: packaging in /usr/local/lib/python3.8/dist-packages (from datasets) (21.3)\n",
            "Requirement already satisfied: dill<0.3.7 in /usr/local/lib/python3.8/dist-packages (from datasets) (0.3.6)\n",
            "Requirement already satisfied: multidict<7.0,>=4.5 in /usr/local/lib/python3.8/dist-packages (from aiohttp->datasets) (6.0.3)\n",
            "Requirement already satisfied: async-timeout<5.0,>=4.0.0a3 in /usr/local/lib/python3.8/dist-packages (from aiohttp->datasets) (4.0.2)\n",
            "Requirement already satisfied: charset-normalizer<3.0,>=2.0 in /usr/local/lib/python3.8/dist-packages (from aiohttp->datasets) (2.1.1)\n",
            "Requirement already satisfied: yarl<2.0,>=1.0 in /usr/local/lib/python3.8/dist-packages (from aiohttp->datasets) (1.8.2)\n",
            "Requirement already satisfied: aiosignal>=1.1.2 in /usr/local/lib/python3.8/dist-packages (from aiohttp->datasets) (1.3.1)\n",
            "Requirement already satisfied: frozenlist>=1.1.1 in /usr/local/lib/python3.8/dist-packages (from aiohttp->datasets) (1.3.3)\n",
            "Requirement already satisfied: attrs>=17.3.0 in /usr/local/lib/python3.8/dist-packages (from aiohttp->datasets) (22.1.0)\n",
            "Requirement already satisfied: typing-extensions>=3.7.4.3 in /usr/local/lib/python3.8/dist-packages (from huggingface-hub<1.0.0,>=0.2.0->datasets) (4.4.0)\n",
            "Requirement already satisfied: filelock in /usr/local/lib/python3.8/dist-packages (from huggingface-hub<1.0.0,>=0.2.0->datasets) (3.8.0)\n",
            "Requirement already satisfied: pyparsing!=3.0.5,>=2.0.2 in /usr/local/lib/python3.8/dist-packages (from packaging->datasets) (3.0.9)\n",
            "Requirement already satisfied: chardet<4,>=3.0.2 in /usr/local/lib/python3.8/dist-packages (from requests>=2.19.0->datasets) (3.0.4)\n",
            "Requirement already satisfied: certifi>=2017.4.17 in /usr/local/lib/python3.8/dist-packages (from requests>=2.19.0->datasets) (2022.9.24)\n",
            "Requirement already satisfied: idna<3,>=2.5 in /usr/local/lib/python3.8/dist-packages (from requests>=2.19.0->datasets) (2.10)\n",
            "Requirement already satisfied: urllib3!=1.25.0,!=1.25.1,<1.26,>=1.21.1 in /usr/local/lib/python3.8/dist-packages (from requests>=2.19.0->datasets) (1.24.3)\n",
            "Collecting urllib3!=1.25.0,!=1.25.1,<1.26,>=1.21.1\n",
            "  Downloading urllib3-1.25.11-py2.py3-none-any.whl (127 kB)\n",
            "\u001b[K     |████████████████████████████████| 127 kB 77.5 MB/s \n",
            "\u001b[?25hRequirement already satisfied: regex!=2019.12.17 in /usr/local/lib/python3.8/dist-packages (from transformers) (2022.6.2)\n",
            "Collecting tokenizers!=0.11.3,<0.14,>=0.11.1\n",
            "  Downloading tokenizers-0.13.2-cp38-cp38-manylinux_2_17_x86_64.manylinux2014_x86_64.whl (7.6 MB)\n",
            "\u001b[K     |████████████████████████████████| 7.6 MB 64.8 MB/s \n",
            "\u001b[?25hRequirement already satisfied: pytz>=2017.3 in /usr/local/lib/python3.8/dist-packages (from pandas->datasets) (2022.6)\n",
            "Requirement already satisfied: python-dateutil>=2.7.3 in /usr/local/lib/python3.8/dist-packages (from pandas->datasets) (2.8.2)\n",
            "Requirement already satisfied: six>=1.5 in /usr/local/lib/python3.8/dist-packages (from python-dateutil>=2.7.3->pandas->datasets) (1.15.0)\n",
            "Installing collected packages: urllib3, xxhash, tokenizers, responses, multiprocess, huggingface-hub, transformers, datasets\n",
            "  Attempting uninstall: urllib3\n",
            "    Found existing installation: urllib3 1.24.3\n",
            "    Uninstalling urllib3-1.24.3:\n",
            "      Successfully uninstalled urllib3-1.24.3\n",
            "Successfully installed datasets-2.7.1 huggingface-hub-0.11.1 multiprocess-0.70.14 responses-0.18.0 tokenizers-0.13.2 transformers-4.25.1 urllib3-1.25.11 xxhash-3.1.0\n"
          ]
        }
      ],
      "source": [
        "! pip install datasets transformers"
      ]
    },
    {
      "cell_type": "markdown",
      "metadata": {
        "id": "53QxDD6Ya5uD"
      },
      "source": [
        "If you're opening this notebook locally, make sure your environment has an install from the last version of those libraries.\n",
        "\n",
        "To be able to share your model with the community and generate results like the one shown in the picture below via the inference API, there are a few more steps to follow.\n",
        "\n",
        "First you have to store your authentication token from the Hugging Face website (sign up [here](https://huggingface.co/join) if you haven't already!) then execute the following cell and input your username and password:"
      ]
    },
    {
      "cell_type": "code",
      "execution_count": null,
      "metadata": {
        "id": "qO86KshNa5uE"
      },
      "outputs": [],
      "source": [
        "# from huggingface_hub import notebook_login\n",
        "\n",
        "# notebook_login()"
      ]
    },
    {
      "cell_type": "markdown",
      "metadata": {
        "id": "nbSOKccDa5uE"
      },
      "source": [
        "Then you need to install Git-LFS. Uncomment the following instructions:"
      ]
    },
    {
      "cell_type": "code",
      "execution_count": null,
      "metadata": {
        "colab": {
          "base_uri": "https://localhost:8080/"
        },
        "id": "uQFIODFia5uE",
        "outputId": "dbbcecc6-94bc-4ea5-be0a-8bb514858b74"
      },
      "outputs": [
        {
          "name": "stdout",
          "output_type": "stream",
          "text": [
            "Reading package lists... Done\n",
            "Building dependency tree       \n",
            "Reading state information... Done\n",
            "git-lfs is already the newest version (2.3.4-1).\n",
            "The following package was automatically installed and is no longer required:\n",
            "  libnvidia-common-460\n",
            "Use 'apt autoremove' to remove it.\n",
            "0 upgraded, 0 newly installed, 0 to remove and 20 not upgraded.\n"
          ]
        }
      ],
      "source": [
        "!apt install git-lfs"
      ]
    },
    {
      "cell_type": "markdown",
      "metadata": {
        "id": "aM0eVIAMa5uE"
      },
      "source": [
        "Make sure your version of Transformers is at least 4.11.0 since the functionality was introduced in that version:"
      ]
    },
    {
      "cell_type": "code",
      "execution_count": null,
      "metadata": {
        "colab": {
          "base_uri": "https://localhost:8080/"
        },
        "id": "R5ndbewaa5uF",
        "outputId": "ad76fcd3-60a4-466d-a429-b4e48ad0222e"
      },
      "outputs": [
        {
          "name": "stdout",
          "output_type": "stream",
          "text": [
            "4.25.1\n"
          ]
        }
      ],
      "source": [
        "import transformers\n",
        "\n",
        "print(transformers.__version__)"
      ]
    },
    {
      "cell_type": "code",
      "execution_count": null,
      "metadata": {
        "colab": {
          "base_uri": "https://localhost:8080/",
          "height": 35
        },
        "id": "ESvMT-BnZjyF",
        "outputId": "11f0a7d1-4677-4563-a149-e139d8c94daa"
      },
      "outputs": [
        {
          "data": {
            "application/vnd.google.colaboratory.intrinsic+json": {
              "type": "string"
            },
            "text/plain": [
              "'/device:GPU:0'"
            ]
          },
          "execution_count": 9,
          "metadata": {},
          "output_type": "execute_result"
        }
      ],
      "source": [
        "# check gpu use on colab\n",
        "import tensorflow as tf\n",
        "tf.test.gpu_device_name()"
      ]
    },
    {
      "cell_type": "markdown",
      "metadata": {
        "id": "HFASsisvIrIb"
      },
      "source": [
        "You can find a script version of this notebook to fine-tune your model in a distributed fashion using multiple GPUs or TPUs [here](https://github.com/huggingface/transformers/tree/master/examples/question-answering)."
      ]
    },
    {
      "cell_type": "markdown",
      "metadata": {
        "id": "rEJBSTyZIrIb"
      },
      "source": [
        "# Fine-tuning a model on a question-answering task"
      ]
    },
    {
      "cell_type": "markdown",
      "metadata": {
        "id": "ogpbjkAxa5uF"
      },
      "source": [
        "In this notebook, we will see how to fine-tune one of the [🤗 Transformers](https://github.com/huggingface/transformers) model to a question answering task, which is the task of extracting the answer to a question from a given context. We will see how to easily load a dataset for these kinds of tasks and use the `Trainer` API to fine-tune a model on it.\n",
        "\n",
        "![Widget inference representing the QA task](images/question_answering.png)\n",
        "\n",
        "**Note:** This notebook finetunes models that answer question by taking a substring of a context, not by generating new text."
      ]
    },
    {
      "cell_type": "markdown",
      "metadata": {
        "id": "4RRkXuteIrIh"
      },
      "source": [
        "This notebook is built to run on any question answering task with the same format as SQUAD (version 1 or 2), with any model checkpoint from the [Model Hub](https://huggingface.co/models) as long as that model has a version with a token classification head and a fast tokenizer (check on [this table](https://huggingface.co/transformers/index.html#bigtable) if this is the case). It might just need some small adjustments if you decide to use a different dataset than the one used here. Depending on you model and the GPU you are using, you might need to adjust the batch size to avoid out-of-memory errors. Set those three parameters, then the rest of the notebook should run smoothly:"
      ]
    },
    {
      "cell_type": "code",
      "execution_count": null,
      "metadata": {
        "id": "zVvslsfMIrIh"
      },
      "outputs": [],
      "source": [
        "# This flag is the difference between SQUAD v1 or 2 (if you're using another dataset, it indicates if impossible\n",
        "# answers are allowed or not).\n",
        "squad_v2 = True\n",
        "model_checkpoint = \"distilbert-base-uncased\"\n",
        "batch_size = 16"
      ]
    },
    {
      "cell_type": "markdown",
      "metadata": {
        "id": "whPRbBNbIrIl"
      },
      "source": [
        "## Loading the dataset"
      ]
    },
    {
      "cell_type": "markdown",
      "metadata": {
        "id": "W7QYTpxXIrIl"
      },
      "source": [
        "We will use the [🤗 Datasets](https://github.com/huggingface/datasets) library to download the data and get the metric we need to use for evaluation (to compare our model to the benchmark). This can be easily done with the functions `load_dataset` and `load_metric`.  "
      ]
    },
    {
      "cell_type": "code",
      "execution_count": null,
      "metadata": {
        "id": "IreSlFmlIrIm"
      },
      "outputs": [],
      "source": [
        "from datasets import load_dataset, load_metric"
      ]
    },
    {
      "cell_type": "markdown",
      "metadata": {
        "id": "CKx2zKs5IrIq"
      },
      "source": [
        "For our example here, we'll use the [SQUAD dataset](https://rajpurkar.github.io/SQuAD-explorer/). The notebook should work with any question answering dataset provided by the 🤗 Datasets library. If you're using your own dataset defined from a JSON or csv file (see the [Datasets documentation](https://huggingface.co/docs/datasets/loading_datasets.html#from-local-files) on how to load them), it might need some adjustments in the names of the columns used."
      ]
    },
    {
      "cell_type": "code",
      "execution_count": null,
      "metadata": {
        "colab": {
          "base_uri": "https://localhost:8080/",
          "height": 379,
          "referenced_widgets": [
            "7fc410a7a4e348e7815bf04192d2f98a",
            "16b6f7739db748f8bc296514d1de643f",
            "c95b7177496d4151a74d2f1227a656bb",
            "bafabda8299a40caa0204721b4ba7b76",
            "7d60ddc4a53b4c5e85213506249c696b",
            "95a2f2d845724c2395153fa73781df3c",
            "7c2eed6d6a3f4071b3bb8e9b2ebf9fe8",
            "d1fc0fb48b96472ab2f154e1f6792ede",
            "9b5b7eae5704445db37a4941d61f8063",
            "e04985d9bd8c494baee29736ec9ef3f0",
            "3cf0d0e6f0404278bd70555187880b91",
            "a230f84f9bdf44e8a6b69dfa85845aa3",
            "d63594a964754c848a4f51f907a6992c",
            "a17bb4dde5304b0db67decba129930e5",
            "beaf98bae21044e893c075fe9fb728d9",
            "f451ca37d2a547caa101de3585b1e903",
            "97509492562d47d7a3d21a74bfbc62f5",
            "782541d2ef4d4a4a96d11545f37b6da1",
            "6b1d15c5735d49368f9c9b2cde33f207",
            "7fb606b97b784fa58d6f896b0fab0998",
            "f020aa063c32443d9a3562c22e3ce646",
            "667b26d0a99f428bb5566257c453a6c5",
            "5267ceeee3634d908b98f7d5d1ca2308",
            "b540223712ed45a289dd17024cb5e5e2",
            "898ef02f88284f39a8f57789d63ee410",
            "4bf57fa67bb542c88911b6f39078145a",
            "6f6efe34737448d38db2e3fa1192a3c3",
            "055d4627f6d44c3a82a7daed41538203",
            "034eae2bd5cc40a6acfc65301e2b089c",
            "653fe76785ef4c1a9b32ed8aa41abe2c",
            "f4a51fd74c404393b1a163c241cd1105",
            "b4463f280c6941a9bd6da9d6afe5813d",
            "e4fc05bfee424756992e034b1f26cf0b",
            "fc1e4c9ebe7d449d9e5371c8de17662b",
            "f5f943b2c0a34af286b66948f5dc592d",
            "56b0cef121dd4f1aba91ba3c32a05474",
            "17ee7ded95dc4d34a8bec33e6df5bbe7",
            "328b8e4036c94ba8a5f9f8bd4c16fcb6",
            "d7a36b4faf2744d8be7849aceeebee3b",
            "a062f5f4f7b8429c9636b83d0ce2d993",
            "1625002595a149ef8bbf6da9d6ea0799",
            "9ec3fa19827f4707ae1ca9f772af2389",
            "8e7448de252b4cfe976069dfc4f8b30c",
            "15746bca462c48af8defd94743d222e1",
            "014007cfd0444a1f959b33564961fb2d",
            "9ea44dc1e1f2461aacd6d45c77aa5dca",
            "a8693e3f921c41c9b8d3c96d1206be2e",
            "93978b7d88cc4a3d9bb96323118eff82",
            "d9756fdb547f4cda8d4e979fed475b81",
            "941e41b359234a91ad1cfc858af22d2c",
            "d43d646f9cb843b8add14a316131e64d",
            "f58a8ed444674bd4905fbe9bd7cd3f9b",
            "d84d23760b864693bec73098748f4f22",
            "a78422bc7fd1440daecba8bda32b06f4",
            "73006f80dc8c40d8a49d0dfa88438b51",
            "6218d90981494036ada3ec0d3cf4c362",
            "e5d46236fccc482f8d8db5f9e3c7da69",
            "a54e451bcfd54cefa833f11b73aaa8e2",
            "309c103274874b39b8e5be222bf6475f",
            "abdfcdfd6eaa462f8960084a814bf47e",
            "0535d32ba9fa47c2af2df4f8b00d9954",
            "ea39600265ce4528a0032b08aa675318",
            "9e35604f53dd469facadad2634a0276f",
            "07d19bc286af4ef6b6dee746bb696d04",
            "cdf9c2b387a44b3296a2068be11e22f6",
            "5d731f8285e0448aae00332b905e3633",
            "8ec03d412a0f41e09b9214012de0162c",
            "baad9607a7244138bc757f98501c28d7",
            "fe7ed5ebbd244b928289df6aa93ada88",
            "34183aadc7054d4c81b7f6246a697fd5",
            "eaec35113ae34cc59734ced78e5f0481",
            "e75ef4a022184be188cf05580dca72fb",
            "3782cce6f57d4ee19b957f5d9e35c4cd",
            "075bf84f91164244bb693b95173e6afa",
            "debc0e539a3a4d4da9f1097bbeb041cf",
            "9f5b6eeaebc3467fb889a6062001e119",
            "563f25311fd543a7aaf2c0f24ead4fce",
            "e159593714444d47b25a32c647c5ade8",
            "e7c0faa19d244796a80a127cdb71550d",
            "d4136d8175304f79bf1c302db99ffe8e",
            "0eda7eb583a54c3c99d4768dc69d228e",
            "08dba0ca8a4948d9a8942f1c573040c0",
            "94f09ba5048242c9acdd18c34c2c4ea1",
            "1b620aa31308470a9fddc5a4093aa568",
            "76ebe2e9ea9e47ff87c20fb1bb52d576",
            "0bac21fe6c794cfbbf8867860dc60f05",
            "e7d1ca74ca164e60b488f437102fe628",
            "d9a2d2c9486e448cbe8772e2ca562518",
            "5daf445251a7478e8f76e6e714736b63",
            "2059c0831445492b98c7970437de1c95",
            "9794f581412346869f56601f04251ea9",
            "db80c3c192e1470ca3508b8c5639e4a4",
            "8f77f3be6b8d4840b115ff221fd91bad",
            "a3b9ab8a519c4ac2afb7e751d0bcea95",
            "8995ea7b502e4a0f930355a612b7ef3c",
            "84d021fda6bb4a348a3de56849b67cba",
            "9180eff9c64d46d382f706f3f3e4f14a",
            "94e875cc91104195a2c47c4e638dda37",
            "d3d202c1410447b59b33118699ea1d92",
            "80961129fc7149379e741eab42526540",
            "cfe1b4c2ffb242ad86a2ecff157df100",
            "8f724c9d51444a19952e9b882022a921",
            "f00afb39398048bf810d9a1bc624db6d",
            "3b290cdb6a2342c18d8ba407bbf36aae",
            "1043c9230f104e3482f13ea3f209a19d",
            "2ad1eedc813f4bb0b1cf5bdc1e1fb441",
            "1724e92121a84a098746b3ef9f30f42f",
            "5ab5c3ce5df340ec94338ec3a3ab8802",
            "e4044135f04a4c88ad19af5cac90e118",
            "1246ea0787b44dafb573340956ad9ddc",
            "959ceffc999a453c84b366ea23b50c36",
            "b2762d7ce15145b7950ab3c3b9fe2cd2",
            "df7687651ee542aa964c0b8bf13663a5",
            "2ccecbc5850342918223ce8a58a4ce1b",
            "71d8a29800924182b89cd1b7daf03b02",
            "7170919aedcf4be7bdf8db69a2335023",
            "94c123a65b4a4908b7c0ad2731eed509",
            "49ad380770d842bca4c8a962e5525909",
            "37637bef1e684be3b8bdc7004fa4b290",
            "7a23fa17f4364255a426ac984915afd7",
            "13065c598c87485e9482409979c08826"
          ]
        },
        "id": "s_AY1ATSIrIq",
        "outputId": "6f5d8f89-b53c-4111-9178-689b8fc99f91"
      },
      "outputs": [
        {
          "data": {
            "application/vnd.jupyter.widget-view+json": {
              "model_id": "7fc410a7a4e348e7815bf04192d2f98a",
              "version_major": 2,
              "version_minor": 0
            },
            "text/plain": [
              "Downloading builder script:   0%|          | 0.00/5.28k [00:00<?, ?B/s]"
            ]
          },
          "metadata": {},
          "output_type": "display_data"
        },
        {
          "data": {
            "application/vnd.jupyter.widget-view+json": {
              "model_id": "a230f84f9bdf44e8a6b69dfa85845aa3",
              "version_major": 2,
              "version_minor": 0
            },
            "text/plain": [
              "Downloading metadata:   0%|          | 0.00/2.40k [00:00<?, ?B/s]"
            ]
          },
          "metadata": {},
          "output_type": "display_data"
        },
        {
          "data": {
            "application/vnd.jupyter.widget-view+json": {
              "model_id": "5267ceeee3634d908b98f7d5d1ca2308",
              "version_major": 2,
              "version_minor": 0
            },
            "text/plain": [
              "Downloading readme:   0%|          | 0.00/8.02k [00:00<?, ?B/s]"
            ]
          },
          "metadata": {},
          "output_type": "display_data"
        },
        {
          "name": "stdout",
          "output_type": "stream",
          "text": [
            "Downloading and preparing dataset squad_v2/squad_v2 to /root/.cache/huggingface/datasets/squad_v2/squad_v2/2.0.0/09187c73c1b837c95d9a249cd97c2c3f1cebada06efe667b4427714b27639b1d...\n"
          ]
        },
        {
          "data": {
            "application/vnd.jupyter.widget-view+json": {
              "model_id": "fc1e4c9ebe7d449d9e5371c8de17662b",
              "version_major": 2,
              "version_minor": 0
            },
            "text/plain": [
              "Downloading data files:   0%|          | 0/2 [00:00<?, ?it/s]"
            ]
          },
          "metadata": {},
          "output_type": "display_data"
        },
        {
          "data": {
            "application/vnd.jupyter.widget-view+json": {
              "model_id": "014007cfd0444a1f959b33564961fb2d",
              "version_major": 2,
              "version_minor": 0
            },
            "text/plain": [
              "Downloading data:   0%|          | 0.00/9.55M [00:00<?, ?B/s]"
            ]
          },
          "metadata": {},
          "output_type": "display_data"
        },
        {
          "data": {
            "application/vnd.jupyter.widget-view+json": {
              "model_id": "6218d90981494036ada3ec0d3cf4c362",
              "version_major": 2,
              "version_minor": 0
            },
            "text/plain": [
              "Downloading data:   0%|          | 0.00/801k [00:00<?, ?B/s]"
            ]
          },
          "metadata": {},
          "output_type": "display_data"
        },
        {
          "name": "stdout",
          "output_type": "stream",
          "text": [
            "  "
          ]
        },
        {
          "data": {
            "application/vnd.jupyter.widget-view+json": {
              "model_id": "8ec03d412a0f41e09b9214012de0162c",
              "version_major": 2,
              "version_minor": 0
            },
            "text/plain": [
              "Extracting data files #1:   0%|          | 0/1 [00:00<?, ?obj/s]"
            ]
          },
          "metadata": {},
          "output_type": "display_data"
        },
        {
          "data": {
            "application/vnd.jupyter.widget-view+json": {
              "model_id": "e159593714444d47b25a32c647c5ade8",
              "version_major": 2,
              "version_minor": 0
            },
            "text/plain": [
              "Extracting data files #0:   0%|          | 0/1 [00:00<?, ?obj/s]"
            ]
          },
          "metadata": {},
          "output_type": "display_data"
        },
        {
          "data": {
            "application/vnd.jupyter.widget-view+json": {
              "model_id": "5daf445251a7478e8f76e6e714736b63",
              "version_major": 2,
              "version_minor": 0
            },
            "text/plain": [
              "Generating train split:   0%|          | 0/130319 [00:00<?, ? examples/s]"
            ]
          },
          "metadata": {},
          "output_type": "display_data"
        },
        {
          "data": {
            "application/vnd.jupyter.widget-view+json": {
              "model_id": "80961129fc7149379e741eab42526540",
              "version_major": 2,
              "version_minor": 0
            },
            "text/plain": [
              "Generating validation split:   0%|          | 0/11873 [00:00<?, ? examples/s]"
            ]
          },
          "metadata": {},
          "output_type": "display_data"
        },
        {
          "name": "stdout",
          "output_type": "stream",
          "text": [
            "Dataset squad_v2 downloaded and prepared to /root/.cache/huggingface/datasets/squad_v2/squad_v2/2.0.0/09187c73c1b837c95d9a249cd97c2c3f1cebada06efe667b4427714b27639b1d. Subsequent calls will reuse this data.\n"
          ]
        },
        {
          "data": {
            "application/vnd.jupyter.widget-view+json": {
              "model_id": "959ceffc999a453c84b366ea23b50c36",
              "version_major": 2,
              "version_minor": 0
            },
            "text/plain": [
              "  0%|          | 0/2 [00:00<?, ?it/s]"
            ]
          },
          "metadata": {},
          "output_type": "display_data"
        }
      ],
      "source": [
        "datasets = load_dataset(\"squad_v2\" if squad_v2 else \"squad\")"
      ]
    },
    {
      "cell_type": "markdown",
      "metadata": {
        "id": "RzfPtOMoIrIu"
      },
      "source": [
        "The `datasets` object itself is [`DatasetDict`](https://huggingface.co/docs/datasets/package_reference/main_classes.html#datasetdict), which contains one key for the training, validation and test set."
      ]
    },
    {
      "cell_type": "code",
      "execution_count": null,
      "metadata": {
        "colab": {
          "base_uri": "https://localhost:8080/"
        },
        "id": "GWiVUF0jIrIv",
        "outputId": "dfabb39e-c087-456c-e145-56bc55f8a026"
      },
      "outputs": [
        {
          "data": {
            "text/plain": [
              "DatasetDict({\n",
              "    train: Dataset({\n",
              "        features: ['id', 'title', 'context', 'question', 'answers'],\n",
              "        num_rows: 130319\n",
              "    })\n",
              "    validation: Dataset({\n",
              "        features: ['id', 'title', 'context', 'question', 'answers'],\n",
              "        num_rows: 11873\n",
              "    })\n",
              "})"
            ]
          },
          "execution_count": 13,
          "metadata": {},
          "output_type": "execute_result"
        }
      ],
      "source": [
        "datasets"
      ]
    },
    {
      "cell_type": "markdown",
      "metadata": {
        "id": "bXt783Eoa5uK"
      },
      "source": [
        "We can see the training, validation and test sets all have a column for the context, the question and the answers to those questions."
      ]
    },
    {
      "cell_type": "markdown",
      "metadata": {
        "id": "u3EtYfeHIrIz"
      },
      "source": [
        "To access an actual element, you need to select a split first, then give an index:"
      ]
    },
    {
      "cell_type": "code",
      "execution_count": null,
      "metadata": {
        "colab": {
          "base_uri": "https://localhost:8080/"
        },
        "id": "X6HrpprwIrIz",
        "outputId": "899bca78-dbf0-40d9-9f8b-f03494e79706"
      },
      "outputs": [
        {
          "data": {
            "text/plain": [
              "{'id': '56be85543aeaaa14008c9063',\n",
              " 'title': 'Beyoncé',\n",
              " 'context': 'Beyoncé Giselle Knowles-Carter (/biːˈjɒnseɪ/ bee-YON-say) (born September 4, 1981) is an American singer, songwriter, record producer and actress. Born and raised in Houston, Texas, she performed in various singing and dancing competitions as a child, and rose to fame in the late 1990s as lead singer of R&B girl-group Destiny\\'s Child. Managed by her father, Mathew Knowles, the group became one of the world\\'s best-selling girl groups of all time. Their hiatus saw the release of Beyoncé\\'s debut album, Dangerously in Love (2003), which established her as a solo artist worldwide, earned five Grammy Awards and featured the Billboard Hot 100 number-one singles \"Crazy in Love\" and \"Baby Boy\".',\n",
              " 'question': 'When did Beyonce start becoming popular?',\n",
              " 'answers': {'text': ['in the late 1990s'], 'answer_start': [269]}}"
            ]
          },
          "execution_count": 14,
          "metadata": {},
          "output_type": "execute_result"
        }
      ],
      "source": [
        "datasets[\"train\"][0]"
      ]
    },
    {
      "cell_type": "markdown",
      "metadata": {
        "id": "NNkoDff2a5uK"
      },
      "source": [
        "We can see the answers are indicated by their start position in the text (here at character 515) and their full text, which is a substring of the context as we mentioned above."
      ]
    },
    {
      "cell_type": "markdown",
      "metadata": {
        "id": "WHUmphG3IrI3"
      },
      "source": [
        "To get a sense of what the data looks like, the following function will show some examples picked randomly in the dataset (automatically decoding the labels in passing)."
      ]
    },
    {
      "cell_type": "code",
      "execution_count": null,
      "metadata": {
        "id": "i3j8APAoIrI3"
      },
      "outputs": [],
      "source": [
        "from datasets import ClassLabel, Sequence\n",
        "import random\n",
        "import pandas as pd\n",
        "from IPython.display import display, HTML\n",
        "\n",
        "def show_random_elements(dataset, num_examples=10):\n",
        "    assert num_examples <= len(dataset), \"Can't pick more elements than there are in the dataset.\"\n",
        "    picks = []\n",
        "    for _ in range(num_examples):\n",
        "        pick = random.randint(0, len(dataset)-1)\n",
        "        while pick in picks:\n",
        "            pick = random.randint(0, len(dataset)-1)\n",
        "        picks.append(pick)\n",
        "    \n",
        "    df = pd.DataFrame(dataset[picks])\n",
        "    for column, typ in dataset.features.items():\n",
        "        if isinstance(typ, ClassLabel):\n",
        "            df[column] = df[column].transform(lambda i: typ.names[i])\n",
        "        elif isinstance(typ, Sequence) and isinstance(typ.feature, ClassLabel):\n",
        "            df[column] = df[column].transform(lambda x: [typ.feature.names[i] for i in x])\n",
        "    display(HTML(df.to_html()))"
      ]
    },
    {
      "cell_type": "code",
      "execution_count": null,
      "metadata": {
        "colab": {
          "base_uri": "https://localhost:8080/",
          "height": 1000
        },
        "id": "SZy5tRB_IrI7",
        "outputId": "f28f8797-6e78-4f1f-8361-dfd7378c8df7",
        "scrolled": true
      },
      "outputs": [
        {
          "data": {
            "text/html": [
              "<table border=\"1\" class=\"dataframe\">\n",
              "  <thead>\n",
              "    <tr style=\"text-align: right;\">\n",
              "      <th></th>\n",
              "      <th>id</th>\n",
              "      <th>title</th>\n",
              "      <th>context</th>\n",
              "      <th>question</th>\n",
              "      <th>answers</th>\n",
              "    </tr>\n",
              "  </thead>\n",
              "  <tbody>\n",
              "    <tr>\n",
              "      <th>0</th>\n",
              "      <td>5719e93110f8ca1400304e98</td>\n",
              "      <td>Seattle</td>\n",
              "      <td>In November, Seattle averages more rainfall than any other U.S. city of more than 250,000 people; it also ranks highly in winter precipitation. Conversely, the city receives some of the lowest precipitation amounts of any large city from June to September. Seattle is one of the five rainiest major U.S. cities as measured by the number of days with precipitation, and it receives some of the lowest amounts of annual sunshine among major cities in the lower 48 states, along with some cities in the Northeast, Ohio and Michigan. Thunderstorms are rare, as the city reports thunder on just seven days per year. By comparison, Fort Myers, Florida reports thunder on 93 days per year, Kansas City on 52, and New York City on 25.</td>\n",
              "      <td>When does Seattle get it lowest levels of precipitation?</td>\n",
              "      <td>{'text': ['June to September'], 'answer_start': [238]}</td>\n",
              "    </tr>\n",
              "    <tr>\n",
              "      <th>1</th>\n",
              "      <td>5725c97d89a1e219009abea7</td>\n",
              "      <td>Hellenistic_period</td>\n",
              "      <td>One of the few city states who managed to maintain full independence from the control of any Hellenistic kingdom was Rhodes. With a skilled navy to protect its trade fleets from pirates and an ideal strategic position covering the routes from the east into the Aegean, Rhodes prospered during the Hellenistic period. It became a center of culture and commerce, its coins were widely circulated and its philosophical schools became one of the best in the mediterranean. After holding out for one year under siege by Demetrius Poliorcetes (304-305 BCE), the Rhodians built the Colossus of Rhodes to commemorate their victory. They retained their independence by the maintenance of a powerful navy, by maintaining a carefully neutral posture and acting to preserve the balance of power between the major Hellenistic kingdoms.</td>\n",
              "      <td>What years were Rhodes under attack by Demetrius Poliorcetes?</td>\n",
              "      <td>{'text': ['304-305 BCE'], 'answer_start': [538]}</td>\n",
              "    </tr>\n",
              "    <tr>\n",
              "      <th>2</th>\n",
              "      <td>56d1333517492d1400aabc10</td>\n",
              "      <td>Kanye_West</td>\n",
              "      <td>West's middle-class background, flamboyant fashion sense and outspokenness have additionally set him apart from other rappers. Early in his career, he was among the first rappers to publicly criticize the preponderance of homophobia in hip hop. The sales competition between rapper 50 Cent's Curtis and West's Graduation altered the direction of hip hop and helped pave the way for new rappers who did not follow the hardcore-gangster mold. Rosie Swash of The Guardian viewed the sales competition as a historical moment in hip-hop, because it \"highlighted the diverging facets of hip-hop in the last decade; the former was gangsta rap for the noughties, while West was the thinking man's alternative.\" Rolling Stone credited West with transforming hip hop's mainstream, \"establishing a style of introspective yet glossy rap [...]\", and called him \"as interesting and complicated a pop star as the 2000s produced—a rapper who mastered, upped and moved beyond the hip-hop game, a producer who created a signature sound and then abandoned it to his imitators, a flashy, free-spending sybarite with insightful things to say about college, culture and economics, an egomaniac with more than enough artistic firepower to back it up.\" His 2008 album 808s &amp; Heartbreak polarized both listeners and critics upon its release, but was commercially successful and impacted hip hop and pop stylistically, as it laid the groundwork for a new wave of artists who generally eschewed typical rap braggadocio for intimate subject matter and introspection, including Frank Ocean, The Weeknd, Drake, Future, Kid Cudi, Childish Gambino, Lil Durk, Chief Keef, and Soulja Boy. According to Ben Detrick of XXL magazine, West effectively led a new wave of artists, including Kid Cudi, Wale, Lupe Fiasco, Kidz in the Hall, and Drake, who lacked the interest or ability to rap about gunplay or drug-dealing.</td>\n",
              "      <td>Who said that Kanye West effectively led a new wave of artists that weren't only interested in rapping about gunplay or drug dealing?</td>\n",
              "      <td>{'text': ['Ben Detrick'], 'answer_start': [1668]}</td>\n",
              "    </tr>\n",
              "    <tr>\n",
              "      <th>3</th>\n",
              "      <td>5acd751c07355d001abf4342</td>\n",
              "      <td>Strasbourg</td>\n",
              "      <td>At present the A35 autoroute, which parallels the Rhine between Karlsruhe and Basel, and the A4 autoroute, which links Paris with Strasbourg, penetrate close to the centre of the city. The Grand contournement ouest (GCO) project, programmed since 1999, plans to construct a 24 km (15 mi) long highway connection between the junctions of the A4 and the A35 autoroutes in the north and of the A35 and A352 autoroutes in the south. This routes well to the west of the city and is meant to divest a significant portion of motorized traffic from the unité urbaine.</td>\n",
              "      <td>When was the A35 autoroute built?</td>\n",
              "      <td>{'text': [], 'answer_start': []}</td>\n",
              "    </tr>\n",
              "    <tr>\n",
              "      <th>4</th>\n",
              "      <td>56e1e668e3433e14004231f2</td>\n",
              "      <td>Catalan_language</td>\n",
              "      <td>This flexibility allows Catalan to use extraposition extensively, much more than French or Spanish. Thus, Catalan can have m'hi recomanaren (\"they recommended me to him\"), whereas in French one must say ils m'ont recommandé à lui, and Spanish me recomendaron a él. This allows the placement of almost any nominal term as a sentence topic, without having to use so often the passive voice (as in French or English), or identifying the direct object with a preposition (as in Spanish).</td>\n",
              "      <td>What languages use extrapositioning in sentences less than Catalan?</td>\n",
              "      <td>{'text': ['French or Spanish'], 'answer_start': [81]}</td>\n",
              "    </tr>\n",
              "    <tr>\n",
              "      <th>5</th>\n",
              "      <td>5acea6ec32bba1001ae4af04</td>\n",
              "      <td>Jews</td>\n",
              "      <td>Ashkenazi Jews represent the bulk of modern Jewry, with at least 70% of Jews worldwide (and up to 90% prior to World War II and the Holocaust). As a result of their emigration from Europe, Ashkenazim also represent the overwhelming majority of Jews in the New World continents, in countries such as the United States, Canada, Argentina, Australia, and Brazil. In France, the immigration of Jews from Algeria (Sephardim) has led them to outnumber the Ashkenazim. Only in Israel is the Jewish population representative of all groups, a melting pot independent of each group's proportion within the overall world Jewish population.</td>\n",
              "      <td>Why do Sephardim represent the overwhelming majority of Jews in the New World?</td>\n",
              "      <td>{'text': [], 'answer_start': []}</td>\n",
              "    </tr>\n",
              "    <tr>\n",
              "      <th>6</th>\n",
              "      <td>5a8cec6ffd22b3001a8d9026</td>\n",
              "      <td>Memory</td>\n",
              "      <td>The more long term the exposure to stress is, the more impact it may have. However, short term exposure to stress also causes impairment in memory by interfering with the function of the hippocampus. Research shows that subjects placed in a stressful situation for a short amount of time still have blood glucocorticoid levels that have increased drastically when measured after the exposure is completed. When subjects are asked to complete a learning task after short term exposure they have often difficulties. Prenatal stress also hinders the ability to learn and memorize by disrupting the development of the hippocampus and can lead to unestablished long term potentiation in the offspring of severely stressed parents. Although the stress is applied prenatally, the offspring show increased levels of glucocorticoids when they are subjected to stress later on in life.</td>\n",
              "      <td>Whar does research show happens to blood glucose levels during stressful events?</td>\n",
              "      <td>{'text': [], 'answer_start': []}</td>\n",
              "    </tr>\n",
              "    <tr>\n",
              "      <th>7</th>\n",
              "      <td>572ac497f75d5e190021fcaa</td>\n",
              "      <td>John_Kerry</td>\n",
              "      <td>In the 2004 Democratic presidential primaries, John Kerry defeated several Democratic rivals, including Sen. John Edwards (D-North Carolina.), former Vermont Governor Howard Dean and retired Army General Wesley Clark. His victory in the Iowa caucuses is widely believed to be the tipping point where Kerry revived his sagging campaign in New Hampshire and the February 3, 2004, primary states like Arizona, South Carolina and New Mexico. Kerry then went on to win landslide victories in Nevada and Wisconsin. Kerry thus won the Democratic nomination to run for President of the United States against incumbent George W. Bush. On July 6, 2004, he announced his selection of John Edwards as his running mate. Democratic strategist Bob Shrum, who was Kerry's 2004 campaign adviser, wrote an article in Time magazine claiming that after the election, Kerry had said that he wished he'd never picked Edwards, and that the two have since stopped speaking to each other. In a subsequent appearance on ABC's This Week, Kerry refused to respond to Shrum's allegation, calling it a \"ridiculous waste of time.\"</td>\n",
              "      <td>When did Kerry choose John Edwards to be his VP?</td>\n",
              "      <td>{'text': ['July 6, 2004'], 'answer_start': [629]}</td>\n",
              "    </tr>\n",
              "    <tr>\n",
              "      <th>8</th>\n",
              "      <td>5acfbcb477cf76001a685b76</td>\n",
              "      <td>Zhejiang</td>\n",
              "      <td>During the First Opium War, the British navy defeated Eight Banners forces at Ningbo and Dinghai. Under the terms of the Treaty of Nanking, signed in 1843, Ningbo became one of the five Chinese treaty ports opened to virtually unrestricted foreign trade. Much of Zhejiang came under the control of the Taiping Heavenly Kingdom during the Taiping Rebellion, which resulted in a considerable loss of life in the province. In 1876, Wenzhou became Zhejiang's second treaty port.</td>\n",
              "      <td>When did Wenzhou become Zhejiang's third treaty port?</td>\n",
              "      <td>{'text': [], 'answer_start': []}</td>\n",
              "    </tr>\n",
              "    <tr>\n",
              "      <th>9</th>\n",
              "      <td>570fcfe65ab6b8190039103b</td>\n",
              "      <td>Dell</td>\n",
              "      <td>Dell became the first company in the information technology industry to establish a product-recycling goal (in 2004) and completed the implementation of its global consumer recycling-program in 2006. On February 6, 2007, the National Recycling Coalition awarded Dell its \"Recycling Works\" award for efforts to promote producer responsibility. On July 19, 2007, Dell announced that it had exceeded targets in working to achieve a multi-year goal of recovering 275 million pounds of computer equipment by 2009. The company reported the recovery of 78 million pounds (nearly 40,000 tons) of IT equipment from customers in 2006, a 93-percent increase over 2005; and 12.4% of the equipment Dell sold seven years earlier.</td>\n",
              "      <td>What percentage of Dell electronics from the previous seven years were recycled?</td>\n",
              "      <td>{'text': ['12.4%'], 'answer_start': [662]}</td>\n",
              "    </tr>\n",
              "  </tbody>\n",
              "</table>"
            ],
            "text/plain": [
              "<IPython.core.display.HTML object>"
            ]
          },
          "metadata": {},
          "output_type": "display_data"
        }
      ],
      "source": [
        "show_random_elements(datasets[\"train\"])"
      ]
    },
    {
      "cell_type": "markdown",
      "metadata": {
        "id": "n9qywopnIrJH"
      },
      "source": [
        "## Preprocessing the training data"
      ]
    },
    {
      "cell_type": "markdown",
      "metadata": {
        "id": "YVx71GdAIrJH"
      },
      "source": [
        "Before we can feed those texts to our model, we need to preprocess them. This is done by a 🤗 Transformers `Tokenizer` which will (as the name indicates) tokenize the inputs (including converting the tokens to their corresponding IDs in the pretrained vocabulary) and put it in a format the model expects, as well as generate the other inputs that model requires.\n",
        "\n",
        "To do all of this, we instantiate our tokenizer with the `AutoTokenizer.from_pretrained` method, which will ensure:\n",
        "\n",
        "- we get a tokenizer that corresponds to the model architecture we want to use,\n",
        "- we download the vocabulary used when pretraining this specific checkpoint.\n",
        "\n",
        "That vocabulary will be cached, so it's not downloaded again the next time we run the cell."
      ]
    },
    {
      "cell_type": "code",
      "execution_count": null,
      "metadata": {
        "colab": {
          "base_uri": "https://localhost:8080/"
        },
        "id": "eXNLu_-nIrJI",
        "outputId": "f4bde915-5263-48f8-f7f4-9221f24b92da"
      },
      "outputs": [
        {
          "data": {
            "application/vnd.jupyter.widget-view+json": {
              "model_id": "7b318ee21789465cad5686ff979e7037",
              "version_major": 2,
              "version_minor": 0
            },
            "text/plain": [
              "Downloading:   0%|          | 0.00/28.0 [00:00<?, ?B/s]"
            ]
          },
          "metadata": {},
          "output_type": "display_data"
        },
        {
          "data": {
            "application/vnd.jupyter.widget-view+json": {
              "model_id": "63c4fee29ea44e91b2ef7e647be240c0",
              "version_major": 2,
              "version_minor": 0
            },
            "text/plain": [
              "Downloading:   0%|          | 0.00/483 [00:00<?, ?B/s]"
            ]
          },
          "metadata": {},
          "output_type": "display_data"
        },
        {
          "data": {
            "application/vnd.jupyter.widget-view+json": {
              "model_id": "f0b543b6518c45ceb45ffac2a231235b",
              "version_major": 2,
              "version_minor": 0
            },
            "text/plain": [
              "Downloading:   0%|          | 0.00/232k [00:00<?, ?B/s]"
            ]
          },
          "metadata": {},
          "output_type": "display_data"
        },
        {
          "data": {
            "application/vnd.jupyter.widget-view+json": {
              "model_id": "62b6be0e8ce04017896136dc3dfeced4",
              "version_major": 2,
              "version_minor": 0
            },
            "text/plain": [
              "Downloading:   0%|          | 0.00/466k [00:00<?, ?B/s]"
            ]
          },
          "metadata": {},
          "output_type": "display_data"
        }
      ],
      "source": [
        "from transformers import AutoTokenizer\n",
        "    \n",
        "tokenizer = AutoTokenizer.from_pretrained(model_checkpoint)"
      ]
    },
    {
      "cell_type": "markdown",
      "metadata": {
        "id": "Vl6IidfdIrJK"
      },
      "source": [
        "The following assertion ensures that our tokenizer is a fast tokenizers (backed by Rust) from the 🤗 Tokenizers library. Those fast tokenizers are available for almost all models, and we will need some of the special features they have for our preprocessing."
      ]
    },
    {
      "cell_type": "code",
      "execution_count": null,
      "metadata": {
        "id": "wScPn7ZLa5uL"
      },
      "outputs": [],
      "source": [
        "import transformers\n",
        "assert isinstance(tokenizer, transformers.PreTrainedTokenizerFast)"
      ]
    },
    {
      "cell_type": "markdown",
      "metadata": {
        "id": "OiggsU5Ga5uL"
      },
      "source": [
        "You can check which type of models have a fast tokenizer available and which don't on the [big table of models](https://huggingface.co/transformers/index.html#bigtable)."
      ]
    },
    {
      "cell_type": "markdown",
      "metadata": {
        "id": "rowT4iCLIrJK"
      },
      "source": [
        "You can directly call this tokenizer on two sentences (one for the answer, one for the context):"
      ]
    },
    {
      "cell_type": "code",
      "execution_count": null,
      "metadata": {
        "colab": {
          "base_uri": "https://localhost:8080/"
        },
        "id": "a5hBlsrHIrJL",
        "outputId": "d757ee79-0a08-4507-c017-93bf6d087ba5"
      },
      "outputs": [
        {
          "data": {
            "text/plain": [
              "{'input_ids': [101, 2054, 2003, 2115, 2171, 1029, 102, 2026, 2171, 2003, 25353, 22144, 2378, 1012, 102], 'attention_mask': [1, 1, 1, 1, 1, 1, 1, 1, 1, 1, 1, 1, 1, 1, 1]}"
            ]
          },
          "execution_count": 19,
          "metadata": {},
          "output_type": "execute_result"
        }
      ],
      "source": [
        "tokenizer(\"What is your name?\", \"My name is Sylvain.\")"
      ]
    },
    {
      "cell_type": "markdown",
      "metadata": {
        "id": "F6zYrRxsa5uL"
      },
      "source": [
        "Depending on the model you selected, you will see different keys in the dictionary returned by the cell above. They don't matter much for what we're doing here (just know they are required by the model we will instantiate later), you can learn more about them in [this tutorial](https://huggingface.co/transformers/preprocessing.html) if you're interested.\n",
        "\n",
        "Now one specific thing for the preprocessing in question answering is how to deal with very long documents. We usually truncate them in other tasks, when they are longer than the model maximum sentence length, but here, removing part of the the context might result in losing the answer we are looking for. To deal with this, we will allow one (long) example in our dataset to give several input features, each of length shorter than the maximum length of the model (or the one we set as a hyper-parameter). Also, just in case the answer lies at the point we split a long context, we allow some overlap between the features we generate controlled by the hyper-parameter `doc_stride`:"
      ]
    },
    {
      "cell_type": "code",
      "execution_count": null,
      "metadata": {
        "id": "zcbczAJ3a5uL"
      },
      "outputs": [],
      "source": [
        "max_length = 512 # The maximum length of a feature (question and context)\n",
        "doc_stride = 128 # The authorized overlap between two part of the context when splitting it is needed."
      ]
    },
    {
      "cell_type": "markdown",
      "metadata": {
        "id": "I7P0NkPVa5uL"
      },
      "source": [
        "Let's find one long example in our dataset:"
      ]
    },
    {
      "cell_type": "code",
      "execution_count": null,
      "metadata": {
        "id": "pD7pKYCla5uL"
      },
      "outputs": [],
      "source": [
        "for i, example in enumerate(datasets[\"train\"]):\n",
        "    if len(tokenizer(example[\"question\"], example[\"context\"])[\"input_ids\"]) > 384:\n",
        "        break\n",
        "example = datasets[\"train\"][i]"
      ]
    },
    {
      "cell_type": "markdown",
      "metadata": {
        "id": "KPsb2mHra5uL"
      },
      "source": [
        "Without any truncation, we get the following length for the input IDs:"
      ]
    },
    {
      "cell_type": "code",
      "execution_count": null,
      "metadata": {
        "colab": {
          "base_uri": "https://localhost:8080/"
        },
        "id": "l3yQIOWNa5uL",
        "outputId": "7de56a75-0b39-4487-fa13-6c1f34350d5d"
      },
      "outputs": [
        {
          "data": {
            "text/plain": [
              "437"
            ]
          },
          "execution_count": 22,
          "metadata": {},
          "output_type": "execute_result"
        }
      ],
      "source": [
        "len(tokenizer(example[\"question\"], example[\"context\"])[\"input_ids\"])"
      ]
    },
    {
      "cell_type": "markdown",
      "metadata": {
        "id": "5rHpITzwa5uM"
      },
      "source": [
        "Now, if we just truncate, we will lose information (and possibly the answer to our question):"
      ]
    },
    {
      "cell_type": "code",
      "execution_count": null,
      "metadata": {
        "colab": {
          "base_uri": "https://localhost:8080/"
        },
        "id": "FAt9brada5uM",
        "outputId": "e6259ad9-0995-48ea-c7e5-7ccab2ff7f7e"
      },
      "outputs": [
        {
          "data": {
            "text/plain": [
              "437"
            ]
          },
          "execution_count": 23,
          "metadata": {},
          "output_type": "execute_result"
        }
      ],
      "source": [
        "len(tokenizer(example[\"question\"], example[\"context\"], max_length=max_length, truncation=\"only_second\")[\"input_ids\"])"
      ]
    },
    {
      "cell_type": "markdown",
      "metadata": {
        "id": "_EXo2X8_a5uM"
      },
      "source": [
        "Note that we never want to truncate the question, only the context, else the `only_second` truncation picked. Now, our tokenizer can automatically return us a list of features capped by a certain maximum length, with the overlap we talked above, we just have to tell it with `return_overflowing_tokens=True` and by passing the stride:"
      ]
    },
    {
      "cell_type": "code",
      "execution_count": null,
      "metadata": {
        "id": "hzS8caOea5uM"
      },
      "outputs": [],
      "source": [
        "tokenized_example = tokenizer(\n",
        "    example[\"question\"],\n",
        "    example[\"context\"],\n",
        "    max_length=max_length,\n",
        "    truncation=\"only_second\",\n",
        "    return_overflowing_tokens=True,\n",
        "    stride=doc_stride\n",
        ")"
      ]
    },
    {
      "cell_type": "markdown",
      "metadata": {
        "id": "haO4sY3ha5uM"
      },
      "source": [
        "Now we don't have one list of `input_ids`, but several: "
      ]
    },
    {
      "cell_type": "code",
      "execution_count": null,
      "metadata": {
        "colab": {
          "base_uri": "https://localhost:8080/"
        },
        "id": "6dyRbMO5a5uM",
        "outputId": "71315a16-c547-4042-8a52-280b1f35cfcc"
      },
      "outputs": [
        {
          "data": {
            "text/plain": [
              "[437]"
            ]
          },
          "execution_count": 25,
          "metadata": {},
          "output_type": "execute_result"
        }
      ],
      "source": [
        "[len(x) for x in tokenized_example[\"input_ids\"]]"
      ]
    },
    {
      "cell_type": "markdown",
      "metadata": {
        "id": "WhomeXs8a5uM"
      },
      "source": [
        "And if we decode them, we can see the overlap:"
      ]
    },
    {
      "cell_type": "code",
      "execution_count": null,
      "metadata": {
        "colab": {
          "base_uri": "https://localhost:8080/"
        },
        "id": "D--ZMThla5uM",
        "outputId": "0000953b-8cb4-46d6-e0c8-a7d938c8bd6c"
      },
      "outputs": [
        {
          "name": "stdout",
          "output_type": "stream",
          "text": [
            "[CLS] beyonce got married in 2008 to whom? [SEP] on april 4, 2008, beyonce married jay z. she publicly revealed their marriage in a video montage at the listening party for her third studio album, i am... sasha fierce, in manhattan's sony club on october 22, 2008. i am... sasha fierce was released on november 18, 2008 in the united states. the album formally introduces beyonce's alter ego sasha fierce, conceived during the making of her 2003 single \" crazy in love \", selling 482, 000 copies in its first week, debuting atop the billboard 200, and giving beyonce her third consecutive number - one album in the us. the album featured the number - one song \" single ladies ( put a ring on it ) \" and the top - five songs \" if i were a boy \" and \" halo \". achieving the accomplishment of becoming her longest - running hot 100 single in her career, \" halo \"'s success in the us helped beyonce attain more top - ten singles on the list than any other woman during the 2000s. it also included the successful \" sweet dreams \", and singles \" diva \", \" ego \", \" broken - hearted girl \" and \" video phone \". the music video for \" single ladies \" has been parodied and imitated around the world, spawning the \" first major dance craze \" of the internet age according to the toronto star. the video has won several awards, including best video at the 2009 mtv europe music awards, the 2009 scottish mobo awards, and the 2009 bet awards. at the 2009 mtv video music awards, the video was nominated for nine awards, ultimately winning three including video of the year. its failure to win the best female video category, which went to american country pop singer taylor swift's \" you belong with me \", led to kanye west interrupting the ceremony and beyonce improvising a re - presentation of swift's award during her own acceptance speech. in march 2009, beyonce embarked on the i am... world tour, her second headlining worldwide concert tour, consisting of 108 shows, grossing $ 119. 5 million. [SEP]\n"
          ]
        }
      ],
      "source": [
        "for x in tokenized_example[\"input_ids\"][:2]:\n",
        "    print(tokenizer.decode(x))"
      ]
    },
    {
      "cell_type": "markdown",
      "metadata": {
        "id": "yv5FeBNva5uM"
      },
      "source": [
        "Now this will give us some work to properly treat the answers: we need to find in which of those features the answer actually is, and where exactly in that feature. The models we will use require the start and end positions of these answers in the tokens, so we will also need to to map parts of the original context to some tokens. Thankfully, the tokenizer we're using can help us with that by returning an `offset_mapping`:"
      ]
    },
    {
      "cell_type": "code",
      "execution_count": null,
      "metadata": {
        "colab": {
          "base_uri": "https://localhost:8080/"
        },
        "id": "gDfJVEZna5uM",
        "outputId": "4da33979-e4f0-4fd0-d4eb-7cb680cc1353"
      },
      "outputs": [
        {
          "name": "stdout",
          "output_type": "stream",
          "text": [
            "[(0, 0), (0, 7), (8, 11), (12, 19), (20, 22), (23, 27), (28, 30), (31, 35), (35, 36), (0, 0), (0, 2), (3, 8), (9, 10), (10, 11), (12, 16), (16, 17), (18, 25), (26, 33), (34, 37), (38, 39), (39, 40), (41, 44), (45, 53), (54, 62), (63, 68), (69, 77), (78, 80), (81, 82), (83, 88), (89, 93), (93, 96), (97, 99), (100, 103), (104, 113), (114, 119), (120, 123), (124, 127), (128, 133), (134, 140), (141, 146), (146, 147), (148, 149), (150, 152), (152, 153), (153, 154), (154, 155), (156, 161), (162, 168), (168, 169), (170, 172), (173, 182), (182, 183), (183, 184), (185, 189), (190, 194), (195, 197), (198, 205), (206, 208), (208, 209), (210, 214), (214, 215), (216, 217), (218, 220), (220, 221), (221, 222), (222, 223), (224, 229), (230, 236), (237, 240), (241, 249), (250, 252), (253, 261), (262, 264), (264, 265), (266, 270), (271, 273), (274, 277), (278, 284), (285, 291), (291, 292), (293, 296), (297, 302), (303, 311), (312, 322), (323, 330), (330, 331), (331, 332), (333, 338), (339, 342), (343, 348), (349, 355), (355, 356), (357, 366), (367, 373), (374, 377), (378, 384), (385, 387), (388, 391), (392, 396), (397, 403)]\n"
          ]
        }
      ],
      "source": [
        "tokenized_example = tokenizer(\n",
        "    example[\"question\"],\n",
        "    example[\"context\"],\n",
        "    max_length=max_length,\n",
        "    truncation=\"only_second\",\n",
        "    return_overflowing_tokens=True,\n",
        "    return_offsets_mapping=True,\n",
        "    stride=doc_stride\n",
        ")\n",
        "print(tokenized_example[\"offset_mapping\"][0][:100])"
      ]
    },
    {
      "cell_type": "markdown",
      "metadata": {
        "id": "9UfHNxEta5uM"
      },
      "source": [
        "This gives, for each index of our input IDS, the corresponding start and end character in the original text that gave our token. The very first token (`[CLS]`) has (0, 0) because it doesn't correspond to any part of the question/answer, then the second token is the same as the characters 0 to 3 of the question:"
      ]
    },
    {
      "cell_type": "code",
      "execution_count": null,
      "metadata": {
        "colab": {
          "base_uri": "https://localhost:8080/"
        },
        "id": "4WdHwFzla5uM",
        "outputId": "6be2aba6-f43b-4580-8c99-12923d46ee83"
      },
      "outputs": [
        {
          "name": "stdout",
          "output_type": "stream",
          "text": [
            "beyonce Beyonce\n"
          ]
        }
      ],
      "source": [
        "first_token_id = tokenized_example[\"input_ids\"][0][1]\n",
        "offsets = tokenized_example[\"offset_mapping\"][0][1]\n",
        "print(tokenizer.convert_ids_to_tokens([first_token_id])[0], example[\"question\"][offsets[0]:offsets[1]])"
      ]
    },
    {
      "cell_type": "markdown",
      "metadata": {
        "id": "5-HytVkLa5uM"
      },
      "source": [
        "So we can use this mapping to find the position of the start and end tokens of our answer in a given feature. We just have to distinguish which parts of the offsets correspond to the question and which part correspond to the context, this is where the `sequence_ids` method of our `tokenized_example` can be useful:"
      ]
    },
    {
      "cell_type": "code",
      "execution_count": null,
      "metadata": {
        "colab": {
          "base_uri": "https://localhost:8080/"
        },
        "id": "AzpoNVsna5uN",
        "outputId": "7c27db61-ec4b-4ae4-860a-2a07f5beb5b4"
      },
      "outputs": [
        {
          "name": "stdout",
          "output_type": "stream",
          "text": [
            "[None, 0, 0, 0, 0, 0, 0, 0, 0, None, 1, 1, 1, 1, 1, 1, 1, 1, 1, 1, 1, 1, 1, 1, 1, 1, 1, 1, 1, 1, 1, 1, 1, 1, 1, 1, 1, 1, 1, 1, 1, 1, 1, 1, 1, 1, 1, 1, 1, 1, 1, 1, 1, 1, 1, 1, 1, 1, 1, 1, 1, 1, 1, 1, 1, 1, 1, 1, 1, 1, 1, 1, 1, 1, 1, 1, 1, 1, 1, 1, 1, 1, 1, 1, 1, 1, 1, 1, 1, 1, 1, 1, 1, 1, 1, 1, 1, 1, 1, 1, 1, 1, 1, 1, 1, 1, 1, 1, 1, 1, 1, 1, 1, 1, 1, 1, 1, 1, 1, 1, 1, 1, 1, 1, 1, 1, 1, 1, 1, 1, 1, 1, 1, 1, 1, 1, 1, 1, 1, 1, 1, 1, 1, 1, 1, 1, 1, 1, 1, 1, 1, 1, 1, 1, 1, 1, 1, 1, 1, 1, 1, 1, 1, 1, 1, 1, 1, 1, 1, 1, 1, 1, 1, 1, 1, 1, 1, 1, 1, 1, 1, 1, 1, 1, 1, 1, 1, 1, 1, 1, 1, 1, 1, 1, 1, 1, 1, 1, 1, 1, 1, 1, 1, 1, 1, 1, 1, 1, 1, 1, 1, 1, 1, 1, 1, 1, 1, 1, 1, 1, 1, 1, 1, 1, 1, 1, 1, 1, 1, 1, 1, 1, 1, 1, 1, 1, 1, 1, 1, 1, 1, 1, 1, 1, 1, 1, 1, 1, 1, 1, 1, 1, 1, 1, 1, 1, 1, 1, 1, 1, 1, 1, 1, 1, 1, 1, 1, 1, 1, 1, 1, 1, 1, 1, 1, 1, 1, 1, 1, 1, 1, 1, 1, 1, 1, 1, 1, 1, 1, 1, 1, 1, 1, 1, 1, 1, 1, 1, 1, 1, 1, 1, 1, 1, 1, 1, 1, 1, 1, 1, 1, 1, 1, 1, 1, 1, 1, 1, 1, 1, 1, 1, 1, 1, 1, 1, 1, 1, 1, 1, 1, 1, 1, 1, 1, 1, 1, 1, 1, 1, 1, 1, 1, 1, 1, 1, 1, 1, 1, 1, 1, 1, 1, 1, 1, 1, 1, 1, 1, 1, 1, 1, 1, 1, 1, 1, 1, 1, 1, 1, 1, 1, 1, 1, 1, 1, 1, 1, 1, 1, 1, 1, 1, 1, 1, 1, 1, 1, 1, 1, 1, 1, 1, 1, 1, 1, 1, 1, 1, 1, 1, 1, 1, 1, 1, 1, 1, 1, 1, 1, 1, 1, 1, 1, 1, 1, 1, 1, 1, 1, 1, 1, 1, 1, 1, 1, 1, 1, 1, 1, 1, 1, 1, 1, 1, 1, None]\n"
          ]
        }
      ],
      "source": [
        "sequence_ids = tokenized_example.sequence_ids()\n",
        "print(sequence_ids)"
      ]
    },
    {
      "cell_type": "markdown",
      "metadata": {
        "id": "IEqmTFJoa5uN"
      },
      "source": [
        "It returns `None` for the special tokens, then 0 or 1 depending on whether the corresponding token comes from the first sentence past (the question) or the second (the context). Now with all of this, we can find the first and last token of the answer in one of our input feature (or if the answer is not in this feature):"
      ]
    },
    {
      "cell_type": "code",
      "execution_count": null,
      "metadata": {
        "colab": {
          "base_uri": "https://localhost:8080/"
        },
        "id": "Pii8gZNAa5uN",
        "outputId": "42ca6c1a-149d-43e6-95e0-f4c52477863d"
      },
      "outputs": [
        {
          "name": "stdout",
          "output_type": "stream",
          "text": [
            "18 19\n"
          ]
        }
      ],
      "source": [
        "answers = example[\"answers\"]\n",
        "start_char = answers[\"answer_start\"][0]\n",
        "end_char = start_char + len(answers[\"text\"][0])\n",
        "\n",
        "# Start token index of the current span in the text.\n",
        "token_start_index = 0\n",
        "while sequence_ids[token_start_index] != 1:\n",
        "    token_start_index += 1\n",
        "\n",
        "# End token index of the current span in the text.\n",
        "token_end_index = len(tokenized_example[\"input_ids\"][0]) - 1\n",
        "while sequence_ids[token_end_index] != 1:\n",
        "    token_end_index -= 1\n",
        "\n",
        "# Detect if the answer is out of the span (in which case this feature is labeled with the CLS index).\n",
        "offsets = tokenized_example[\"offset_mapping\"][0]\n",
        "if (offsets[token_start_index][0] <= start_char and offsets[token_end_index][1] >= end_char):\n",
        "    # Move the token_start_index and token_end_index to the two ends of the answer.\n",
        "    # Note: we could go after the last offset if the answer is the last word (edge case).\n",
        "    while token_start_index < len(offsets) and offsets[token_start_index][0] <= start_char:\n",
        "        token_start_index += 1\n",
        "    start_position = token_start_index - 1\n",
        "    while offsets[token_end_index][1] >= end_char:\n",
        "        token_end_index -= 1\n",
        "    end_position = token_end_index + 1\n",
        "    print(start_position, end_position)\n",
        "else:\n",
        "    print(\"The answer is not in this feature.\")"
      ]
    },
    {
      "cell_type": "markdown",
      "metadata": {
        "id": "Uy_ExJ4Ja5uN"
      },
      "source": [
        "And we can double check that it is indeed the theoretical answer:"
      ]
    },
    {
      "cell_type": "code",
      "execution_count": null,
      "metadata": {
        "colab": {
          "base_uri": "https://localhost:8080/"
        },
        "id": "64pyL4ffa5uN",
        "outputId": "bd3582dc-2dda-4ca2-eb61-c33f57412415"
      },
      "outputs": [
        {
          "name": "stdout",
          "output_type": "stream",
          "text": [
            "jay z\n",
            "Jay Z\n"
          ]
        }
      ],
      "source": [
        "print(tokenizer.decode(tokenized_example[\"input_ids\"][0][start_position: end_position+1]))\n",
        "print(answers[\"text\"][0])"
      ]
    },
    {
      "cell_type": "markdown",
      "metadata": {
        "id": "T9nfpVgVa5uN"
      },
      "source": [
        "For this notebook to work with any kind of models, we need to account for the special case where the model expects padding on the left (in which case we switch the order of the question and the context):"
      ]
    },
    {
      "cell_type": "code",
      "execution_count": null,
      "metadata": {
        "id": "ylsoJJcLa5uN"
      },
      "outputs": [],
      "source": [
        "pad_on_right = tokenizer.padding_side == \"right\""
      ]
    },
    {
      "cell_type": "markdown",
      "metadata": {
        "id": "RmQ1eadYa5uN"
      },
      "source": [
        "Now let's put everything together in one function we will apply to our training set. In the case of impossible answers (the answer is in another feature given by an example with a long context), we set the cls index for both the start and end position. We could also simply discard those examples from the training set if the flag `allow_impossible_answers` is `False`. Since the preprocessing is already complex enough as it is, we've kept is simple for this part."
      ]
    },
    {
      "cell_type": "code",
      "execution_count": null,
      "metadata": {
        "id": "UXJqdMkBa5uN"
      },
      "outputs": [],
      "source": [
        "def prepare_train_features(examples):\n",
        "    # Some of the questions have lots of whitespace on the left, which is not useful and will make the\n",
        "    # truncation of the context fail (the tokenized question will take a lots of space). So we remove that\n",
        "    # left whitespace\n",
        "    examples[\"question\"] = [q.lstrip() for q in examples[\"question\"]]\n",
        "\n",
        "    # Tokenize our examples with truncation and padding, but keep the overflows using a stride. This results\n",
        "    # in one example possible giving several features when a context is long, each of those features having a\n",
        "    # context that overlaps a bit the context of the previous feature.\n",
        "    tokenized_examples = tokenizer(\n",
        "        examples[\"question\" if pad_on_right else \"context\"],\n",
        "        examples[\"context\" if pad_on_right else \"question\"],\n",
        "        truncation=\"only_second\" if pad_on_right else \"only_first\",\n",
        "        max_length=max_length,\n",
        "        stride=doc_stride,\n",
        "        return_overflowing_tokens=True,\n",
        "        return_offsets_mapping=True,\n",
        "        padding=\"max_length\",\n",
        "    )\n",
        "\n",
        "    # Since one example might give us several features if it has a long context, we need a map from a feature to\n",
        "    # its corresponding example. This key gives us just that.\n",
        "    sample_mapping = tokenized_examples.pop(\"overflow_to_sample_mapping\")\n",
        "    # The offset mappings will give us a map from token to character position in the original context. This will\n",
        "    # help us compute the start_positions and end_positions.\n",
        "    offset_mapping = tokenized_examples.pop(\"offset_mapping\")\n",
        "\n",
        "    # Let's label those examples!\n",
        "    tokenized_examples[\"start_positions\"] = []\n",
        "    tokenized_examples[\"end_positions\"] = []\n",
        "\n",
        "    for i, offsets in enumerate(offset_mapping):\n",
        "        # We will label impossible answers with the index of the CLS token.\n",
        "        input_ids = tokenized_examples[\"input_ids\"][i]\n",
        "        cls_index = input_ids.index(tokenizer.cls_token_id)\n",
        "\n",
        "        # Grab the sequence corresponding to that example (to know what is the context and what is the question).\n",
        "        sequence_ids = tokenized_examples.sequence_ids(i)\n",
        "\n",
        "        # One example can give several spans, this is the index of the example containing this span of text.\n",
        "        sample_index = sample_mapping[i]\n",
        "        answers = examples[\"answers\"][sample_index]\n",
        "        # If no answers are given, set the cls_index as answer.\n",
        "        if len(answers[\"answer_start\"]) == 0:\n",
        "            tokenized_examples[\"start_positions\"].append(cls_index)\n",
        "            tokenized_examples[\"end_positions\"].append(cls_index)\n",
        "        else:\n",
        "            # Start/end character index of the answer in the text.\n",
        "            start_char = answers[\"answer_start\"][0]\n",
        "            end_char = start_char + len(answers[\"text\"][0])\n",
        "\n",
        "            # Start token index of the current span in the text.\n",
        "            token_start_index = 0\n",
        "            while sequence_ids[token_start_index] != (1 if pad_on_right else 0):\n",
        "                token_start_index += 1\n",
        "\n",
        "            # End token index of the current span in the text.\n",
        "            token_end_index = len(input_ids) - 1\n",
        "            while sequence_ids[token_end_index] != (1 if pad_on_right else 0):\n",
        "                token_end_index -= 1\n",
        "\n",
        "            # Detect if the answer is out of the span (in which case this feature is labeled with the CLS index).\n",
        "            if not (offsets[token_start_index][0] <= start_char and offsets[token_end_index][1] >= end_char):\n",
        "                tokenized_examples[\"start_positions\"].append(cls_index)\n",
        "                tokenized_examples[\"end_positions\"].append(cls_index)\n",
        "            else:\n",
        "                # Otherwise move the token_start_index and token_end_index to the two ends of the answer.\n",
        "                # Note: we could go after the last offset if the answer is the last word (edge case).\n",
        "                while token_start_index < len(offsets) and offsets[token_start_index][0] <= start_char:\n",
        "                    token_start_index += 1\n",
        "                tokenized_examples[\"start_positions\"].append(token_start_index - 1)\n",
        "                while offsets[token_end_index][1] >= end_char:\n",
        "                    token_end_index -= 1\n",
        "                tokenized_examples[\"end_positions\"].append(token_end_index + 1)\n",
        "\n",
        "    return tokenized_examples"
      ]
    },
    {
      "cell_type": "markdown",
      "metadata": {
        "id": "0lm8ozrJIrJR"
      },
      "source": [
        "This function works with one or several examples. In the case of several examples, the tokenizer will return a list of lists for each key:"
      ]
    },
    {
      "cell_type": "code",
      "execution_count": null,
      "metadata": {
        "id": "-b70jh26IrJS"
      },
      "outputs": [],
      "source": [
        "features = prepare_train_features(datasets['train'][:5])"
      ]
    },
    {
      "cell_type": "markdown",
      "metadata": {
        "id": "zS-6iXTkIrJT"
      },
      "source": [
        "To apply this function on all the sentences (or pairs of sentences) in our dataset, we just use the `map` method of our `dataset` object we created earlier. This will apply the function on all the elements of all the splits in `dataset`, so our training, validation and testing data will be preprocessed in one single command. Since our preprocessing changes the number of samples, we need to remove the old columns when applying it."
      ]
    },
    {
      "cell_type": "code",
      "execution_count": null,
      "metadata": {
        "colab": {
          "base_uri": "https://localhost:8080/"
        },
        "id": "DDtsaJeVIrJT",
        "outputId": "e9bfc3bb-b3ec-4695-b98f-c947ea86bf6e"
      },
      "outputs": [
        {
          "data": {
            "application/vnd.jupyter.widget-view+json": {
              "model_id": "392e7d02ee3e4a86aafd4b09cd335ce2",
              "version_major": 2,
              "version_minor": 0
            },
            "text/plain": [
              "  0%|          | 0/131 [00:00<?, ?ba/s]"
            ]
          },
          "metadata": {},
          "output_type": "display_data"
        },
        {
          "data": {
            "application/vnd.jupyter.widget-view+json": {
              "model_id": "5e19bc90a422499f919a65de9943cec9",
              "version_major": 2,
              "version_minor": 0
            },
            "text/plain": [
              "  0%|          | 0/12 [00:00<?, ?ba/s]"
            ]
          },
          "metadata": {},
          "output_type": "display_data"
        }
      ],
      "source": [
        "tokenized_datasets = datasets.map(prepare_train_features, batched=True, remove_columns=datasets[\"train\"].column_names)"
      ]
    },
    {
      "cell_type": "markdown",
      "metadata": {
        "id": "voWiw8C7IrJV"
      },
      "source": [
        "Even better, the results are automatically cached by the 🤗 Datasets library to avoid spending time on this step the next time you run your notebook. The 🤗 Datasets library is normally smart enough to detect when the function you pass to map has changed (and thus requires to not use the cache data). For instance, it will properly detect if you change the task in the first cell and rerun the notebook. 🤗 Datasets warns you when it uses cached files, you can pass `load_from_cache_file=False` in the call to `map` to not use the cached files and force the preprocessing to be applied again.\n",
        "\n",
        "Note that we passed `batched=True` to encode the texts by batches together. This is to leverage the full benefit of the fast tokenizer we loaded earlier, which will use multi-threading to treat the texts in a batch concurrently."
      ]
    },
    {
      "cell_type": "markdown",
      "metadata": {
        "id": "545PP3o8IrJV"
      },
      "source": [
        "## Fine-tuning the model"
      ]
    },
    {
      "cell_type": "markdown",
      "metadata": {
        "id": "FBiW8UpKIrJW"
      },
      "source": [
        "Now that our data is ready for training, we can download the pretrained model and fine-tune it. Since our task is question answering, we use the `AutoModelForQuestionAnswering` class. Like with the tokenizer, the `from_pretrained` method will download and cache the model for us:"
      ]
    },
    {
      "cell_type": "code",
      "execution_count": null,
      "metadata": {
        "colab": {
          "base_uri": "https://localhost:8080/"
        },
        "id": "zdl-yGE4Hj9w",
        "outputId": "6057d37e-f96e-4ad1-95c2-92419467b6bf"
      },
      "outputs": [
        {
          "data": {
            "text/plain": [
              "<module 'transformers' from '/usr/local/lib/python3.8/dist-packages/transformers/__init__.py'>"
            ]
          },
          "execution_count": 36,
          "metadata": {},
          "output_type": "execute_result"
        }
      ],
      "source": [
        "transformers"
      ]
    },
    {
      "cell_type": "code",
      "execution_count": null,
      "metadata": {
        "colab": {
          "base_uri": "https://localhost:8080/",
          "height": 158
        },
        "id": "TlqNaB8jIrJW",
        "outputId": "91af6f47-35ec-4408-85e8-bf38c45962a2"
      },
      "outputs": [
        {
          "data": {
            "application/vnd.jupyter.widget-view+json": {
              "model_id": "4412e970ab06470f9d3ef74c24615754",
              "version_major": 2,
              "version_minor": 0
            },
            "text/plain": [
              "Downloading:   0%|          | 0.00/268M [00:00<?, ?B/s]"
            ]
          },
          "metadata": {},
          "output_type": "display_data"
        },
        {
          "name": "stderr",
          "output_type": "stream",
          "text": [
            "Some weights of the model checkpoint at distilbert-base-uncased were not used when initializing DistilBertForQuestionAnswering: ['vocab_projector.bias', 'vocab_layer_norm.weight', 'vocab_transform.bias', 'vocab_layer_norm.bias', 'vocab_projector.weight', 'vocab_transform.weight']\n",
            "- This IS expected if you are initializing DistilBertForQuestionAnswering from the checkpoint of a model trained on another task or with another architecture (e.g. initializing a BertForSequenceClassification model from a BertForPreTraining model).\n",
            "- This IS NOT expected if you are initializing DistilBertForQuestionAnswering from the checkpoint of a model that you expect to be exactly identical (initializing a BertForSequenceClassification model from a BertForSequenceClassification model).\n",
            "Some weights of DistilBertForQuestionAnswering were not initialized from the model checkpoint at distilbert-base-uncased and are newly initialized: ['qa_outputs.bias', 'qa_outputs.weight']\n",
            "You should probably TRAIN this model on a down-stream task to be able to use it for predictions and inference.\n"
          ]
        }
      ],
      "source": [
        "from transformers import AutoModelForQuestionAnswering, TrainingArguments, Trainer\n",
        "\n",
        "model = AutoModelForQuestionAnswering.from_pretrained(model_checkpoint)"
      ]
    },
    {
      "cell_type": "markdown",
      "metadata": {
        "id": "CczA5lJlIrJX"
      },
      "source": [
        "The warning is telling us we are throwing away some weights (the `vocab_transform` and `vocab_layer_norm` layers) and randomly initializing some other (the `pre_classifier` and `classifier` layers). This is absolutely normal in this case, because we are removing the head used to pretrain the model on a masked language modeling objective and replacing it with a new head for which we don't have pretrained weights, so the library warns us we should fine-tune this model before using it for inference, which is exactly what we are going to do."
      ]
    },
    {
      "cell_type": "markdown",
      "metadata": {
        "id": "_N8urzhyIrJY"
      },
      "source": [
        "To instantiate a `Trainer`, we will need to define three more things. The most important is the [`TrainingArguments`](https://huggingface.co/transformers/main_classes/trainer.html#transformers.TrainingArguments), which is a class that contains all the attributes to customize the training. It requires one folder name, which will be used to save the checkpoints of the model, and all other arguments are optional:"
      ]
    },
    {
      "cell_type": "code",
      "execution_count": null,
      "metadata": {
        "id": "Bliy8zgjIrJY"
      },
      "outputs": [],
      "source": [
        "model_name = model_checkpoint.split(\"/\")[-1]\n",
        "args = TrainingArguments(\n",
        "    f\"{model_name}-finetuned-squad\",\n",
        "    evaluation_strategy = \"epoch\",\n",
        "    learning_rate=2e-5,\n",
        "    per_device_train_batch_size=batch_size,\n",
        "    per_device_eval_batch_size=batch_size,\n",
        "    num_train_epochs=3,\n",
        "    weight_decay=0.01,\n",
        "    push_to_hub=False,\n",
        ")"
      ]
    },
    {
      "cell_type": "markdown",
      "metadata": {
        "id": "km3pGVdTIrJc"
      },
      "source": [
        "Here we set the evaluation to be done at the end of each epoch, tweak the learning rate, use the `batch_size` defined at the top of the notebook and customize the number of epochs for training, as well as the weight decay.\n",
        "\n",
        "The last argument to setup everything so we can push the model to the [Hub](https://huggingface.co/models) regularly during training. Remove it if you didn't follow the installation steps at the top of the notebook. If you want to save your model locally in a name that is different than the name of the repository it will be pushed, or if you want to push your model under an organization and not your name space, use the `hub_model_id` argument to set the repo name (it needs to be the full name, including your namespace: for instance `\"sgugger/bert-finetuned-squad\"` or `\"huggingface/bert-finetuned-squad\"`)."
      ]
    },
    {
      "cell_type": "markdown",
      "metadata": {
        "id": "SAiAFxeWa5uO"
      },
      "source": [
        "Then we will need a data collator that will batch our processed examples together, here the default one will work:"
      ]
    },
    {
      "cell_type": "code",
      "execution_count": null,
      "metadata": {
        "id": "wEsZfz2Sa5uO"
      },
      "outputs": [],
      "source": [
        "from transformers import default_data_collator\n",
        "\n",
        "data_collator = default_data_collator"
      ]
    },
    {
      "cell_type": "markdown",
      "metadata": {
        "id": "rXuFTAzDIrJe"
      },
      "source": [
        "We will evaluate our model and compute metrics in the next section (this is a very long operation, so we will only compute the evaluation loss during training).\n",
        "\n",
        "Then we just need to pass all of this along with our datasets to the `Trainer`:"
      ]
    },
    {
      "cell_type": "markdown",
      "metadata": {
        "id": "3MntQqw9CoNK"
      },
      "source": [
        "# model architecture changes to question answer"
      ]
    },
    {
      "cell_type": "code",
      "execution_count": null,
      "metadata": {
        "id": "pkQLFwSwCvaj"
      },
      "outputs": [],
      "source": [
        "from transformers import BertPreTrainedModel, BertModel\n",
        "from torch.nn import CrossEntropyLoss\n",
        "from transformers.modeling_outputs import QuestionAnsweringModelOutput\n",
        "import torch.nn as nn"
      ]
    },
    {
      "cell_type": "code",
      "execution_count": null,
      "metadata": {
        "id": "dZqsp1xCH4P7"
      },
      "outputs": [],
      "source": [
        "class questionAnswering(BertPreTrainedModel):\n",
        "  def __init__(self, config):\n",
        "    super().__init__(config)\n",
        "    self.num_labels = config.num_labels\n",
        "\n",
        "    self.bert = BertModel(config, add_pooling_layer=False)\n",
        "    self.qa_outputs = nn.Linear(config.hidden_size, config.num_labels)\n",
        "\n",
        "    # Initialize weights and apply final processing\n",
        "    self.post_init()\n",
        "    \n",
        "  \n",
        "  def forward(\n",
        "      self,\n",
        "      input_ids=None,\n",
        "      attention_mask=None,\n",
        "      token_type_ids=None,\n",
        "      position_ids=None,\n",
        "      head_mask=None,\n",
        "      inputs_embeds=None,\n",
        "      start_positions=None,\n",
        "      end_positions=None,\n",
        "      output_attentions=None,\n",
        "      output_hidden_states=None,\n",
        "      return_dict=None,\n",
        "  ):\n",
        "      r\"\"\"\n",
        "      start_positions (`torch.LongTensor` of shape `(batch_size,)`, *optional*):\n",
        "          Labels for position (index) of the start of the labelled span for computing the token classification loss.\n",
        "          Positions are clamped to the length of the sequence (`sequence_length`). Position outside of the sequence\n",
        "          are not taken into account for computing the loss.\n",
        "      end_positions (`torch.LongTensor` of shape `(batch_size,)`, *optional*):\n",
        "          Labels for position (index) of the end of the labelled span for computing the token classification loss.\n",
        "          Positions are clamped to the length of the sequence (`sequence_length`). Position outside of the sequence\n",
        "          are not taken into account for computing the loss.\n",
        "      \"\"\"\n",
        "      return_dict = return_dict if return_dict is not None else self.config.use_return_dict\n",
        "\n",
        "      outputs = self.bert(\n",
        "          input_ids,\n",
        "          attention_mask=attention_mask,\n",
        "          token_type_ids=token_type_ids,\n",
        "          position_ids=position_ids,\n",
        "          head_mask=head_mask,\n",
        "          inputs_embeds=inputs_embeds,\n",
        "          output_attentions=output_attentions,\n",
        "          output_hidden_states=output_hidden_states,\n",
        "          return_dict=return_dict,\n",
        "      )\n",
        "\n",
        "      sequence_output = outputs[0]\n",
        "\n",
        "      logits = self.qa_outputs(sequence_output)\n",
        "      start_logits, end_logits = logits.split(1, dim=-1)\n",
        "      start_logits = start_logits.squeeze(-1).contiguous()\n",
        "      end_logits = end_logits.squeeze(-1).contiguous()\n",
        "\n",
        "      total_loss = None\n",
        "      if start_positions is not None and end_positions is not None:\n",
        "          # If we are on multi-GPU, split add a dimension\n",
        "          if len(start_positions.size()) > 1:\n",
        "              start_positions = start_positions.squeeze(-1)\n",
        "          if len(end_positions.size()) > 1:\n",
        "              end_positions = end_positions.squeeze(-1)\n",
        "          # sometimes the start/end positions are outside our model inputs, we ignore these terms\n",
        "          ignored_index = start_logits.size(1)\n",
        "          start_positions = start_positions.clamp(0, ignored_index)\n",
        "          end_positions = end_positions.clamp(0, ignored_index)\n",
        "\n",
        "          loss_fct = CrossEntropyLoss(ignore_index=ignored_index)\n",
        "          start_loss = loss_fct(start_logits, start_positions)\n",
        "          end_loss = loss_fct(end_logits, end_positions)\n",
        "          total_loss = (start_loss + end_loss) / 2\n",
        "\n",
        "      if not return_dict:\n",
        "          output = (start_logits, end_logits) + outputs[2:]\n",
        "          return ((total_loss,) + output) if total_loss is not None else output\n",
        "\n",
        "      return QuestionAnsweringModelOutput(\n",
        "          loss=total_loss,\n",
        "          start_logits=start_logits,\n",
        "          end_logits=end_logits,\n",
        "          hidden_states=outputs.hidden_states,\n",
        "          attentions=outputs.attentions,\n",
        "      )"
      ]
    },
    {
      "cell_type": "code",
      "execution_count": null,
      "metadata": {
        "colab": {
          "base_uri": "https://localhost:8080/"
        },
        "id": "gDhy6blOKena",
        "outputId": "aad51461-f1b8-491e-9132-62eb8efc17a0"
      },
      "outputs": [
        {
          "name": "stderr",
          "output_type": "stream",
          "text": [
            "You are using a model of type distilbert to instantiate a model of type bert. This is not supported for all configurations of models and can yield errors.\n",
            "Some weights of the model checkpoint at distilbert-base-uncased were not used when initializing questionAnswering: ['distilbert.transformer.layer.5.ffn.lin2.weight', 'distilbert.transformer.layer.5.sa_layer_norm.bias', 'distilbert.transformer.layer.5.ffn.lin1.weight', 'distilbert.transformer.layer.0.ffn.lin1.weight', 'vocab_transform.bias', 'distilbert.transformer.layer.2.attention.k_lin.bias', 'distilbert.transformer.layer.3.attention.out_lin.weight', 'distilbert.transformer.layer.4.attention.q_lin.bias', 'distilbert.transformer.layer.0.attention.q_lin.weight', 'distilbert.transformer.layer.3.sa_layer_norm.weight', 'vocab_projector.bias', 'distilbert.transformer.layer.4.attention.k_lin.bias', 'distilbert.transformer.layer.4.sa_layer_norm.weight', 'distilbert.transformer.layer.1.attention.k_lin.bias', 'distilbert.transformer.layer.0.attention.k_lin.bias', 'distilbert.transformer.layer.4.attention.out_lin.bias', 'distilbert.transformer.layer.4.ffn.lin2.weight', 'distilbert.transformer.layer.2.sa_layer_norm.bias', 'distilbert.transformer.layer.3.ffn.lin1.bias', 'distilbert.embeddings.position_embeddings.weight', 'distilbert.embeddings.word_embeddings.weight', 'distilbert.transformer.layer.1.ffn.lin1.weight', 'distilbert.transformer.layer.3.attention.q_lin.weight', 'distilbert.embeddings.LayerNorm.bias', 'distilbert.transformer.layer.0.sa_layer_norm.weight', 'distilbert.transformer.layer.1.output_layer_norm.bias', 'distilbert.transformer.layer.3.attention.q_lin.bias', 'distilbert.transformer.layer.5.attention.v_lin.weight', 'distilbert.transformer.layer.1.attention.v_lin.weight', 'distilbert.transformer.layer.2.attention.k_lin.weight', 'distilbert.transformer.layer.0.attention.out_lin.bias', 'distilbert.transformer.layer.0.ffn.lin2.weight', 'distilbert.transformer.layer.3.attention.v_lin.bias', 'distilbert.transformer.layer.2.attention.v_lin.bias', 'distilbert.transformer.layer.0.sa_layer_norm.bias', 'distilbert.transformer.layer.0.ffn.lin1.bias', 'distilbert.transformer.layer.0.ffn.lin2.bias', 'distilbert.transformer.layer.0.attention.k_lin.weight', 'vocab_layer_norm.weight', 'distilbert.transformer.layer.1.ffn.lin1.bias', 'distilbert.transformer.layer.5.attention.q_lin.bias', 'distilbert.transformer.layer.0.attention.q_lin.bias', 'distilbert.transformer.layer.3.attention.v_lin.weight', 'distilbert.transformer.layer.2.attention.out_lin.weight', 'distilbert.transformer.layer.2.ffn.lin2.weight', 'distilbert.transformer.layer.5.attention.out_lin.weight', 'distilbert.transformer.layer.5.attention.out_lin.bias', 'distilbert.transformer.layer.2.attention.q_lin.weight', 'distilbert.transformer.layer.1.attention.out_lin.weight', 'distilbert.transformer.layer.5.ffn.lin1.bias', 'distilbert.transformer.layer.1.attention.v_lin.bias', 'distilbert.transformer.layer.5.attention.k_lin.bias', 'vocab_layer_norm.bias', 'distilbert.transformer.layer.0.output_layer_norm.bias', 'distilbert.transformer.layer.2.attention.q_lin.bias', 'distilbert.transformer.layer.4.ffn.lin1.weight', 'distilbert.embeddings.LayerNorm.weight', 'distilbert.transformer.layer.1.attention.q_lin.bias', 'distilbert.transformer.layer.5.output_layer_norm.bias', 'vocab_transform.weight', 'distilbert.transformer.layer.5.ffn.lin2.bias', 'distilbert.transformer.layer.3.sa_layer_norm.bias', 'distilbert.transformer.layer.0.attention.v_lin.weight', 'distilbert.transformer.layer.4.attention.v_lin.bias', 'distilbert.transformer.layer.4.attention.out_lin.weight', 'distilbert.transformer.layer.1.output_layer_norm.weight', 'distilbert.transformer.layer.1.ffn.lin2.weight', 'distilbert.transformer.layer.3.output_layer_norm.bias', 'distilbert.transformer.layer.2.ffn.lin1.bias', 'distilbert.transformer.layer.2.output_layer_norm.weight', 'distilbert.transformer.layer.3.ffn.lin1.weight', 'distilbert.transformer.layer.4.output_layer_norm.bias', 'distilbert.transformer.layer.5.output_layer_norm.weight', 'distilbert.transformer.layer.4.attention.v_lin.weight', 'distilbert.transformer.layer.3.attention.k_lin.weight', 'distilbert.transformer.layer.3.attention.k_lin.bias', 'distilbert.transformer.layer.4.ffn.lin1.bias', 'distilbert.transformer.layer.4.ffn.lin2.bias', 'vocab_projector.weight', 'distilbert.transformer.layer.5.attention.k_lin.weight', 'distilbert.transformer.layer.1.attention.k_lin.weight', 'distilbert.transformer.layer.2.attention.v_lin.weight', 'distilbert.transformer.layer.5.sa_layer_norm.weight', 'distilbert.transformer.layer.4.attention.k_lin.weight', 'distilbert.transformer.layer.4.sa_layer_norm.bias', 'distilbert.transformer.layer.2.ffn.lin1.weight', 'distilbert.transformer.layer.1.sa_layer_norm.weight', 'distilbert.transformer.layer.4.attention.q_lin.weight', 'distilbert.transformer.layer.3.ffn.lin2.weight', 'distilbert.transformer.layer.2.attention.out_lin.bias', 'distilbert.transformer.layer.2.ffn.lin2.bias', 'distilbert.transformer.layer.5.attention.v_lin.bias', 'distilbert.transformer.layer.3.ffn.lin2.bias', 'distilbert.transformer.layer.0.attention.out_lin.weight', 'distilbert.transformer.layer.0.attention.v_lin.bias', 'distilbert.transformer.layer.2.sa_layer_norm.weight', 'distilbert.transformer.layer.4.output_layer_norm.weight', 'distilbert.transformer.layer.3.attention.out_lin.bias', 'distilbert.transformer.layer.3.output_layer_norm.weight', 'distilbert.transformer.layer.0.output_layer_norm.weight', 'distilbert.transformer.layer.1.sa_layer_norm.bias', 'distilbert.transformer.layer.2.output_layer_norm.bias', 'distilbert.transformer.layer.1.attention.out_lin.bias', 'distilbert.transformer.layer.1.ffn.lin2.bias', 'distilbert.transformer.layer.5.attention.q_lin.weight', 'distilbert.transformer.layer.1.attention.q_lin.weight']\n",
            "- This IS expected if you are initializing questionAnswering from the checkpoint of a model trained on another task or with another architecture (e.g. initializing a BertForSequenceClassification model from a BertForPreTraining model).\n",
            "- This IS NOT expected if you are initializing questionAnswering from the checkpoint of a model that you expect to be exactly identical (initializing a BertForSequenceClassification model from a BertForSequenceClassification model).\n",
            "Some weights of questionAnswering were not initialized from the model checkpoint at distilbert-base-uncased and are newly initialized: ['encoder.layer.3.output.dense.bias', 'encoder.layer.2.attention.self.query.weight', 'encoder.layer.5.output.dense.bias', 'encoder.layer.4.attention.output.LayerNorm.bias', 'encoder.layer.10.output.dense.weight', 'encoder.layer.6.attention.output.dense.bias', 'encoder.layer.0.output.LayerNorm.weight', 'encoder.layer.7.output.LayerNorm.bias', 'encoder.layer.7.intermediate.dense.weight', 'encoder.layer.0.attention.self.query.bias', 'encoder.layer.9.output.LayerNorm.bias', 'encoder.layer.9.attention.self.value.weight', 'encoder.layer.9.attention.self.query.weight', 'encoder.layer.10.output.LayerNorm.bias', 'encoder.layer.8.output.dense.bias', 'embeddings.token_type_embeddings.weight', 'encoder.layer.7.attention.self.query.bias', 'encoder.layer.9.output.dense.weight', 'encoder.layer.2.attention.self.value.weight', 'encoder.layer.7.attention.output.dense.weight', 'encoder.layer.7.attention.output.LayerNorm.weight', 'encoder.layer.1.attention.output.dense.bias', 'encoder.layer.1.attention.output.LayerNorm.weight', 'encoder.layer.4.intermediate.dense.bias', 'encoder.layer.4.attention.self.value.bias', 'encoder.layer.5.intermediate.dense.weight', 'encoder.layer.5.output.LayerNorm.bias', 'encoder.layer.1.intermediate.dense.bias', 'encoder.layer.3.attention.self.value.bias', 'encoder.layer.5.attention.output.dense.bias', 'encoder.layer.1.attention.self.value.weight', 'embeddings.LayerNorm.weight', 'encoder.layer.1.output.LayerNorm.weight', 'encoder.layer.10.attention.self.value.bias', 'encoder.layer.3.attention.output.LayerNorm.weight', 'encoder.layer.9.attention.output.LayerNorm.weight', 'encoder.layer.8.intermediate.dense.bias', 'encoder.layer.4.attention.output.dense.weight', 'encoder.layer.7.output.LayerNorm.weight', 'encoder.layer.6.intermediate.dense.bias', 'encoder.layer.0.attention.self.key.bias', 'encoder.layer.9.attention.output.LayerNorm.bias', 'embeddings.word_embeddings.weight', 'encoder.layer.5.attention.self.query.bias', 'encoder.layer.3.attention.output.LayerNorm.bias', 'embeddings.position_embeddings.weight', 'encoder.layer.6.intermediate.dense.weight', 'encoder.layer.3.output.dense.weight', 'encoder.layer.4.attention.self.key.bias', 'encoder.layer.1.attention.self.key.bias', 'encoder.layer.8.attention.output.LayerNorm.weight', 'encoder.layer.7.output.dense.bias', 'encoder.layer.9.output.LayerNorm.weight', 'encoder.layer.9.attention.self.key.weight', 'encoder.layer.11.intermediate.dense.bias', 'encoder.layer.7.attention.self.value.bias', 'encoder.layer.10.attention.self.query.bias', 'encoder.layer.4.output.dense.weight', 'encoder.layer.5.attention.output.dense.weight', 'encoder.layer.3.intermediate.dense.weight', 'encoder.layer.2.attention.self.query.bias', 'encoder.layer.6.attention.output.LayerNorm.weight', 'encoder.layer.0.attention.self.query.weight', 'encoder.layer.2.attention.self.value.bias', 'encoder.layer.5.output.LayerNorm.weight', 'encoder.layer.9.attention.self.query.bias', 'encoder.layer.3.intermediate.dense.bias', 'encoder.layer.10.attention.self.query.weight', 'encoder.layer.11.output.LayerNorm.bias', 'encoder.layer.6.output.LayerNorm.weight', 'encoder.layer.5.attention.self.key.bias', 'encoder.layer.6.attention.output.dense.weight', 'encoder.layer.8.output.LayerNorm.weight', 'encoder.layer.10.attention.output.dense.weight', 'embeddings.LayerNorm.bias', 'encoder.layer.0.attention.self.value.bias', 'encoder.layer.4.attention.self.value.weight', 'encoder.layer.0.attention.self.value.weight', 'encoder.layer.6.attention.self.key.bias', 'encoder.layer.6.output.dense.bias', 'encoder.layer.11.attention.output.LayerNorm.bias', 'encoder.layer.0.output.dense.weight', 'encoder.layer.6.attention.self.value.weight', 'encoder.layer.2.attention.self.key.bias', 'encoder.layer.10.attention.self.value.weight', 'encoder.layer.9.attention.self.key.bias', 'encoder.layer.11.attention.self.value.weight', 'encoder.layer.5.attention.output.LayerNorm.bias', 'encoder.layer.6.attention.self.query.bias', 'encoder.layer.2.output.LayerNorm.bias', 'encoder.layer.1.intermediate.dense.weight', 'encoder.layer.10.attention.output.dense.bias', 'encoder.layer.4.output.dense.bias', 'encoder.layer.11.attention.output.dense.bias', 'encoder.layer.7.intermediate.dense.bias', 'encoder.layer.1.attention.self.query.bias', 'encoder.layer.1.attention.output.dense.weight', 'qa_outputs.bias', 'encoder.layer.7.attention.self.key.bias', 'encoder.layer.1.output.LayerNorm.bias', 'encoder.layer.7.attention.self.value.weight', 'encoder.layer.4.intermediate.dense.weight', 'encoder.layer.8.intermediate.dense.weight', 'encoder.layer.1.attention.self.query.weight', 'encoder.layer.6.attention.self.query.weight', 'encoder.layer.10.attention.output.LayerNorm.bias', 'encoder.layer.0.attention.self.key.weight', 'encoder.layer.4.output.LayerNorm.weight', 'encoder.layer.5.attention.output.LayerNorm.weight', 'encoder.layer.2.attention.self.key.weight', 'encoder.layer.3.attention.self.query.bias', 'encoder.layer.11.attention.output.LayerNorm.weight', 'encoder.layer.4.attention.self.query.bias', 'encoder.layer.0.attention.output.dense.weight', 'encoder.layer.0.output.LayerNorm.bias', 'encoder.layer.8.attention.output.dense.bias', 'encoder.layer.10.output.LayerNorm.weight', 'encoder.layer.0.intermediate.dense.bias', 'encoder.layer.2.intermediate.dense.weight', 'encoder.layer.8.attention.self.query.bias', 'encoder.layer.9.attention.output.dense.weight', 'encoder.layer.8.attention.self.value.weight', 'encoder.layer.0.intermediate.dense.weight', 'encoder.layer.2.output.dense.weight', 'encoder.layer.1.attention.self.value.bias', 'encoder.layer.9.intermediate.dense.bias', 'encoder.layer.10.attention.self.key.weight', 'encoder.layer.3.attention.self.key.weight', 'encoder.layer.11.attention.self.key.weight', 'encoder.layer.4.attention.output.dense.bias', 'encoder.layer.2.output.dense.bias', 'encoder.layer.3.attention.output.dense.bias', 'encoder.layer.10.attention.self.key.bias', 'encoder.layer.8.attention.self.query.weight', 'encoder.layer.0.output.dense.bias', 'encoder.layer.2.attention.output.LayerNorm.weight', 'encoder.layer.11.attention.self.query.bias', 'encoder.layer.0.attention.output.LayerNorm.bias', 'encoder.layer.1.output.dense.bias', 'encoder.layer.7.attention.output.dense.bias', 'encoder.layer.2.attention.output.LayerNorm.bias', 'encoder.layer.9.output.dense.bias', 'encoder.layer.11.output.LayerNorm.weight', 'encoder.layer.3.output.LayerNorm.weight', 'encoder.layer.11.intermediate.dense.weight', 'encoder.layer.4.attention.self.key.weight', 'encoder.layer.3.attention.self.value.weight', 'encoder.layer.6.output.dense.weight', 'encoder.layer.3.attention.self.key.bias', 'encoder.layer.5.intermediate.dense.bias', 'encoder.layer.10.output.dense.bias', 'encoder.layer.0.attention.output.dense.bias', 'encoder.layer.8.output.LayerNorm.bias', 'encoder.layer.11.attention.self.query.weight', 'encoder.layer.7.attention.self.key.weight', 'encoder.layer.10.intermediate.dense.bias', 'encoder.layer.11.attention.self.key.bias', 'encoder.layer.4.attention.self.query.weight', 'encoder.layer.6.output.LayerNorm.bias', 'encoder.layer.4.attention.output.LayerNorm.weight', 'qa_outputs.weight', 'encoder.layer.9.attention.output.dense.bias', 'encoder.layer.11.output.dense.bias', 'encoder.layer.9.intermediate.dense.weight', 'encoder.layer.10.attention.output.LayerNorm.weight', 'encoder.layer.5.attention.self.value.bias', 'encoder.layer.11.attention.self.value.bias', 'encoder.layer.6.attention.output.LayerNorm.bias', 'encoder.layer.8.attention.output.dense.weight', 'encoder.layer.10.intermediate.dense.weight', 'encoder.layer.2.attention.output.dense.weight', 'encoder.layer.7.attention.output.LayerNorm.bias', 'encoder.layer.7.attention.self.query.weight', 'encoder.layer.0.attention.output.LayerNorm.weight', 'encoder.layer.6.attention.self.key.weight', 'encoder.layer.11.output.dense.weight', 'encoder.layer.6.attention.self.value.bias', 'encoder.layer.11.attention.output.dense.weight', 'encoder.layer.3.attention.self.query.weight', 'encoder.layer.2.output.LayerNorm.weight', 'encoder.layer.5.attention.self.key.weight', 'encoder.layer.5.attention.self.query.weight', 'encoder.layer.8.attention.self.key.bias', 'encoder.layer.2.intermediate.dense.bias', 'encoder.layer.3.attention.output.dense.weight', 'encoder.layer.4.output.LayerNorm.bias', 'encoder.layer.8.attention.output.LayerNorm.bias', 'encoder.layer.9.attention.self.value.bias', 'encoder.layer.2.attention.output.dense.bias', 'encoder.layer.1.output.dense.weight', 'encoder.layer.8.attention.self.key.weight', 'encoder.layer.5.attention.self.value.weight', 'encoder.layer.3.output.LayerNorm.bias', 'encoder.layer.8.attention.self.value.bias', 'encoder.layer.8.output.dense.weight', 'encoder.layer.1.attention.self.key.weight', 'encoder.layer.1.attention.output.LayerNorm.bias', 'encoder.layer.5.output.dense.weight', 'encoder.layer.7.output.dense.weight']\n",
            "You should probably TRAIN this model on a down-stream task to be able to use it for predictions and inference.\n"
          ]
        }
      ],
      "source": [
        "customized_model = questionAnswering.from_pretrained(model_checkpoint)"
      ]
    },
    {
      "cell_type": "code",
      "execution_count": null,
      "metadata": {
        "id": "HJEbIsLlUkK9"
      },
      "outputs": [],
      "source": [
        "for param in customized_model.base_model.parameters():\n",
        "  param.requires_grad = False"
      ]
    },
    {
      "cell_type": "code",
      "execution_count": null,
      "metadata": {
        "id": "zzIB7ht0U4t2"
      },
      "outputs": [],
      "source": [
        "customized_args = TrainingArguments(\n",
        "    f\"bert-baseline-squad2\",\n",
        "    evaluation_strategy = \"epoch\",\n",
        "    learning_rate = 2e-5, \n",
        "    per_device_train_batch_size = batch_size,\n",
        "    per_device_eval_batch_size = batch_size,\n",
        "    num_train_epochs = 10, \n",
        "    weight_decay = 0.01, \n",
        "    push_to_hub = False\n",
        ")"
      ]
    },
    {
      "cell_type": "code",
      "execution_count": null,
      "metadata": {
        "id": "imY1oC3SIrJf"
      },
      "outputs": [],
      "source": [
        "trainer = Trainer(\n",
        "    customized_model,\n",
        "    customized_args,\n",
        "    train_dataset=tokenized_datasets[\"train\"],\n",
        "    eval_dataset=tokenized_datasets[\"validation\"],\n",
        "    data_collator=data_collator,\n",
        "    tokenizer=tokenizer,\n",
        ")"
      ]
    },
    {
      "cell_type": "code",
      "execution_count": null,
      "metadata": {
        "colab": {
          "base_uri": "https://localhost:8080/"
        },
        "id": "XWLu9-rBKu4W",
        "outputId": "7712cbd6-4ed4-416a-fe6c-a7d998768789"
      },
      "outputs": [
        {
          "data": {
            "text/plain": [
              "questionAnswering(\n",
              "  (bert): BertModel(\n",
              "    (embeddings): BertEmbeddings(\n",
              "      (word_embeddings): Embedding(30522, 768, padding_idx=0)\n",
              "      (position_embeddings): Embedding(512, 768)\n",
              "      (token_type_embeddings): Embedding(2, 768)\n",
              "      (LayerNorm): LayerNorm((768,), eps=1e-12, elementwise_affine=True)\n",
              "      (dropout): Dropout(p=0.1, inplace=False)\n",
              "    )\n",
              "    (encoder): BertEncoder(\n",
              "      (layer): ModuleList(\n",
              "        (0): BertLayer(\n",
              "          (attention): BertAttention(\n",
              "            (self): BertSelfAttention(\n",
              "              (query): Linear(in_features=768, out_features=768, bias=True)\n",
              "              (key): Linear(in_features=768, out_features=768, bias=True)\n",
              "              (value): Linear(in_features=768, out_features=768, bias=True)\n",
              "              (dropout): Dropout(p=0.1, inplace=False)\n",
              "            )\n",
              "            (output): BertSelfOutput(\n",
              "              (dense): Linear(in_features=768, out_features=768, bias=True)\n",
              "              (LayerNorm): LayerNorm((768,), eps=1e-12, elementwise_affine=True)\n",
              "              (dropout): Dropout(p=0.1, inplace=False)\n",
              "            )\n",
              "          )\n",
              "          (intermediate): BertIntermediate(\n",
              "            (dense): Linear(in_features=768, out_features=3072, bias=True)\n",
              "            (intermediate_act_fn): GELUActivation()\n",
              "          )\n",
              "          (output): BertOutput(\n",
              "            (dense): Linear(in_features=3072, out_features=768, bias=True)\n",
              "            (LayerNorm): LayerNorm((768,), eps=1e-12, elementwise_affine=True)\n",
              "            (dropout): Dropout(p=0.1, inplace=False)\n",
              "          )\n",
              "        )\n",
              "        (1): BertLayer(\n",
              "          (attention): BertAttention(\n",
              "            (self): BertSelfAttention(\n",
              "              (query): Linear(in_features=768, out_features=768, bias=True)\n",
              "              (key): Linear(in_features=768, out_features=768, bias=True)\n",
              "              (value): Linear(in_features=768, out_features=768, bias=True)\n",
              "              (dropout): Dropout(p=0.1, inplace=False)\n",
              "            )\n",
              "            (output): BertSelfOutput(\n",
              "              (dense): Linear(in_features=768, out_features=768, bias=True)\n",
              "              (LayerNorm): LayerNorm((768,), eps=1e-12, elementwise_affine=True)\n",
              "              (dropout): Dropout(p=0.1, inplace=False)\n",
              "            )\n",
              "          )\n",
              "          (intermediate): BertIntermediate(\n",
              "            (dense): Linear(in_features=768, out_features=3072, bias=True)\n",
              "            (intermediate_act_fn): GELUActivation()\n",
              "          )\n",
              "          (output): BertOutput(\n",
              "            (dense): Linear(in_features=3072, out_features=768, bias=True)\n",
              "            (LayerNorm): LayerNorm((768,), eps=1e-12, elementwise_affine=True)\n",
              "            (dropout): Dropout(p=0.1, inplace=False)\n",
              "          )\n",
              "        )\n",
              "        (2): BertLayer(\n",
              "          (attention): BertAttention(\n",
              "            (self): BertSelfAttention(\n",
              "              (query): Linear(in_features=768, out_features=768, bias=True)\n",
              "              (key): Linear(in_features=768, out_features=768, bias=True)\n",
              "              (value): Linear(in_features=768, out_features=768, bias=True)\n",
              "              (dropout): Dropout(p=0.1, inplace=False)\n",
              "            )\n",
              "            (output): BertSelfOutput(\n",
              "              (dense): Linear(in_features=768, out_features=768, bias=True)\n",
              "              (LayerNorm): LayerNorm((768,), eps=1e-12, elementwise_affine=True)\n",
              "              (dropout): Dropout(p=0.1, inplace=False)\n",
              "            )\n",
              "          )\n",
              "          (intermediate): BertIntermediate(\n",
              "            (dense): Linear(in_features=768, out_features=3072, bias=True)\n",
              "            (intermediate_act_fn): GELUActivation()\n",
              "          )\n",
              "          (output): BertOutput(\n",
              "            (dense): Linear(in_features=3072, out_features=768, bias=True)\n",
              "            (LayerNorm): LayerNorm((768,), eps=1e-12, elementwise_affine=True)\n",
              "            (dropout): Dropout(p=0.1, inplace=False)\n",
              "          )\n",
              "        )\n",
              "        (3): BertLayer(\n",
              "          (attention): BertAttention(\n",
              "            (self): BertSelfAttention(\n",
              "              (query): Linear(in_features=768, out_features=768, bias=True)\n",
              "              (key): Linear(in_features=768, out_features=768, bias=True)\n",
              "              (value): Linear(in_features=768, out_features=768, bias=True)\n",
              "              (dropout): Dropout(p=0.1, inplace=False)\n",
              "            )\n",
              "            (output): BertSelfOutput(\n",
              "              (dense): Linear(in_features=768, out_features=768, bias=True)\n",
              "              (LayerNorm): LayerNorm((768,), eps=1e-12, elementwise_affine=True)\n",
              "              (dropout): Dropout(p=0.1, inplace=False)\n",
              "            )\n",
              "          )\n",
              "          (intermediate): BertIntermediate(\n",
              "            (dense): Linear(in_features=768, out_features=3072, bias=True)\n",
              "            (intermediate_act_fn): GELUActivation()\n",
              "          )\n",
              "          (output): BertOutput(\n",
              "            (dense): Linear(in_features=3072, out_features=768, bias=True)\n",
              "            (LayerNorm): LayerNorm((768,), eps=1e-12, elementwise_affine=True)\n",
              "            (dropout): Dropout(p=0.1, inplace=False)\n",
              "          )\n",
              "        )\n",
              "        (4): BertLayer(\n",
              "          (attention): BertAttention(\n",
              "            (self): BertSelfAttention(\n",
              "              (query): Linear(in_features=768, out_features=768, bias=True)\n",
              "              (key): Linear(in_features=768, out_features=768, bias=True)\n",
              "              (value): Linear(in_features=768, out_features=768, bias=True)\n",
              "              (dropout): Dropout(p=0.1, inplace=False)\n",
              "            )\n",
              "            (output): BertSelfOutput(\n",
              "              (dense): Linear(in_features=768, out_features=768, bias=True)\n",
              "              (LayerNorm): LayerNorm((768,), eps=1e-12, elementwise_affine=True)\n",
              "              (dropout): Dropout(p=0.1, inplace=False)\n",
              "            )\n",
              "          )\n",
              "          (intermediate): BertIntermediate(\n",
              "            (dense): Linear(in_features=768, out_features=3072, bias=True)\n",
              "            (intermediate_act_fn): GELUActivation()\n",
              "          )\n",
              "          (output): BertOutput(\n",
              "            (dense): Linear(in_features=3072, out_features=768, bias=True)\n",
              "            (LayerNorm): LayerNorm((768,), eps=1e-12, elementwise_affine=True)\n",
              "            (dropout): Dropout(p=0.1, inplace=False)\n",
              "          )\n",
              "        )\n",
              "        (5): BertLayer(\n",
              "          (attention): BertAttention(\n",
              "            (self): BertSelfAttention(\n",
              "              (query): Linear(in_features=768, out_features=768, bias=True)\n",
              "              (key): Linear(in_features=768, out_features=768, bias=True)\n",
              "              (value): Linear(in_features=768, out_features=768, bias=True)\n",
              "              (dropout): Dropout(p=0.1, inplace=False)\n",
              "            )\n",
              "            (output): BertSelfOutput(\n",
              "              (dense): Linear(in_features=768, out_features=768, bias=True)\n",
              "              (LayerNorm): LayerNorm((768,), eps=1e-12, elementwise_affine=True)\n",
              "              (dropout): Dropout(p=0.1, inplace=False)\n",
              "            )\n",
              "          )\n",
              "          (intermediate): BertIntermediate(\n",
              "            (dense): Linear(in_features=768, out_features=3072, bias=True)\n",
              "            (intermediate_act_fn): GELUActivation()\n",
              "          )\n",
              "          (output): BertOutput(\n",
              "            (dense): Linear(in_features=3072, out_features=768, bias=True)\n",
              "            (LayerNorm): LayerNorm((768,), eps=1e-12, elementwise_affine=True)\n",
              "            (dropout): Dropout(p=0.1, inplace=False)\n",
              "          )\n",
              "        )\n",
              "        (6): BertLayer(\n",
              "          (attention): BertAttention(\n",
              "            (self): BertSelfAttention(\n",
              "              (query): Linear(in_features=768, out_features=768, bias=True)\n",
              "              (key): Linear(in_features=768, out_features=768, bias=True)\n",
              "              (value): Linear(in_features=768, out_features=768, bias=True)\n",
              "              (dropout): Dropout(p=0.1, inplace=False)\n",
              "            )\n",
              "            (output): BertSelfOutput(\n",
              "              (dense): Linear(in_features=768, out_features=768, bias=True)\n",
              "              (LayerNorm): LayerNorm((768,), eps=1e-12, elementwise_affine=True)\n",
              "              (dropout): Dropout(p=0.1, inplace=False)\n",
              "            )\n",
              "          )\n",
              "          (intermediate): BertIntermediate(\n",
              "            (dense): Linear(in_features=768, out_features=3072, bias=True)\n",
              "            (intermediate_act_fn): GELUActivation()\n",
              "          )\n",
              "          (output): BertOutput(\n",
              "            (dense): Linear(in_features=3072, out_features=768, bias=True)\n",
              "            (LayerNorm): LayerNorm((768,), eps=1e-12, elementwise_affine=True)\n",
              "            (dropout): Dropout(p=0.1, inplace=False)\n",
              "          )\n",
              "        )\n",
              "        (7): BertLayer(\n",
              "          (attention): BertAttention(\n",
              "            (self): BertSelfAttention(\n",
              "              (query): Linear(in_features=768, out_features=768, bias=True)\n",
              "              (key): Linear(in_features=768, out_features=768, bias=True)\n",
              "              (value): Linear(in_features=768, out_features=768, bias=True)\n",
              "              (dropout): Dropout(p=0.1, inplace=False)\n",
              "            )\n",
              "            (output): BertSelfOutput(\n",
              "              (dense): Linear(in_features=768, out_features=768, bias=True)\n",
              "              (LayerNorm): LayerNorm((768,), eps=1e-12, elementwise_affine=True)\n",
              "              (dropout): Dropout(p=0.1, inplace=False)\n",
              "            )\n",
              "          )\n",
              "          (intermediate): BertIntermediate(\n",
              "            (dense): Linear(in_features=768, out_features=3072, bias=True)\n",
              "            (intermediate_act_fn): GELUActivation()\n",
              "          )\n",
              "          (output): BertOutput(\n",
              "            (dense): Linear(in_features=3072, out_features=768, bias=True)\n",
              "            (LayerNorm): LayerNorm((768,), eps=1e-12, elementwise_affine=True)\n",
              "            (dropout): Dropout(p=0.1, inplace=False)\n",
              "          )\n",
              "        )\n",
              "        (8): BertLayer(\n",
              "          (attention): BertAttention(\n",
              "            (self): BertSelfAttention(\n",
              "              (query): Linear(in_features=768, out_features=768, bias=True)\n",
              "              (key): Linear(in_features=768, out_features=768, bias=True)\n",
              "              (value): Linear(in_features=768, out_features=768, bias=True)\n",
              "              (dropout): Dropout(p=0.1, inplace=False)\n",
              "            )\n",
              "            (output): BertSelfOutput(\n",
              "              (dense): Linear(in_features=768, out_features=768, bias=True)\n",
              "              (LayerNorm): LayerNorm((768,), eps=1e-12, elementwise_affine=True)\n",
              "              (dropout): Dropout(p=0.1, inplace=False)\n",
              "            )\n",
              "          )\n",
              "          (intermediate): BertIntermediate(\n",
              "            (dense): Linear(in_features=768, out_features=3072, bias=True)\n",
              "            (intermediate_act_fn): GELUActivation()\n",
              "          )\n",
              "          (output): BertOutput(\n",
              "            (dense): Linear(in_features=3072, out_features=768, bias=True)\n",
              "            (LayerNorm): LayerNorm((768,), eps=1e-12, elementwise_affine=True)\n",
              "            (dropout): Dropout(p=0.1, inplace=False)\n",
              "          )\n",
              "        )\n",
              "        (9): BertLayer(\n",
              "          (attention): BertAttention(\n",
              "            (self): BertSelfAttention(\n",
              "              (query): Linear(in_features=768, out_features=768, bias=True)\n",
              "              (key): Linear(in_features=768, out_features=768, bias=True)\n",
              "              (value): Linear(in_features=768, out_features=768, bias=True)\n",
              "              (dropout): Dropout(p=0.1, inplace=False)\n",
              "            )\n",
              "            (output): BertSelfOutput(\n",
              "              (dense): Linear(in_features=768, out_features=768, bias=True)\n",
              "              (LayerNorm): LayerNorm((768,), eps=1e-12, elementwise_affine=True)\n",
              "              (dropout): Dropout(p=0.1, inplace=False)\n",
              "            )\n",
              "          )\n",
              "          (intermediate): BertIntermediate(\n",
              "            (dense): Linear(in_features=768, out_features=3072, bias=True)\n",
              "            (intermediate_act_fn): GELUActivation()\n",
              "          )\n",
              "          (output): BertOutput(\n",
              "            (dense): Linear(in_features=3072, out_features=768, bias=True)\n",
              "            (LayerNorm): LayerNorm((768,), eps=1e-12, elementwise_affine=True)\n",
              "            (dropout): Dropout(p=0.1, inplace=False)\n",
              "          )\n",
              "        )\n",
              "        (10): BertLayer(\n",
              "          (attention): BertAttention(\n",
              "            (self): BertSelfAttention(\n",
              "              (query): Linear(in_features=768, out_features=768, bias=True)\n",
              "              (key): Linear(in_features=768, out_features=768, bias=True)\n",
              "              (value): Linear(in_features=768, out_features=768, bias=True)\n",
              "              (dropout): Dropout(p=0.1, inplace=False)\n",
              "            )\n",
              "            (output): BertSelfOutput(\n",
              "              (dense): Linear(in_features=768, out_features=768, bias=True)\n",
              "              (LayerNorm): LayerNorm((768,), eps=1e-12, elementwise_affine=True)\n",
              "              (dropout): Dropout(p=0.1, inplace=False)\n",
              "            )\n",
              "          )\n",
              "          (intermediate): BertIntermediate(\n",
              "            (dense): Linear(in_features=768, out_features=3072, bias=True)\n",
              "            (intermediate_act_fn): GELUActivation()\n",
              "          )\n",
              "          (output): BertOutput(\n",
              "            (dense): Linear(in_features=3072, out_features=768, bias=True)\n",
              "            (LayerNorm): LayerNorm((768,), eps=1e-12, elementwise_affine=True)\n",
              "            (dropout): Dropout(p=0.1, inplace=False)\n",
              "          )\n",
              "        )\n",
              "        (11): BertLayer(\n",
              "          (attention): BertAttention(\n",
              "            (self): BertSelfAttention(\n",
              "              (query): Linear(in_features=768, out_features=768, bias=True)\n",
              "              (key): Linear(in_features=768, out_features=768, bias=True)\n",
              "              (value): Linear(in_features=768, out_features=768, bias=True)\n",
              "              (dropout): Dropout(p=0.1, inplace=False)\n",
              "            )\n",
              "            (output): BertSelfOutput(\n",
              "              (dense): Linear(in_features=768, out_features=768, bias=True)\n",
              "              (LayerNorm): LayerNorm((768,), eps=1e-12, elementwise_affine=True)\n",
              "              (dropout): Dropout(p=0.1, inplace=False)\n",
              "            )\n",
              "          )\n",
              "          (intermediate): BertIntermediate(\n",
              "            (dense): Linear(in_features=768, out_features=3072, bias=True)\n",
              "            (intermediate_act_fn): GELUActivation()\n",
              "          )\n",
              "          (output): BertOutput(\n",
              "            (dense): Linear(in_features=3072, out_features=768, bias=True)\n",
              "            (LayerNorm): LayerNorm((768,), eps=1e-12, elementwise_affine=True)\n",
              "            (dropout): Dropout(p=0.1, inplace=False)\n",
              "          )\n",
              "        )\n",
              "      )\n",
              "    )\n",
              "  )\n",
              "  (qa_outputs): Linear(in_features=768, out_features=2, bias=True)\n",
              ")"
            ]
          },
          "execution_count": 46,
          "metadata": {},
          "output_type": "execute_result"
        }
      ],
      "source": [
        "customized_model"
      ]
    },
    {
      "cell_type": "markdown",
      "metadata": {
        "id": "CdzABDVcIrJg"
      },
      "source": [
        "We can now finetune our model by just calling the `train` method:"
      ]
    },
    {
      "cell_type": "code",
      "execution_count": null,
      "metadata": {
        "colab": {
          "background_save": true,
          "base_uri": "https://localhost:8080/",
          "height": 1000
        },
        "id": "uNx5pyRlIrJh",
        "outputId": "da0ef441-0cb8-4560-e4a1-f43443fee383"
      },
      "outputs": [
        {
          "name": "stderr",
          "output_type": "stream",
          "text": [
            "/usr/local/lib/python3.8/dist-packages/transformers/optimization.py:306: FutureWarning: This implementation of AdamW is deprecated and will be removed in a future version. Use the PyTorch implementation torch.optim.AdamW instead, or set `no_deprecation_warning=True` to disable this warning\n",
            "  warnings.warn(\n",
            "***** Running training *****\n",
            "  Num examples = 130503\n",
            "  Num Epochs = 10\n",
            "  Instantaneous batch size per device = 16\n",
            "  Total train batch size (w. parallel, distributed & accumulation) = 16\n",
            "  Gradient Accumulation steps = 1\n",
            "  Total optimization steps = 81570\n",
            "  Number of trainable parameters = 1538\n"
          ]
        },
        {
          "data": {
            "text/html": [
              "\n",
              "    <div>\n",
              "      \n",
              "      <progress value='81570' max='81570' style='width:300px; height:20px; vertical-align: middle;'></progress>\n",
              "      [81570/81570 13:53:20, Epoch 10/10]\n",
              "    </div>\n",
              "    <table border=\"1\" class=\"dataframe\">\n",
              "  <thead>\n",
              " <tr style=\"text-align: left;\">\n",
              "      <th>Epoch</th>\n",
              "      <th>Training Loss</th>\n",
              "      <th>Validation Loss</th>\n",
              "    </tr>\n",
              "  </thead>\n",
              "  <tbody>\n",
              "    <tr>\n",
              "      <td>1</td>\n",
              "      <td>4.333600</td>\n",
              "      <td>No log</td>\n",
              "    </tr>\n",
              "    <tr>\n",
              "      <td>2</td>\n",
              "      <td>4.276400</td>\n",
              "      <td>No log</td>\n",
              "    </tr>\n",
              "    <tr>\n",
              "      <td>3</td>\n",
              "      <td>4.275900</td>\n",
              "      <td>No log</td>\n",
              "    </tr>\n",
              "    <tr>\n",
              "      <td>4</td>\n",
              "      <td>4.300100</td>\n",
              "      <td>No log</td>\n",
              "    </tr>\n",
              "    <tr>\n",
              "      <td>5</td>\n",
              "      <td>4.240400</td>\n",
              "      <td>No log</td>\n",
              "    </tr>\n",
              "    <tr>\n",
              "      <td>6</td>\n",
              "      <td>4.260300</td>\n",
              "      <td>No log</td>\n",
              "    </tr>\n",
              "    <tr>\n",
              "      <td>7</td>\n",
              "      <td>4.262100</td>\n",
              "      <td>No log</td>\n",
              "    </tr>\n",
              "    <tr>\n",
              "      <td>8</td>\n",
              "      <td>4.298600</td>\n",
              "      <td>No log</td>\n",
              "    </tr>\n",
              "    <tr>\n",
              "      <td>9</td>\n",
              "      <td>4.298200</td>\n",
              "      <td>No log</td>\n",
              "    </tr>\n",
              "    <tr>\n",
              "      <td>10</td>\n",
              "      <td>4.252000</td>\n",
              "      <td>No log</td>\n",
              "    </tr>\n",
              "  </tbody>\n",
              "</table><p>"
            ],
            "text/plain": [
              "<IPython.core.display.HTML object>"
            ]
          },
          "metadata": {},
          "output_type": "display_data"
        },
        {
          "name": "stderr",
          "output_type": "stream",
          "text": [
            "Saving model checkpoint to bert-baseline-squad2/checkpoint-500\n",
            "Configuration saved in bert-baseline-squad2/checkpoint-500/config.json\n",
            "Model weights saved in bert-baseline-squad2/checkpoint-500/pytorch_model.bin\n",
            "tokenizer config file saved in bert-baseline-squad2/checkpoint-500/tokenizer_config.json\n",
            "Special tokens file saved in bert-baseline-squad2/checkpoint-500/special_tokens_map.json\n",
            "Saving model checkpoint to bert-baseline-squad2/checkpoint-1000\n",
            "Configuration saved in bert-baseline-squad2/checkpoint-1000/config.json\n",
            "Model weights saved in bert-baseline-squad2/checkpoint-1000/pytorch_model.bin\n",
            "tokenizer config file saved in bert-baseline-squad2/checkpoint-1000/tokenizer_config.json\n",
            "Special tokens file saved in bert-baseline-squad2/checkpoint-1000/special_tokens_map.json\n",
            "Saving model checkpoint to bert-baseline-squad2/checkpoint-1500\n",
            "Configuration saved in bert-baseline-squad2/checkpoint-1500/config.json\n",
            "Model weights saved in bert-baseline-squad2/checkpoint-1500/pytorch_model.bin\n",
            "tokenizer config file saved in bert-baseline-squad2/checkpoint-1500/tokenizer_config.json\n",
            "Special tokens file saved in bert-baseline-squad2/checkpoint-1500/special_tokens_map.json\n",
            "Saving model checkpoint to bert-baseline-squad2/checkpoint-2000\n",
            "Configuration saved in bert-baseline-squad2/checkpoint-2000/config.json\n",
            "Model weights saved in bert-baseline-squad2/checkpoint-2000/pytorch_model.bin\n",
            "tokenizer config file saved in bert-baseline-squad2/checkpoint-2000/tokenizer_config.json\n",
            "Special tokens file saved in bert-baseline-squad2/checkpoint-2000/special_tokens_map.json\n",
            "Saving model checkpoint to bert-baseline-squad2/checkpoint-2500\n",
            "Configuration saved in bert-baseline-squad2/checkpoint-2500/config.json\n",
            "Model weights saved in bert-baseline-squad2/checkpoint-2500/pytorch_model.bin\n",
            "tokenizer config file saved in bert-baseline-squad2/checkpoint-2500/tokenizer_config.json\n",
            "Special tokens file saved in bert-baseline-squad2/checkpoint-2500/special_tokens_map.json\n",
            "Saving model checkpoint to bert-baseline-squad2/checkpoint-3000\n",
            "Configuration saved in bert-baseline-squad2/checkpoint-3000/config.json\n",
            "Model weights saved in bert-baseline-squad2/checkpoint-3000/pytorch_model.bin\n",
            "tokenizer config file saved in bert-baseline-squad2/checkpoint-3000/tokenizer_config.json\n",
            "Special tokens file saved in bert-baseline-squad2/checkpoint-3000/special_tokens_map.json\n",
            "Saving model checkpoint to bert-baseline-squad2/checkpoint-3500\n",
            "Configuration saved in bert-baseline-squad2/checkpoint-3500/config.json\n",
            "Model weights saved in bert-baseline-squad2/checkpoint-3500/pytorch_model.bin\n",
            "tokenizer config file saved in bert-baseline-squad2/checkpoint-3500/tokenizer_config.json\n",
            "Special tokens file saved in bert-baseline-squad2/checkpoint-3500/special_tokens_map.json\n",
            "Saving model checkpoint to bert-baseline-squad2/checkpoint-4000\n",
            "Configuration saved in bert-baseline-squad2/checkpoint-4000/config.json\n",
            "Model weights saved in bert-baseline-squad2/checkpoint-4000/pytorch_model.bin\n",
            "tokenizer config file saved in bert-baseline-squad2/checkpoint-4000/tokenizer_config.json\n",
            "Special tokens file saved in bert-baseline-squad2/checkpoint-4000/special_tokens_map.json\n",
            "Saving model checkpoint to bert-baseline-squad2/checkpoint-4500\n",
            "Configuration saved in bert-baseline-squad2/checkpoint-4500/config.json\n",
            "Model weights saved in bert-baseline-squad2/checkpoint-4500/pytorch_model.bin\n",
            "tokenizer config file saved in bert-baseline-squad2/checkpoint-4500/tokenizer_config.json\n",
            "Special tokens file saved in bert-baseline-squad2/checkpoint-4500/special_tokens_map.json\n",
            "Saving model checkpoint to bert-baseline-squad2/checkpoint-5000\n",
            "Configuration saved in bert-baseline-squad2/checkpoint-5000/config.json\n",
            "Model weights saved in bert-baseline-squad2/checkpoint-5000/pytorch_model.bin\n",
            "tokenizer config file saved in bert-baseline-squad2/checkpoint-5000/tokenizer_config.json\n",
            "Special tokens file saved in bert-baseline-squad2/checkpoint-5000/special_tokens_map.json\n",
            "Saving model checkpoint to bert-baseline-squad2/checkpoint-5500\n",
            "Configuration saved in bert-baseline-squad2/checkpoint-5500/config.json\n",
            "Model weights saved in bert-baseline-squad2/checkpoint-5500/pytorch_model.bin\n",
            "tokenizer config file saved in bert-baseline-squad2/checkpoint-5500/tokenizer_config.json\n",
            "Special tokens file saved in bert-baseline-squad2/checkpoint-5500/special_tokens_map.json\n",
            "Saving model checkpoint to bert-baseline-squad2/checkpoint-6000\n",
            "Configuration saved in bert-baseline-squad2/checkpoint-6000/config.json\n",
            "Model weights saved in bert-baseline-squad2/checkpoint-6000/pytorch_model.bin\n",
            "tokenizer config file saved in bert-baseline-squad2/checkpoint-6000/tokenizer_config.json\n",
            "Special tokens file saved in bert-baseline-squad2/checkpoint-6000/special_tokens_map.json\n",
            "Saving model checkpoint to bert-baseline-squad2/checkpoint-6500\n",
            "Configuration saved in bert-baseline-squad2/checkpoint-6500/config.json\n",
            "Model weights saved in bert-baseline-squad2/checkpoint-6500/pytorch_model.bin\n",
            "tokenizer config file saved in bert-baseline-squad2/checkpoint-6500/tokenizer_config.json\n",
            "Special tokens file saved in bert-baseline-squad2/checkpoint-6500/special_tokens_map.json\n",
            "Saving model checkpoint to bert-baseline-squad2/checkpoint-7000\n",
            "Configuration saved in bert-baseline-squad2/checkpoint-7000/config.json\n",
            "Model weights saved in bert-baseline-squad2/checkpoint-7000/pytorch_model.bin\n",
            "tokenizer config file saved in bert-baseline-squad2/checkpoint-7000/tokenizer_config.json\n",
            "Special tokens file saved in bert-baseline-squad2/checkpoint-7000/special_tokens_map.json\n",
            "Saving model checkpoint to bert-baseline-squad2/checkpoint-7500\n",
            "Configuration saved in bert-baseline-squad2/checkpoint-7500/config.json\n",
            "Model weights saved in bert-baseline-squad2/checkpoint-7500/pytorch_model.bin\n",
            "tokenizer config file saved in bert-baseline-squad2/checkpoint-7500/tokenizer_config.json\n",
            "Special tokens file saved in bert-baseline-squad2/checkpoint-7500/special_tokens_map.json\n",
            "Saving model checkpoint to bert-baseline-squad2/checkpoint-8000\n",
            "Configuration saved in bert-baseline-squad2/checkpoint-8000/config.json\n",
            "Model weights saved in bert-baseline-squad2/checkpoint-8000/pytorch_model.bin\n",
            "tokenizer config file saved in bert-baseline-squad2/checkpoint-8000/tokenizer_config.json\n",
            "Special tokens file saved in bert-baseline-squad2/checkpoint-8000/special_tokens_map.json\n",
            "***** Running Evaluation *****\n",
            "  Num examples = 11969\n",
            "  Batch size = 16\n",
            "Saving model checkpoint to bert-baseline-squad2/checkpoint-8500\n",
            "Configuration saved in bert-baseline-squad2/checkpoint-8500/config.json\n",
            "Model weights saved in bert-baseline-squad2/checkpoint-8500/pytorch_model.bin\n",
            "tokenizer config file saved in bert-baseline-squad2/checkpoint-8500/tokenizer_config.json\n",
            "Special tokens file saved in bert-baseline-squad2/checkpoint-8500/special_tokens_map.json\n",
            "Saving model checkpoint to bert-baseline-squad2/checkpoint-9000\n",
            "Configuration saved in bert-baseline-squad2/checkpoint-9000/config.json\n",
            "Model weights saved in bert-baseline-squad2/checkpoint-9000/pytorch_model.bin\n",
            "tokenizer config file saved in bert-baseline-squad2/checkpoint-9000/tokenizer_config.json\n",
            "Special tokens file saved in bert-baseline-squad2/checkpoint-9000/special_tokens_map.json\n",
            "Saving model checkpoint to bert-baseline-squad2/checkpoint-9500\n",
            "Configuration saved in bert-baseline-squad2/checkpoint-9500/config.json\n",
            "Model weights saved in bert-baseline-squad2/checkpoint-9500/pytorch_model.bin\n",
            "tokenizer config file saved in bert-baseline-squad2/checkpoint-9500/tokenizer_config.json\n",
            "Special tokens file saved in bert-baseline-squad2/checkpoint-9500/special_tokens_map.json\n",
            "Saving model checkpoint to bert-baseline-squad2/checkpoint-10000\n",
            "Configuration saved in bert-baseline-squad2/checkpoint-10000/config.json\n",
            "Model weights saved in bert-baseline-squad2/checkpoint-10000/pytorch_model.bin\n",
            "tokenizer config file saved in bert-baseline-squad2/checkpoint-10000/tokenizer_config.json\n",
            "Special tokens file saved in bert-baseline-squad2/checkpoint-10000/special_tokens_map.json\n",
            "Saving model checkpoint to bert-baseline-squad2/checkpoint-10500\n",
            "Configuration saved in bert-baseline-squad2/checkpoint-10500/config.json\n",
            "Model weights saved in bert-baseline-squad2/checkpoint-10500/pytorch_model.bin\n",
            "tokenizer config file saved in bert-baseline-squad2/checkpoint-10500/tokenizer_config.json\n",
            "Special tokens file saved in bert-baseline-squad2/checkpoint-10500/special_tokens_map.json\n",
            "Saving model checkpoint to bert-baseline-squad2/checkpoint-11000\n",
            "Configuration saved in bert-baseline-squad2/checkpoint-11000/config.json\n",
            "Model weights saved in bert-baseline-squad2/checkpoint-11000/pytorch_model.bin\n",
            "tokenizer config file saved in bert-baseline-squad2/checkpoint-11000/tokenizer_config.json\n",
            "Special tokens file saved in bert-baseline-squad2/checkpoint-11000/special_tokens_map.json\n",
            "Saving model checkpoint to bert-baseline-squad2/checkpoint-11500\n",
            "Configuration saved in bert-baseline-squad2/checkpoint-11500/config.json\n",
            "Model weights saved in bert-baseline-squad2/checkpoint-11500/pytorch_model.bin\n",
            "tokenizer config file saved in bert-baseline-squad2/checkpoint-11500/tokenizer_config.json\n",
            "Special tokens file saved in bert-baseline-squad2/checkpoint-11500/special_tokens_map.json\n",
            "Saving model checkpoint to bert-baseline-squad2/checkpoint-12000\n",
            "Configuration saved in bert-baseline-squad2/checkpoint-12000/config.json\n",
            "Model weights saved in bert-baseline-squad2/checkpoint-12000/pytorch_model.bin\n",
            "tokenizer config file saved in bert-baseline-squad2/checkpoint-12000/tokenizer_config.json\n",
            "Special tokens file saved in bert-baseline-squad2/checkpoint-12000/special_tokens_map.json\n",
            "Saving model checkpoint to bert-baseline-squad2/checkpoint-12500\n",
            "Configuration saved in bert-baseline-squad2/checkpoint-12500/config.json\n",
            "Model weights saved in bert-baseline-squad2/checkpoint-12500/pytorch_model.bin\n",
            "tokenizer config file saved in bert-baseline-squad2/checkpoint-12500/tokenizer_config.json\n",
            "Special tokens file saved in bert-baseline-squad2/checkpoint-12500/special_tokens_map.json\n",
            "Saving model checkpoint to bert-baseline-squad2/checkpoint-13000\n",
            "Configuration saved in bert-baseline-squad2/checkpoint-13000/config.json\n",
            "Model weights saved in bert-baseline-squad2/checkpoint-13000/pytorch_model.bin\n",
            "tokenizer config file saved in bert-baseline-squad2/checkpoint-13000/tokenizer_config.json\n",
            "Special tokens file saved in bert-baseline-squad2/checkpoint-13000/special_tokens_map.json\n",
            "Saving model checkpoint to bert-baseline-squad2/checkpoint-13500\n",
            "Configuration saved in bert-baseline-squad2/checkpoint-13500/config.json\n",
            "Model weights saved in bert-baseline-squad2/checkpoint-13500/pytorch_model.bin\n",
            "tokenizer config file saved in bert-baseline-squad2/checkpoint-13500/tokenizer_config.json\n",
            "Special tokens file saved in bert-baseline-squad2/checkpoint-13500/special_tokens_map.json\n",
            "Saving model checkpoint to bert-baseline-squad2/checkpoint-14000\n",
            "Configuration saved in bert-baseline-squad2/checkpoint-14000/config.json\n",
            "Model weights saved in bert-baseline-squad2/checkpoint-14000/pytorch_model.bin\n",
            "tokenizer config file saved in bert-baseline-squad2/checkpoint-14000/tokenizer_config.json\n",
            "Special tokens file saved in bert-baseline-squad2/checkpoint-14000/special_tokens_map.json\n",
            "Saving model checkpoint to bert-baseline-squad2/checkpoint-14500\n",
            "Configuration saved in bert-baseline-squad2/checkpoint-14500/config.json\n",
            "Model weights saved in bert-baseline-squad2/checkpoint-14500/pytorch_model.bin\n",
            "tokenizer config file saved in bert-baseline-squad2/checkpoint-14500/tokenizer_config.json\n",
            "Special tokens file saved in bert-baseline-squad2/checkpoint-14500/special_tokens_map.json\n",
            "Saving model checkpoint to bert-baseline-squad2/checkpoint-15000\n",
            "Configuration saved in bert-baseline-squad2/checkpoint-15000/config.json\n",
            "Model weights saved in bert-baseline-squad2/checkpoint-15000/pytorch_model.bin\n",
            "tokenizer config file saved in bert-baseline-squad2/checkpoint-15000/tokenizer_config.json\n",
            "Special tokens file saved in bert-baseline-squad2/checkpoint-15000/special_tokens_map.json\n",
            "Saving model checkpoint to bert-baseline-squad2/checkpoint-15500\n",
            "Configuration saved in bert-baseline-squad2/checkpoint-15500/config.json\n",
            "Model weights saved in bert-baseline-squad2/checkpoint-15500/pytorch_model.bin\n",
            "tokenizer config file saved in bert-baseline-squad2/checkpoint-15500/tokenizer_config.json\n",
            "Special tokens file saved in bert-baseline-squad2/checkpoint-15500/special_tokens_map.json\n",
            "Saving model checkpoint to bert-baseline-squad2/checkpoint-16000\n",
            "Configuration saved in bert-baseline-squad2/checkpoint-16000/config.json\n",
            "Model weights saved in bert-baseline-squad2/checkpoint-16000/pytorch_model.bin\n",
            "tokenizer config file saved in bert-baseline-squad2/checkpoint-16000/tokenizer_config.json\n",
            "Special tokens file saved in bert-baseline-squad2/checkpoint-16000/special_tokens_map.json\n",
            "***** Running Evaluation *****\n",
            "  Num examples = 11969\n",
            "  Batch size = 16\n",
            "Saving model checkpoint to bert-baseline-squad2/checkpoint-16500\n",
            "Configuration saved in bert-baseline-squad2/checkpoint-16500/config.json\n",
            "Model weights saved in bert-baseline-squad2/checkpoint-16500/pytorch_model.bin\n",
            "tokenizer config file saved in bert-baseline-squad2/checkpoint-16500/tokenizer_config.json\n",
            "Special tokens file saved in bert-baseline-squad2/checkpoint-16500/special_tokens_map.json\n",
            "Saving model checkpoint to bert-baseline-squad2/checkpoint-17000\n",
            "Configuration saved in bert-baseline-squad2/checkpoint-17000/config.json\n",
            "Model weights saved in bert-baseline-squad2/checkpoint-17000/pytorch_model.bin\n",
            "tokenizer config file saved in bert-baseline-squad2/checkpoint-17000/tokenizer_config.json\n",
            "Special tokens file saved in bert-baseline-squad2/checkpoint-17000/special_tokens_map.json\n",
            "Saving model checkpoint to bert-baseline-squad2/checkpoint-17500\n",
            "Configuration saved in bert-baseline-squad2/checkpoint-17500/config.json\n",
            "Model weights saved in bert-baseline-squad2/checkpoint-17500/pytorch_model.bin\n",
            "tokenizer config file saved in bert-baseline-squad2/checkpoint-17500/tokenizer_config.json\n",
            "Special tokens file saved in bert-baseline-squad2/checkpoint-17500/special_tokens_map.json\n",
            "Saving model checkpoint to bert-baseline-squad2/checkpoint-18000\n",
            "Configuration saved in bert-baseline-squad2/checkpoint-18000/config.json\n",
            "Model weights saved in bert-baseline-squad2/checkpoint-18000/pytorch_model.bin\n",
            "tokenizer config file saved in bert-baseline-squad2/checkpoint-18000/tokenizer_config.json\n",
            "Special tokens file saved in bert-baseline-squad2/checkpoint-18000/special_tokens_map.json\n",
            "Saving model checkpoint to bert-baseline-squad2/checkpoint-18500\n",
            "Configuration saved in bert-baseline-squad2/checkpoint-18500/config.json\n",
            "Model weights saved in bert-baseline-squad2/checkpoint-18500/pytorch_model.bin\n",
            "tokenizer config file saved in bert-baseline-squad2/checkpoint-18500/tokenizer_config.json\n",
            "Special tokens file saved in bert-baseline-squad2/checkpoint-18500/special_tokens_map.json\n",
            "Saving model checkpoint to bert-baseline-squad2/checkpoint-19000\n",
            "Configuration saved in bert-baseline-squad2/checkpoint-19000/config.json\n",
            "Model weights saved in bert-baseline-squad2/checkpoint-19000/pytorch_model.bin\n",
            "tokenizer config file saved in bert-baseline-squad2/checkpoint-19000/tokenizer_config.json\n",
            "Special tokens file saved in bert-baseline-squad2/checkpoint-19000/special_tokens_map.json\n",
            "Saving model checkpoint to bert-baseline-squad2/checkpoint-19500\n",
            "Configuration saved in bert-baseline-squad2/checkpoint-19500/config.json\n",
            "Model weights saved in bert-baseline-squad2/checkpoint-19500/pytorch_model.bin\n",
            "tokenizer config file saved in bert-baseline-squad2/checkpoint-19500/tokenizer_config.json\n",
            "Special tokens file saved in bert-baseline-squad2/checkpoint-19500/special_tokens_map.json\n",
            "Saving model checkpoint to bert-baseline-squad2/checkpoint-20000\n",
            "Configuration saved in bert-baseline-squad2/checkpoint-20000/config.json\n",
            "Model weights saved in bert-baseline-squad2/checkpoint-20000/pytorch_model.bin\n",
            "tokenizer config file saved in bert-baseline-squad2/checkpoint-20000/tokenizer_config.json\n",
            "Special tokens file saved in bert-baseline-squad2/checkpoint-20000/special_tokens_map.json\n",
            "Saving model checkpoint to bert-baseline-squad2/checkpoint-20500\n",
            "Configuration saved in bert-baseline-squad2/checkpoint-20500/config.json\n",
            "Model weights saved in bert-baseline-squad2/checkpoint-20500/pytorch_model.bin\n",
            "tokenizer config file saved in bert-baseline-squad2/checkpoint-20500/tokenizer_config.json\n",
            "Special tokens file saved in bert-baseline-squad2/checkpoint-20500/special_tokens_map.json\n",
            "Saving model checkpoint to bert-baseline-squad2/checkpoint-21000\n",
            "Configuration saved in bert-baseline-squad2/checkpoint-21000/config.json\n",
            "Model weights saved in bert-baseline-squad2/checkpoint-21000/pytorch_model.bin\n",
            "tokenizer config file saved in bert-baseline-squad2/checkpoint-21000/tokenizer_config.json\n",
            "Special tokens file saved in bert-baseline-squad2/checkpoint-21000/special_tokens_map.json\n",
            "Saving model checkpoint to bert-baseline-squad2/checkpoint-21500\n",
            "Configuration saved in bert-baseline-squad2/checkpoint-21500/config.json\n",
            "Model weights saved in bert-baseline-squad2/checkpoint-21500/pytorch_model.bin\n",
            "tokenizer config file saved in bert-baseline-squad2/checkpoint-21500/tokenizer_config.json\n",
            "Special tokens file saved in bert-baseline-squad2/checkpoint-21500/special_tokens_map.json\n",
            "Saving model checkpoint to bert-baseline-squad2/checkpoint-22000\n",
            "Configuration saved in bert-baseline-squad2/checkpoint-22000/config.json\n",
            "Model weights saved in bert-baseline-squad2/checkpoint-22000/pytorch_model.bin\n",
            "tokenizer config file saved in bert-baseline-squad2/checkpoint-22000/tokenizer_config.json\n",
            "Special tokens file saved in bert-baseline-squad2/checkpoint-22000/special_tokens_map.json\n",
            "Saving model checkpoint to bert-baseline-squad2/checkpoint-22500\n",
            "Configuration saved in bert-baseline-squad2/checkpoint-22500/config.json\n",
            "Model weights saved in bert-baseline-squad2/checkpoint-22500/pytorch_model.bin\n",
            "tokenizer config file saved in bert-baseline-squad2/checkpoint-22500/tokenizer_config.json\n",
            "Special tokens file saved in bert-baseline-squad2/checkpoint-22500/special_tokens_map.json\n",
            "Saving model checkpoint to bert-baseline-squad2/checkpoint-23000\n",
            "Configuration saved in bert-baseline-squad2/checkpoint-23000/config.json\n",
            "Model weights saved in bert-baseline-squad2/checkpoint-23000/pytorch_model.bin\n",
            "tokenizer config file saved in bert-baseline-squad2/checkpoint-23000/tokenizer_config.json\n",
            "Special tokens file saved in bert-baseline-squad2/checkpoint-23000/special_tokens_map.json\n",
            "Saving model checkpoint to bert-baseline-squad2/checkpoint-23500\n",
            "Configuration saved in bert-baseline-squad2/checkpoint-23500/config.json\n",
            "Model weights saved in bert-baseline-squad2/checkpoint-23500/pytorch_model.bin\n",
            "tokenizer config file saved in bert-baseline-squad2/checkpoint-23500/tokenizer_config.json\n",
            "Special tokens file saved in bert-baseline-squad2/checkpoint-23500/special_tokens_map.json\n",
            "Saving model checkpoint to bert-baseline-squad2/checkpoint-24000\n",
            "Configuration saved in bert-baseline-squad2/checkpoint-24000/config.json\n",
            "Model weights saved in bert-baseline-squad2/checkpoint-24000/pytorch_model.bin\n",
            "tokenizer config file saved in bert-baseline-squad2/checkpoint-24000/tokenizer_config.json\n",
            "Special tokens file saved in bert-baseline-squad2/checkpoint-24000/special_tokens_map.json\n",
            "***** Running Evaluation *****\n",
            "  Num examples = 11969\n",
            "  Batch size = 16\n",
            "Saving model checkpoint to bert-baseline-squad2/checkpoint-24500\n",
            "Configuration saved in bert-baseline-squad2/checkpoint-24500/config.json\n",
            "Model weights saved in bert-baseline-squad2/checkpoint-24500/pytorch_model.bin\n",
            "tokenizer config file saved in bert-baseline-squad2/checkpoint-24500/tokenizer_config.json\n",
            "Special tokens file saved in bert-baseline-squad2/checkpoint-24500/special_tokens_map.json\n",
            "Saving model checkpoint to bert-baseline-squad2/checkpoint-25000\n",
            "Configuration saved in bert-baseline-squad2/checkpoint-25000/config.json\n",
            "Model weights saved in bert-baseline-squad2/checkpoint-25000/pytorch_model.bin\n",
            "tokenizer config file saved in bert-baseline-squad2/checkpoint-25000/tokenizer_config.json\n",
            "Special tokens file saved in bert-baseline-squad2/checkpoint-25000/special_tokens_map.json\n",
            "Saving model checkpoint to bert-baseline-squad2/checkpoint-25500\n",
            "Configuration saved in bert-baseline-squad2/checkpoint-25500/config.json\n",
            "Model weights saved in bert-baseline-squad2/checkpoint-25500/pytorch_model.bin\n",
            "tokenizer config file saved in bert-baseline-squad2/checkpoint-25500/tokenizer_config.json\n",
            "Special tokens file saved in bert-baseline-squad2/checkpoint-25500/special_tokens_map.json\n",
            "Saving model checkpoint to bert-baseline-squad2/checkpoint-26000\n",
            "Configuration saved in bert-baseline-squad2/checkpoint-26000/config.json\n",
            "Model weights saved in bert-baseline-squad2/checkpoint-26000/pytorch_model.bin\n",
            "tokenizer config file saved in bert-baseline-squad2/checkpoint-26000/tokenizer_config.json\n",
            "Special tokens file saved in bert-baseline-squad2/checkpoint-26000/special_tokens_map.json\n",
            "Saving model checkpoint to bert-baseline-squad2/checkpoint-26500\n",
            "Configuration saved in bert-baseline-squad2/checkpoint-26500/config.json\n",
            "Model weights saved in bert-baseline-squad2/checkpoint-26500/pytorch_model.bin\n",
            "tokenizer config file saved in bert-baseline-squad2/checkpoint-26500/tokenizer_config.json\n",
            "Special tokens file saved in bert-baseline-squad2/checkpoint-26500/special_tokens_map.json\n",
            "Saving model checkpoint to bert-baseline-squad2/checkpoint-27000\n",
            "Configuration saved in bert-baseline-squad2/checkpoint-27000/config.json\n",
            "Model weights saved in bert-baseline-squad2/checkpoint-27000/pytorch_model.bin\n",
            "tokenizer config file saved in bert-baseline-squad2/checkpoint-27000/tokenizer_config.json\n",
            "Special tokens file saved in bert-baseline-squad2/checkpoint-27000/special_tokens_map.json\n",
            "Saving model checkpoint to bert-baseline-squad2/checkpoint-27500\n",
            "Configuration saved in bert-baseline-squad2/checkpoint-27500/config.json\n",
            "Model weights saved in bert-baseline-squad2/checkpoint-27500/pytorch_model.bin\n",
            "tokenizer config file saved in bert-baseline-squad2/checkpoint-27500/tokenizer_config.json\n",
            "Special tokens file saved in bert-baseline-squad2/checkpoint-27500/special_tokens_map.json\n",
            "Saving model checkpoint to bert-baseline-squad2/checkpoint-28000\n",
            "Configuration saved in bert-baseline-squad2/checkpoint-28000/config.json\n",
            "Model weights saved in bert-baseline-squad2/checkpoint-28000/pytorch_model.bin\n",
            "tokenizer config file saved in bert-baseline-squad2/checkpoint-28000/tokenizer_config.json\n",
            "Special tokens file saved in bert-baseline-squad2/checkpoint-28000/special_tokens_map.json\n",
            "Saving model checkpoint to bert-baseline-squad2/checkpoint-28500\n",
            "Configuration saved in bert-baseline-squad2/checkpoint-28500/config.json\n",
            "Model weights saved in bert-baseline-squad2/checkpoint-28500/pytorch_model.bin\n",
            "tokenizer config file saved in bert-baseline-squad2/checkpoint-28500/tokenizer_config.json\n",
            "Special tokens file saved in bert-baseline-squad2/checkpoint-28500/special_tokens_map.json\n",
            "Saving model checkpoint to bert-baseline-squad2/checkpoint-29000\n",
            "Configuration saved in bert-baseline-squad2/checkpoint-29000/config.json\n",
            "Model weights saved in bert-baseline-squad2/checkpoint-29000/pytorch_model.bin\n",
            "tokenizer config file saved in bert-baseline-squad2/checkpoint-29000/tokenizer_config.json\n",
            "Special tokens file saved in bert-baseline-squad2/checkpoint-29000/special_tokens_map.json\n",
            "Saving model checkpoint to bert-baseline-squad2/checkpoint-29500\n",
            "Configuration saved in bert-baseline-squad2/checkpoint-29500/config.json\n",
            "Model weights saved in bert-baseline-squad2/checkpoint-29500/pytorch_model.bin\n",
            "tokenizer config file saved in bert-baseline-squad2/checkpoint-29500/tokenizer_config.json\n",
            "Special tokens file saved in bert-baseline-squad2/checkpoint-29500/special_tokens_map.json\n",
            "Saving model checkpoint to bert-baseline-squad2/checkpoint-30000\n",
            "Configuration saved in bert-baseline-squad2/checkpoint-30000/config.json\n",
            "Model weights saved in bert-baseline-squad2/checkpoint-30000/pytorch_model.bin\n",
            "tokenizer config file saved in bert-baseline-squad2/checkpoint-30000/tokenizer_config.json\n",
            "Special tokens file saved in bert-baseline-squad2/checkpoint-30000/special_tokens_map.json\n",
            "Saving model checkpoint to bert-baseline-squad2/checkpoint-30500\n",
            "Configuration saved in bert-baseline-squad2/checkpoint-30500/config.json\n",
            "Model weights saved in bert-baseline-squad2/checkpoint-30500/pytorch_model.bin\n",
            "tokenizer config file saved in bert-baseline-squad2/checkpoint-30500/tokenizer_config.json\n",
            "Special tokens file saved in bert-baseline-squad2/checkpoint-30500/special_tokens_map.json\n",
            "Saving model checkpoint to bert-baseline-squad2/checkpoint-31000\n",
            "Configuration saved in bert-baseline-squad2/checkpoint-31000/config.json\n",
            "Model weights saved in bert-baseline-squad2/checkpoint-31000/pytorch_model.bin\n",
            "tokenizer config file saved in bert-baseline-squad2/checkpoint-31000/tokenizer_config.json\n",
            "Special tokens file saved in bert-baseline-squad2/checkpoint-31000/special_tokens_map.json\n",
            "Saving model checkpoint to bert-baseline-squad2/checkpoint-31500\n",
            "Configuration saved in bert-baseline-squad2/checkpoint-31500/config.json\n",
            "Model weights saved in bert-baseline-squad2/checkpoint-31500/pytorch_model.bin\n",
            "tokenizer config file saved in bert-baseline-squad2/checkpoint-31500/tokenizer_config.json\n",
            "Special tokens file saved in bert-baseline-squad2/checkpoint-31500/special_tokens_map.json\n",
            "Saving model checkpoint to bert-baseline-squad2/checkpoint-32000\n",
            "Configuration saved in bert-baseline-squad2/checkpoint-32000/config.json\n",
            "Model weights saved in bert-baseline-squad2/checkpoint-32000/pytorch_model.bin\n",
            "tokenizer config file saved in bert-baseline-squad2/checkpoint-32000/tokenizer_config.json\n",
            "Special tokens file saved in bert-baseline-squad2/checkpoint-32000/special_tokens_map.json\n",
            "Saving model checkpoint to bert-baseline-squad2/checkpoint-32500\n",
            "Configuration saved in bert-baseline-squad2/checkpoint-32500/config.json\n",
            "Model weights saved in bert-baseline-squad2/checkpoint-32500/pytorch_model.bin\n",
            "tokenizer config file saved in bert-baseline-squad2/checkpoint-32500/tokenizer_config.json\n",
            "Special tokens file saved in bert-baseline-squad2/checkpoint-32500/special_tokens_map.json\n",
            "***** Running Evaluation *****\n",
            "  Num examples = 11969\n",
            "  Batch size = 16\n",
            "Saving model checkpoint to bert-baseline-squad2/checkpoint-33000\n",
            "Configuration saved in bert-baseline-squad2/checkpoint-33000/config.json\n",
            "Model weights saved in bert-baseline-squad2/checkpoint-33000/pytorch_model.bin\n",
            "tokenizer config file saved in bert-baseline-squad2/checkpoint-33000/tokenizer_config.json\n",
            "Special tokens file saved in bert-baseline-squad2/checkpoint-33000/special_tokens_map.json\n",
            "Saving model checkpoint to bert-baseline-squad2/checkpoint-33500\n",
            "Configuration saved in bert-baseline-squad2/checkpoint-33500/config.json\n",
            "Model weights saved in bert-baseline-squad2/checkpoint-33500/pytorch_model.bin\n",
            "tokenizer config file saved in bert-baseline-squad2/checkpoint-33500/tokenizer_config.json\n",
            "Special tokens file saved in bert-baseline-squad2/checkpoint-33500/special_tokens_map.json\n",
            "Saving model checkpoint to bert-baseline-squad2/checkpoint-34000\n",
            "Configuration saved in bert-baseline-squad2/checkpoint-34000/config.json\n",
            "Model weights saved in bert-baseline-squad2/checkpoint-34000/pytorch_model.bin\n",
            "tokenizer config file saved in bert-baseline-squad2/checkpoint-34000/tokenizer_config.json\n",
            "Special tokens file saved in bert-baseline-squad2/checkpoint-34000/special_tokens_map.json\n",
            "Saving model checkpoint to bert-baseline-squad2/checkpoint-34500\n",
            "Configuration saved in bert-baseline-squad2/checkpoint-34500/config.json\n",
            "Model weights saved in bert-baseline-squad2/checkpoint-34500/pytorch_model.bin\n",
            "tokenizer config file saved in bert-baseline-squad2/checkpoint-34500/tokenizer_config.json\n",
            "Special tokens file saved in bert-baseline-squad2/checkpoint-34500/special_tokens_map.json\n",
            "Saving model checkpoint to bert-baseline-squad2/checkpoint-35000\n",
            "Configuration saved in bert-baseline-squad2/checkpoint-35000/config.json\n",
            "Model weights saved in bert-baseline-squad2/checkpoint-35000/pytorch_model.bin\n",
            "tokenizer config file saved in bert-baseline-squad2/checkpoint-35000/tokenizer_config.json\n",
            "Special tokens file saved in bert-baseline-squad2/checkpoint-35000/special_tokens_map.json\n",
            "Saving model checkpoint to bert-baseline-squad2/checkpoint-35500\n",
            "Configuration saved in bert-baseline-squad2/checkpoint-35500/config.json\n",
            "Model weights saved in bert-baseline-squad2/checkpoint-35500/pytorch_model.bin\n",
            "tokenizer config file saved in bert-baseline-squad2/checkpoint-35500/tokenizer_config.json\n",
            "Special tokens file saved in bert-baseline-squad2/checkpoint-35500/special_tokens_map.json\n",
            "Saving model checkpoint to bert-baseline-squad2/checkpoint-36000\n",
            "Configuration saved in bert-baseline-squad2/checkpoint-36000/config.json\n",
            "Model weights saved in bert-baseline-squad2/checkpoint-36000/pytorch_model.bin\n",
            "tokenizer config file saved in bert-baseline-squad2/checkpoint-36000/tokenizer_config.json\n",
            "Special tokens file saved in bert-baseline-squad2/checkpoint-36000/special_tokens_map.json\n",
            "Saving model checkpoint to bert-baseline-squad2/checkpoint-36500\n",
            "Configuration saved in bert-baseline-squad2/checkpoint-36500/config.json\n",
            "Model weights saved in bert-baseline-squad2/checkpoint-36500/pytorch_model.bin\n",
            "tokenizer config file saved in bert-baseline-squad2/checkpoint-36500/tokenizer_config.json\n",
            "Special tokens file saved in bert-baseline-squad2/checkpoint-36500/special_tokens_map.json\n",
            "Saving model checkpoint to bert-baseline-squad2/checkpoint-37000\n",
            "Configuration saved in bert-baseline-squad2/checkpoint-37000/config.json\n",
            "Model weights saved in bert-baseline-squad2/checkpoint-37000/pytorch_model.bin\n",
            "tokenizer config file saved in bert-baseline-squad2/checkpoint-37000/tokenizer_config.json\n",
            "Special tokens file saved in bert-baseline-squad2/checkpoint-37000/special_tokens_map.json\n",
            "Saving model checkpoint to bert-baseline-squad2/checkpoint-37500\n",
            "Configuration saved in bert-baseline-squad2/checkpoint-37500/config.json\n",
            "Model weights saved in bert-baseline-squad2/checkpoint-37500/pytorch_model.bin\n",
            "tokenizer config file saved in bert-baseline-squad2/checkpoint-37500/tokenizer_config.json\n",
            "Special tokens file saved in bert-baseline-squad2/checkpoint-37500/special_tokens_map.json\n",
            "Saving model checkpoint to bert-baseline-squad2/checkpoint-38000\n",
            "Configuration saved in bert-baseline-squad2/checkpoint-38000/config.json\n",
            "Model weights saved in bert-baseline-squad2/checkpoint-38000/pytorch_model.bin\n",
            "tokenizer config file saved in bert-baseline-squad2/checkpoint-38000/tokenizer_config.json\n",
            "Special tokens file saved in bert-baseline-squad2/checkpoint-38000/special_tokens_map.json\n",
            "Saving model checkpoint to bert-baseline-squad2/checkpoint-38500\n",
            "Configuration saved in bert-baseline-squad2/checkpoint-38500/config.json\n",
            "Model weights saved in bert-baseline-squad2/checkpoint-38500/pytorch_model.bin\n",
            "tokenizer config file saved in bert-baseline-squad2/checkpoint-38500/tokenizer_config.json\n",
            "Special tokens file saved in bert-baseline-squad2/checkpoint-38500/special_tokens_map.json\n",
            "Saving model checkpoint to bert-baseline-squad2/checkpoint-39000\n",
            "Configuration saved in bert-baseline-squad2/checkpoint-39000/config.json\n",
            "Model weights saved in bert-baseline-squad2/checkpoint-39000/pytorch_model.bin\n",
            "tokenizer config file saved in bert-baseline-squad2/checkpoint-39000/tokenizer_config.json\n",
            "Special tokens file saved in bert-baseline-squad2/checkpoint-39000/special_tokens_map.json\n",
            "Saving model checkpoint to bert-baseline-squad2/checkpoint-39500\n",
            "Configuration saved in bert-baseline-squad2/checkpoint-39500/config.json\n",
            "Model weights saved in bert-baseline-squad2/checkpoint-39500/pytorch_model.bin\n",
            "tokenizer config file saved in bert-baseline-squad2/checkpoint-39500/tokenizer_config.json\n",
            "Special tokens file saved in bert-baseline-squad2/checkpoint-39500/special_tokens_map.json\n",
            "Saving model checkpoint to bert-baseline-squad2/checkpoint-40000\n",
            "Configuration saved in bert-baseline-squad2/checkpoint-40000/config.json\n",
            "Model weights saved in bert-baseline-squad2/checkpoint-40000/pytorch_model.bin\n",
            "tokenizer config file saved in bert-baseline-squad2/checkpoint-40000/tokenizer_config.json\n",
            "Special tokens file saved in bert-baseline-squad2/checkpoint-40000/special_tokens_map.json\n",
            "Saving model checkpoint to bert-baseline-squad2/checkpoint-40500\n",
            "Configuration saved in bert-baseline-squad2/checkpoint-40500/config.json\n",
            "Model weights saved in bert-baseline-squad2/checkpoint-40500/pytorch_model.bin\n",
            "tokenizer config file saved in bert-baseline-squad2/checkpoint-40500/tokenizer_config.json\n",
            "Special tokens file saved in bert-baseline-squad2/checkpoint-40500/special_tokens_map.json\n",
            "***** Running Evaluation *****\n",
            "  Num examples = 11969\n",
            "  Batch size = 16\n",
            "Saving model checkpoint to bert-baseline-squad2/checkpoint-41000\n",
            "Configuration saved in bert-baseline-squad2/checkpoint-41000/config.json\n",
            "Model weights saved in bert-baseline-squad2/checkpoint-41000/pytorch_model.bin\n",
            "tokenizer config file saved in bert-baseline-squad2/checkpoint-41000/tokenizer_config.json\n",
            "Special tokens file saved in bert-baseline-squad2/checkpoint-41000/special_tokens_map.json\n",
            "Saving model checkpoint to bert-baseline-squad2/checkpoint-41500\n",
            "Configuration saved in bert-baseline-squad2/checkpoint-41500/config.json\n",
            "Model weights saved in bert-baseline-squad2/checkpoint-41500/pytorch_model.bin\n",
            "tokenizer config file saved in bert-baseline-squad2/checkpoint-41500/tokenizer_config.json\n",
            "Special tokens file saved in bert-baseline-squad2/checkpoint-41500/special_tokens_map.json\n",
            "Saving model checkpoint to bert-baseline-squad2/checkpoint-42000\n",
            "Configuration saved in bert-baseline-squad2/checkpoint-42000/config.json\n",
            "Model weights saved in bert-baseline-squad2/checkpoint-42000/pytorch_model.bin\n",
            "tokenizer config file saved in bert-baseline-squad2/checkpoint-42000/tokenizer_config.json\n",
            "Special tokens file saved in bert-baseline-squad2/checkpoint-42000/special_tokens_map.json\n",
            "Saving model checkpoint to bert-baseline-squad2/checkpoint-42500\n",
            "Configuration saved in bert-baseline-squad2/checkpoint-42500/config.json\n",
            "Model weights saved in bert-baseline-squad2/checkpoint-42500/pytorch_model.bin\n",
            "tokenizer config file saved in bert-baseline-squad2/checkpoint-42500/tokenizer_config.json\n",
            "Special tokens file saved in bert-baseline-squad2/checkpoint-42500/special_tokens_map.json\n",
            "Saving model checkpoint to bert-baseline-squad2/checkpoint-43000\n",
            "Configuration saved in bert-baseline-squad2/checkpoint-43000/config.json\n",
            "Model weights saved in bert-baseline-squad2/checkpoint-43000/pytorch_model.bin\n",
            "tokenizer config file saved in bert-baseline-squad2/checkpoint-43000/tokenizer_config.json\n",
            "Special tokens file saved in bert-baseline-squad2/checkpoint-43000/special_tokens_map.json\n",
            "Saving model checkpoint to bert-baseline-squad2/checkpoint-43500\n",
            "Configuration saved in bert-baseline-squad2/checkpoint-43500/config.json\n",
            "Model weights saved in bert-baseline-squad2/checkpoint-43500/pytorch_model.bin\n",
            "tokenizer config file saved in bert-baseline-squad2/checkpoint-43500/tokenizer_config.json\n",
            "Special tokens file saved in bert-baseline-squad2/checkpoint-43500/special_tokens_map.json\n",
            "Saving model checkpoint to bert-baseline-squad2/checkpoint-44000\n",
            "Configuration saved in bert-baseline-squad2/checkpoint-44000/config.json\n",
            "Model weights saved in bert-baseline-squad2/checkpoint-44000/pytorch_model.bin\n",
            "tokenizer config file saved in bert-baseline-squad2/checkpoint-44000/tokenizer_config.json\n",
            "Special tokens file saved in bert-baseline-squad2/checkpoint-44000/special_tokens_map.json\n",
            "Saving model checkpoint to bert-baseline-squad2/checkpoint-44500\n",
            "Configuration saved in bert-baseline-squad2/checkpoint-44500/config.json\n",
            "Model weights saved in bert-baseline-squad2/checkpoint-44500/pytorch_model.bin\n",
            "tokenizer config file saved in bert-baseline-squad2/checkpoint-44500/tokenizer_config.json\n",
            "Special tokens file saved in bert-baseline-squad2/checkpoint-44500/special_tokens_map.json\n",
            "Saving model checkpoint to bert-baseline-squad2/checkpoint-45000\n",
            "Configuration saved in bert-baseline-squad2/checkpoint-45000/config.json\n",
            "Model weights saved in bert-baseline-squad2/checkpoint-45000/pytorch_model.bin\n",
            "tokenizer config file saved in bert-baseline-squad2/checkpoint-45000/tokenizer_config.json\n",
            "Special tokens file saved in bert-baseline-squad2/checkpoint-45000/special_tokens_map.json\n",
            "Saving model checkpoint to bert-baseline-squad2/checkpoint-45500\n",
            "Configuration saved in bert-baseline-squad2/checkpoint-45500/config.json\n",
            "Model weights saved in bert-baseline-squad2/checkpoint-45500/pytorch_model.bin\n",
            "tokenizer config file saved in bert-baseline-squad2/checkpoint-45500/tokenizer_config.json\n",
            "Special tokens file saved in bert-baseline-squad2/checkpoint-45500/special_tokens_map.json\n",
            "Saving model checkpoint to bert-baseline-squad2/checkpoint-46000\n",
            "Configuration saved in bert-baseline-squad2/checkpoint-46000/config.json\n",
            "Model weights saved in bert-baseline-squad2/checkpoint-46000/pytorch_model.bin\n",
            "tokenizer config file saved in bert-baseline-squad2/checkpoint-46000/tokenizer_config.json\n",
            "Special tokens file saved in bert-baseline-squad2/checkpoint-46000/special_tokens_map.json\n",
            "Saving model checkpoint to bert-baseline-squad2/checkpoint-46500\n",
            "Configuration saved in bert-baseline-squad2/checkpoint-46500/config.json\n",
            "Model weights saved in bert-baseline-squad2/checkpoint-46500/pytorch_model.bin\n",
            "tokenizer config file saved in bert-baseline-squad2/checkpoint-46500/tokenizer_config.json\n",
            "Special tokens file saved in bert-baseline-squad2/checkpoint-46500/special_tokens_map.json\n",
            "Saving model checkpoint to bert-baseline-squad2/checkpoint-47000\n",
            "Configuration saved in bert-baseline-squad2/checkpoint-47000/config.json\n",
            "Model weights saved in bert-baseline-squad2/checkpoint-47000/pytorch_model.bin\n",
            "tokenizer config file saved in bert-baseline-squad2/checkpoint-47000/tokenizer_config.json\n",
            "Special tokens file saved in bert-baseline-squad2/checkpoint-47000/special_tokens_map.json\n",
            "Saving model checkpoint to bert-baseline-squad2/checkpoint-47500\n",
            "Configuration saved in bert-baseline-squad2/checkpoint-47500/config.json\n",
            "Model weights saved in bert-baseline-squad2/checkpoint-47500/pytorch_model.bin\n",
            "tokenizer config file saved in bert-baseline-squad2/checkpoint-47500/tokenizer_config.json\n",
            "Special tokens file saved in bert-baseline-squad2/checkpoint-47500/special_tokens_map.json\n",
            "Saving model checkpoint to bert-baseline-squad2/checkpoint-48000\n",
            "Configuration saved in bert-baseline-squad2/checkpoint-48000/config.json\n",
            "Model weights saved in bert-baseline-squad2/checkpoint-48000/pytorch_model.bin\n",
            "tokenizer config file saved in bert-baseline-squad2/checkpoint-48000/tokenizer_config.json\n",
            "Special tokens file saved in bert-baseline-squad2/checkpoint-48000/special_tokens_map.json\n",
            "Saving model checkpoint to bert-baseline-squad2/checkpoint-48500\n",
            "Configuration saved in bert-baseline-squad2/checkpoint-48500/config.json\n",
            "Model weights saved in bert-baseline-squad2/checkpoint-48500/pytorch_model.bin\n",
            "tokenizer config file saved in bert-baseline-squad2/checkpoint-48500/tokenizer_config.json\n",
            "Special tokens file saved in bert-baseline-squad2/checkpoint-48500/special_tokens_map.json\n",
            "***** Running Evaluation *****\n",
            "  Num examples = 11969\n",
            "  Batch size = 16\n",
            "Saving model checkpoint to bert-baseline-squad2/checkpoint-49000\n",
            "Configuration saved in bert-baseline-squad2/checkpoint-49000/config.json\n",
            "Model weights saved in bert-baseline-squad2/checkpoint-49000/pytorch_model.bin\n",
            "tokenizer config file saved in bert-baseline-squad2/checkpoint-49000/tokenizer_config.json\n",
            "Special tokens file saved in bert-baseline-squad2/checkpoint-49000/special_tokens_map.json\n",
            "Saving model checkpoint to bert-baseline-squad2/checkpoint-49500\n",
            "Configuration saved in bert-baseline-squad2/checkpoint-49500/config.json\n",
            "Model weights saved in bert-baseline-squad2/checkpoint-49500/pytorch_model.bin\n",
            "tokenizer config file saved in bert-baseline-squad2/checkpoint-49500/tokenizer_config.json\n",
            "Special tokens file saved in bert-baseline-squad2/checkpoint-49500/special_tokens_map.json\n",
            "Saving model checkpoint to bert-baseline-squad2/checkpoint-50000\n",
            "Configuration saved in bert-baseline-squad2/checkpoint-50000/config.json\n",
            "Model weights saved in bert-baseline-squad2/checkpoint-50000/pytorch_model.bin\n",
            "tokenizer config file saved in bert-baseline-squad2/checkpoint-50000/tokenizer_config.json\n",
            "Special tokens file saved in bert-baseline-squad2/checkpoint-50000/special_tokens_map.json\n",
            "Saving model checkpoint to bert-baseline-squad2/checkpoint-50500\n",
            "Configuration saved in bert-baseline-squad2/checkpoint-50500/config.json\n",
            "Model weights saved in bert-baseline-squad2/checkpoint-50500/pytorch_model.bin\n",
            "tokenizer config file saved in bert-baseline-squad2/checkpoint-50500/tokenizer_config.json\n",
            "Special tokens file saved in bert-baseline-squad2/checkpoint-50500/special_tokens_map.json\n",
            "Saving model checkpoint to bert-baseline-squad2/checkpoint-51000\n",
            "Configuration saved in bert-baseline-squad2/checkpoint-51000/config.json\n",
            "Model weights saved in bert-baseline-squad2/checkpoint-51000/pytorch_model.bin\n",
            "tokenizer config file saved in bert-baseline-squad2/checkpoint-51000/tokenizer_config.json\n",
            "Special tokens file saved in bert-baseline-squad2/checkpoint-51000/special_tokens_map.json\n",
            "Saving model checkpoint to bert-baseline-squad2/checkpoint-51500\n",
            "Configuration saved in bert-baseline-squad2/checkpoint-51500/config.json\n",
            "Model weights saved in bert-baseline-squad2/checkpoint-51500/pytorch_model.bin\n",
            "tokenizer config file saved in bert-baseline-squad2/checkpoint-51500/tokenizer_config.json\n",
            "Special tokens file saved in bert-baseline-squad2/checkpoint-51500/special_tokens_map.json\n",
            "Saving model checkpoint to bert-baseline-squad2/checkpoint-52000\n",
            "Configuration saved in bert-baseline-squad2/checkpoint-52000/config.json\n",
            "Model weights saved in bert-baseline-squad2/checkpoint-52000/pytorch_model.bin\n",
            "tokenizer config file saved in bert-baseline-squad2/checkpoint-52000/tokenizer_config.json\n",
            "Special tokens file saved in bert-baseline-squad2/checkpoint-52000/special_tokens_map.json\n",
            "Saving model checkpoint to bert-baseline-squad2/checkpoint-52500\n",
            "Configuration saved in bert-baseline-squad2/checkpoint-52500/config.json\n",
            "Model weights saved in bert-baseline-squad2/checkpoint-52500/pytorch_model.bin\n",
            "tokenizer config file saved in bert-baseline-squad2/checkpoint-52500/tokenizer_config.json\n",
            "Special tokens file saved in bert-baseline-squad2/checkpoint-52500/special_tokens_map.json\n",
            "Saving model checkpoint to bert-baseline-squad2/checkpoint-53000\n",
            "Configuration saved in bert-baseline-squad2/checkpoint-53000/config.json\n",
            "Model weights saved in bert-baseline-squad2/checkpoint-53000/pytorch_model.bin\n",
            "tokenizer config file saved in bert-baseline-squad2/checkpoint-53000/tokenizer_config.json\n",
            "Special tokens file saved in bert-baseline-squad2/checkpoint-53000/special_tokens_map.json\n",
            "Saving model checkpoint to bert-baseline-squad2/checkpoint-53500\n",
            "Configuration saved in bert-baseline-squad2/checkpoint-53500/config.json\n",
            "Model weights saved in bert-baseline-squad2/checkpoint-53500/pytorch_model.bin\n",
            "tokenizer config file saved in bert-baseline-squad2/checkpoint-53500/tokenizer_config.json\n",
            "Special tokens file saved in bert-baseline-squad2/checkpoint-53500/special_tokens_map.json\n",
            "Saving model checkpoint to bert-baseline-squad2/checkpoint-54000\n",
            "Configuration saved in bert-baseline-squad2/checkpoint-54000/config.json\n",
            "Model weights saved in bert-baseline-squad2/checkpoint-54000/pytorch_model.bin\n",
            "tokenizer config file saved in bert-baseline-squad2/checkpoint-54000/tokenizer_config.json\n",
            "Special tokens file saved in bert-baseline-squad2/checkpoint-54000/special_tokens_map.json\n",
            "Saving model checkpoint to bert-baseline-squad2/checkpoint-54500\n",
            "Configuration saved in bert-baseline-squad2/checkpoint-54500/config.json\n",
            "Model weights saved in bert-baseline-squad2/checkpoint-54500/pytorch_model.bin\n",
            "tokenizer config file saved in bert-baseline-squad2/checkpoint-54500/tokenizer_config.json\n",
            "Special tokens file saved in bert-baseline-squad2/checkpoint-54500/special_tokens_map.json\n",
            "Saving model checkpoint to bert-baseline-squad2/checkpoint-55000\n",
            "Configuration saved in bert-baseline-squad2/checkpoint-55000/config.json\n",
            "Model weights saved in bert-baseline-squad2/checkpoint-55000/pytorch_model.bin\n",
            "tokenizer config file saved in bert-baseline-squad2/checkpoint-55000/tokenizer_config.json\n",
            "Special tokens file saved in bert-baseline-squad2/checkpoint-55000/special_tokens_map.json\n",
            "Saving model checkpoint to bert-baseline-squad2/checkpoint-55500\n",
            "Configuration saved in bert-baseline-squad2/checkpoint-55500/config.json\n",
            "Model weights saved in bert-baseline-squad2/checkpoint-55500/pytorch_model.bin\n",
            "tokenizer config file saved in bert-baseline-squad2/checkpoint-55500/tokenizer_config.json\n",
            "Special tokens file saved in bert-baseline-squad2/checkpoint-55500/special_tokens_map.json\n",
            "Saving model checkpoint to bert-baseline-squad2/checkpoint-56000\n",
            "Configuration saved in bert-baseline-squad2/checkpoint-56000/config.json\n",
            "Model weights saved in bert-baseline-squad2/checkpoint-56000/pytorch_model.bin\n",
            "tokenizer config file saved in bert-baseline-squad2/checkpoint-56000/tokenizer_config.json\n",
            "Special tokens file saved in bert-baseline-squad2/checkpoint-56000/special_tokens_map.json\n",
            "Saving model checkpoint to bert-baseline-squad2/checkpoint-56500\n",
            "Configuration saved in bert-baseline-squad2/checkpoint-56500/config.json\n",
            "Model weights saved in bert-baseline-squad2/checkpoint-56500/pytorch_model.bin\n",
            "tokenizer config file saved in bert-baseline-squad2/checkpoint-56500/tokenizer_config.json\n",
            "Special tokens file saved in bert-baseline-squad2/checkpoint-56500/special_tokens_map.json\n",
            "Saving model checkpoint to bert-baseline-squad2/checkpoint-57000\n",
            "Configuration saved in bert-baseline-squad2/checkpoint-57000/config.json\n",
            "Model weights saved in bert-baseline-squad2/checkpoint-57000/pytorch_model.bin\n",
            "tokenizer config file saved in bert-baseline-squad2/checkpoint-57000/tokenizer_config.json\n",
            "Special tokens file saved in bert-baseline-squad2/checkpoint-57000/special_tokens_map.json\n",
            "***** Running Evaluation *****\n",
            "  Num examples = 11969\n",
            "  Batch size = 16\n",
            "Saving model checkpoint to bert-baseline-squad2/checkpoint-57500\n",
            "Configuration saved in bert-baseline-squad2/checkpoint-57500/config.json\n",
            "Model weights saved in bert-baseline-squad2/checkpoint-57500/pytorch_model.bin\n",
            "tokenizer config file saved in bert-baseline-squad2/checkpoint-57500/tokenizer_config.json\n",
            "Special tokens file saved in bert-baseline-squad2/checkpoint-57500/special_tokens_map.json\n",
            "Saving model checkpoint to bert-baseline-squad2/checkpoint-58000\n",
            "Configuration saved in bert-baseline-squad2/checkpoint-58000/config.json\n",
            "Model weights saved in bert-baseline-squad2/checkpoint-58000/pytorch_model.bin\n",
            "tokenizer config file saved in bert-baseline-squad2/checkpoint-58000/tokenizer_config.json\n",
            "Special tokens file saved in bert-baseline-squad2/checkpoint-58000/special_tokens_map.json\n",
            "Saving model checkpoint to bert-baseline-squad2/checkpoint-58500\n",
            "Configuration saved in bert-baseline-squad2/checkpoint-58500/config.json\n",
            "Model weights saved in bert-baseline-squad2/checkpoint-58500/pytorch_model.bin\n",
            "tokenizer config file saved in bert-baseline-squad2/checkpoint-58500/tokenizer_config.json\n",
            "Special tokens file saved in bert-baseline-squad2/checkpoint-58500/special_tokens_map.json\n",
            "Saving model checkpoint to bert-baseline-squad2/checkpoint-59000\n",
            "Configuration saved in bert-baseline-squad2/checkpoint-59000/config.json\n",
            "Model weights saved in bert-baseline-squad2/checkpoint-59000/pytorch_model.bin\n",
            "tokenizer config file saved in bert-baseline-squad2/checkpoint-59000/tokenizer_config.json\n",
            "Special tokens file saved in bert-baseline-squad2/checkpoint-59000/special_tokens_map.json\n",
            "Saving model checkpoint to bert-baseline-squad2/checkpoint-59500\n",
            "Configuration saved in bert-baseline-squad2/checkpoint-59500/config.json\n",
            "Model weights saved in bert-baseline-squad2/checkpoint-59500/pytorch_model.bin\n",
            "tokenizer config file saved in bert-baseline-squad2/checkpoint-59500/tokenizer_config.json\n",
            "Special tokens file saved in bert-baseline-squad2/checkpoint-59500/special_tokens_map.json\n",
            "Saving model checkpoint to bert-baseline-squad2/checkpoint-60000\n",
            "Configuration saved in bert-baseline-squad2/checkpoint-60000/config.json\n",
            "Model weights saved in bert-baseline-squad2/checkpoint-60000/pytorch_model.bin\n",
            "tokenizer config file saved in bert-baseline-squad2/checkpoint-60000/tokenizer_config.json\n",
            "Special tokens file saved in bert-baseline-squad2/checkpoint-60000/special_tokens_map.json\n",
            "Saving model checkpoint to bert-baseline-squad2/checkpoint-60500\n",
            "Configuration saved in bert-baseline-squad2/checkpoint-60500/config.json\n",
            "Model weights saved in bert-baseline-squad2/checkpoint-60500/pytorch_model.bin\n",
            "tokenizer config file saved in bert-baseline-squad2/checkpoint-60500/tokenizer_config.json\n",
            "Special tokens file saved in bert-baseline-squad2/checkpoint-60500/special_tokens_map.json\n",
            "Saving model checkpoint to bert-baseline-squad2/checkpoint-61000\n",
            "Configuration saved in bert-baseline-squad2/checkpoint-61000/config.json\n",
            "Model weights saved in bert-baseline-squad2/checkpoint-61000/pytorch_model.bin\n",
            "tokenizer config file saved in bert-baseline-squad2/checkpoint-61000/tokenizer_config.json\n",
            "Special tokens file saved in bert-baseline-squad2/checkpoint-61000/special_tokens_map.json\n",
            "Saving model checkpoint to bert-baseline-squad2/checkpoint-61500\n",
            "Configuration saved in bert-baseline-squad2/checkpoint-61500/config.json\n",
            "Model weights saved in bert-baseline-squad2/checkpoint-61500/pytorch_model.bin\n",
            "tokenizer config file saved in bert-baseline-squad2/checkpoint-61500/tokenizer_config.json\n",
            "Special tokens file saved in bert-baseline-squad2/checkpoint-61500/special_tokens_map.json\n",
            "Saving model checkpoint to bert-baseline-squad2/checkpoint-62000\n",
            "Configuration saved in bert-baseline-squad2/checkpoint-62000/config.json\n",
            "Model weights saved in bert-baseline-squad2/checkpoint-62000/pytorch_model.bin\n",
            "tokenizer config file saved in bert-baseline-squad2/checkpoint-62000/tokenizer_config.json\n",
            "Special tokens file saved in bert-baseline-squad2/checkpoint-62000/special_tokens_map.json\n",
            "Saving model checkpoint to bert-baseline-squad2/checkpoint-62500\n",
            "Configuration saved in bert-baseline-squad2/checkpoint-62500/config.json\n",
            "Model weights saved in bert-baseline-squad2/checkpoint-62500/pytorch_model.bin\n",
            "tokenizer config file saved in bert-baseline-squad2/checkpoint-62500/tokenizer_config.json\n",
            "Special tokens file saved in bert-baseline-squad2/checkpoint-62500/special_tokens_map.json\n",
            "Saving model checkpoint to bert-baseline-squad2/checkpoint-63000\n",
            "Configuration saved in bert-baseline-squad2/checkpoint-63000/config.json\n",
            "Model weights saved in bert-baseline-squad2/checkpoint-63000/pytorch_model.bin\n",
            "tokenizer config file saved in bert-baseline-squad2/checkpoint-63000/tokenizer_config.json\n",
            "Special tokens file saved in bert-baseline-squad2/checkpoint-63000/special_tokens_map.json\n",
            "Saving model checkpoint to bert-baseline-squad2/checkpoint-63500\n",
            "Configuration saved in bert-baseline-squad2/checkpoint-63500/config.json\n",
            "Model weights saved in bert-baseline-squad2/checkpoint-63500/pytorch_model.bin\n",
            "tokenizer config file saved in bert-baseline-squad2/checkpoint-63500/tokenizer_config.json\n",
            "Special tokens file saved in bert-baseline-squad2/checkpoint-63500/special_tokens_map.json\n",
            "Saving model checkpoint to bert-baseline-squad2/checkpoint-64000\n",
            "Configuration saved in bert-baseline-squad2/checkpoint-64000/config.json\n",
            "Model weights saved in bert-baseline-squad2/checkpoint-64000/pytorch_model.bin\n",
            "tokenizer config file saved in bert-baseline-squad2/checkpoint-64000/tokenizer_config.json\n",
            "Special tokens file saved in bert-baseline-squad2/checkpoint-64000/special_tokens_map.json\n",
            "Saving model checkpoint to bert-baseline-squad2/checkpoint-64500\n",
            "Configuration saved in bert-baseline-squad2/checkpoint-64500/config.json\n",
            "Model weights saved in bert-baseline-squad2/checkpoint-64500/pytorch_model.bin\n",
            "tokenizer config file saved in bert-baseline-squad2/checkpoint-64500/tokenizer_config.json\n",
            "Special tokens file saved in bert-baseline-squad2/checkpoint-64500/special_tokens_map.json\n",
            "Saving model checkpoint to bert-baseline-squad2/checkpoint-65000\n",
            "Configuration saved in bert-baseline-squad2/checkpoint-65000/config.json\n",
            "Model weights saved in bert-baseline-squad2/checkpoint-65000/pytorch_model.bin\n",
            "tokenizer config file saved in bert-baseline-squad2/checkpoint-65000/tokenizer_config.json\n",
            "Special tokens file saved in bert-baseline-squad2/checkpoint-65000/special_tokens_map.json\n",
            "***** Running Evaluation *****\n",
            "  Num examples = 11969\n",
            "  Batch size = 16\n",
            "Saving model checkpoint to bert-baseline-squad2/checkpoint-65500\n",
            "Configuration saved in bert-baseline-squad2/checkpoint-65500/config.json\n",
            "Model weights saved in bert-baseline-squad2/checkpoint-65500/pytorch_model.bin\n",
            "tokenizer config file saved in bert-baseline-squad2/checkpoint-65500/tokenizer_config.json\n",
            "Special tokens file saved in bert-baseline-squad2/checkpoint-65500/special_tokens_map.json\n",
            "Saving model checkpoint to bert-baseline-squad2/checkpoint-66000\n",
            "Configuration saved in bert-baseline-squad2/checkpoint-66000/config.json\n",
            "Model weights saved in bert-baseline-squad2/checkpoint-66000/pytorch_model.bin\n",
            "tokenizer config file saved in bert-baseline-squad2/checkpoint-66000/tokenizer_config.json\n",
            "Special tokens file saved in bert-baseline-squad2/checkpoint-66000/special_tokens_map.json\n",
            "Saving model checkpoint to bert-baseline-squad2/checkpoint-66500\n",
            "Configuration saved in bert-baseline-squad2/checkpoint-66500/config.json\n",
            "Model weights saved in bert-baseline-squad2/checkpoint-66500/pytorch_model.bin\n",
            "tokenizer config file saved in bert-baseline-squad2/checkpoint-66500/tokenizer_config.json\n",
            "Special tokens file saved in bert-baseline-squad2/checkpoint-66500/special_tokens_map.json\n",
            "Saving model checkpoint to bert-baseline-squad2/checkpoint-67000\n",
            "Configuration saved in bert-baseline-squad2/checkpoint-67000/config.json\n",
            "Model weights saved in bert-baseline-squad2/checkpoint-67000/pytorch_model.bin\n",
            "tokenizer config file saved in bert-baseline-squad2/checkpoint-67000/tokenizer_config.json\n",
            "Special tokens file saved in bert-baseline-squad2/checkpoint-67000/special_tokens_map.json\n",
            "Saving model checkpoint to bert-baseline-squad2/checkpoint-67500\n",
            "Configuration saved in bert-baseline-squad2/checkpoint-67500/config.json\n",
            "Model weights saved in bert-baseline-squad2/checkpoint-67500/pytorch_model.bin\n",
            "tokenizer config file saved in bert-baseline-squad2/checkpoint-67500/tokenizer_config.json\n",
            "Special tokens file saved in bert-baseline-squad2/checkpoint-67500/special_tokens_map.json\n",
            "Saving model checkpoint to bert-baseline-squad2/checkpoint-68000\n",
            "Configuration saved in bert-baseline-squad2/checkpoint-68000/config.json\n",
            "Model weights saved in bert-baseline-squad2/checkpoint-68000/pytorch_model.bin\n",
            "tokenizer config file saved in bert-baseline-squad2/checkpoint-68000/tokenizer_config.json\n",
            "Special tokens file saved in bert-baseline-squad2/checkpoint-68000/special_tokens_map.json\n",
            "Saving model checkpoint to bert-baseline-squad2/checkpoint-68500\n",
            "Configuration saved in bert-baseline-squad2/checkpoint-68500/config.json\n",
            "Model weights saved in bert-baseline-squad2/checkpoint-68500/pytorch_model.bin\n",
            "tokenizer config file saved in bert-baseline-squad2/checkpoint-68500/tokenizer_config.json\n",
            "Special tokens file saved in bert-baseline-squad2/checkpoint-68500/special_tokens_map.json\n",
            "Saving model checkpoint to bert-baseline-squad2/checkpoint-69000\n",
            "Configuration saved in bert-baseline-squad2/checkpoint-69000/config.json\n",
            "Model weights saved in bert-baseline-squad2/checkpoint-69000/pytorch_model.bin\n",
            "tokenizer config file saved in bert-baseline-squad2/checkpoint-69000/tokenizer_config.json\n",
            "Special tokens file saved in bert-baseline-squad2/checkpoint-69000/special_tokens_map.json\n",
            "Saving model checkpoint to bert-baseline-squad2/checkpoint-69500\n",
            "Configuration saved in bert-baseline-squad2/checkpoint-69500/config.json\n",
            "Model weights saved in bert-baseline-squad2/checkpoint-69500/pytorch_model.bin\n",
            "tokenizer config file saved in bert-baseline-squad2/checkpoint-69500/tokenizer_config.json\n",
            "Special tokens file saved in bert-baseline-squad2/checkpoint-69500/special_tokens_map.json\n",
            "Saving model checkpoint to bert-baseline-squad2/checkpoint-70000\n",
            "Configuration saved in bert-baseline-squad2/checkpoint-70000/config.json\n",
            "Model weights saved in bert-baseline-squad2/checkpoint-70000/pytorch_model.bin\n",
            "tokenizer config file saved in bert-baseline-squad2/checkpoint-70000/tokenizer_config.json\n",
            "Special tokens file saved in bert-baseline-squad2/checkpoint-70000/special_tokens_map.json\n",
            "Saving model checkpoint to bert-baseline-squad2/checkpoint-70500\n",
            "Configuration saved in bert-baseline-squad2/checkpoint-70500/config.json\n",
            "Model weights saved in bert-baseline-squad2/checkpoint-70500/pytorch_model.bin\n",
            "tokenizer config file saved in bert-baseline-squad2/checkpoint-70500/tokenizer_config.json\n",
            "Special tokens file saved in bert-baseline-squad2/checkpoint-70500/special_tokens_map.json\n",
            "Saving model checkpoint to bert-baseline-squad2/checkpoint-71000\n",
            "Configuration saved in bert-baseline-squad2/checkpoint-71000/config.json\n",
            "Model weights saved in bert-baseline-squad2/checkpoint-71000/pytorch_model.bin\n",
            "tokenizer config file saved in bert-baseline-squad2/checkpoint-71000/tokenizer_config.json\n",
            "Special tokens file saved in bert-baseline-squad2/checkpoint-71000/special_tokens_map.json\n",
            "Saving model checkpoint to bert-baseline-squad2/checkpoint-71500\n",
            "Configuration saved in bert-baseline-squad2/checkpoint-71500/config.json\n",
            "Model weights saved in bert-baseline-squad2/checkpoint-71500/pytorch_model.bin\n",
            "tokenizer config file saved in bert-baseline-squad2/checkpoint-71500/tokenizer_config.json\n",
            "Special tokens file saved in bert-baseline-squad2/checkpoint-71500/special_tokens_map.json\n",
            "Saving model checkpoint to bert-baseline-squad2/checkpoint-72000\n",
            "Configuration saved in bert-baseline-squad2/checkpoint-72000/config.json\n",
            "Model weights saved in bert-baseline-squad2/checkpoint-72000/pytorch_model.bin\n",
            "tokenizer config file saved in bert-baseline-squad2/checkpoint-72000/tokenizer_config.json\n",
            "Special tokens file saved in bert-baseline-squad2/checkpoint-72000/special_tokens_map.json\n",
            "Saving model checkpoint to bert-baseline-squad2/checkpoint-72500\n",
            "Configuration saved in bert-baseline-squad2/checkpoint-72500/config.json\n",
            "Model weights saved in bert-baseline-squad2/checkpoint-72500/pytorch_model.bin\n",
            "tokenizer config file saved in bert-baseline-squad2/checkpoint-72500/tokenizer_config.json\n",
            "Special tokens file saved in bert-baseline-squad2/checkpoint-72500/special_tokens_map.json\n",
            "Saving model checkpoint to bert-baseline-squad2/checkpoint-73000\n",
            "Configuration saved in bert-baseline-squad2/checkpoint-73000/config.json\n",
            "Model weights saved in bert-baseline-squad2/checkpoint-73000/pytorch_model.bin\n",
            "tokenizer config file saved in bert-baseline-squad2/checkpoint-73000/tokenizer_config.json\n",
            "Special tokens file saved in bert-baseline-squad2/checkpoint-73000/special_tokens_map.json\n",
            "***** Running Evaluation *****\n",
            "  Num examples = 11969\n",
            "  Batch size = 16\n",
            "Saving model checkpoint to bert-baseline-squad2/checkpoint-73500\n",
            "Configuration saved in bert-baseline-squad2/checkpoint-73500/config.json\n",
            "Model weights saved in bert-baseline-squad2/checkpoint-73500/pytorch_model.bin\n",
            "tokenizer config file saved in bert-baseline-squad2/checkpoint-73500/tokenizer_config.json\n",
            "Special tokens file saved in bert-baseline-squad2/checkpoint-73500/special_tokens_map.json\n",
            "Saving model checkpoint to bert-baseline-squad2/checkpoint-74000\n",
            "Configuration saved in bert-baseline-squad2/checkpoint-74000/config.json\n",
            "Model weights saved in bert-baseline-squad2/checkpoint-74000/pytorch_model.bin\n",
            "tokenizer config file saved in bert-baseline-squad2/checkpoint-74000/tokenizer_config.json\n",
            "Special tokens file saved in bert-baseline-squad2/checkpoint-74000/special_tokens_map.json\n",
            "Saving model checkpoint to bert-baseline-squad2/checkpoint-74500\n",
            "Configuration saved in bert-baseline-squad2/checkpoint-74500/config.json\n",
            "Model weights saved in bert-baseline-squad2/checkpoint-74500/pytorch_model.bin\n",
            "tokenizer config file saved in bert-baseline-squad2/checkpoint-74500/tokenizer_config.json\n",
            "Special tokens file saved in bert-baseline-squad2/checkpoint-74500/special_tokens_map.json\n",
            "Saving model checkpoint to bert-baseline-squad2/checkpoint-75000\n",
            "Configuration saved in bert-baseline-squad2/checkpoint-75000/config.json\n",
            "Model weights saved in bert-baseline-squad2/checkpoint-75000/pytorch_model.bin\n",
            "tokenizer config file saved in bert-baseline-squad2/checkpoint-75000/tokenizer_config.json\n",
            "Special tokens file saved in bert-baseline-squad2/checkpoint-75000/special_tokens_map.json\n",
            "Saving model checkpoint to bert-baseline-squad2/checkpoint-75500\n",
            "Configuration saved in bert-baseline-squad2/checkpoint-75500/config.json\n",
            "Model weights saved in bert-baseline-squad2/checkpoint-75500/pytorch_model.bin\n",
            "tokenizer config file saved in bert-baseline-squad2/checkpoint-75500/tokenizer_config.json\n",
            "Special tokens file saved in bert-baseline-squad2/checkpoint-75500/special_tokens_map.json\n",
            "Saving model checkpoint to bert-baseline-squad2/checkpoint-76000\n",
            "Configuration saved in bert-baseline-squad2/checkpoint-76000/config.json\n",
            "Model weights saved in bert-baseline-squad2/checkpoint-76000/pytorch_model.bin\n",
            "tokenizer config file saved in bert-baseline-squad2/checkpoint-76000/tokenizer_config.json\n",
            "Special tokens file saved in bert-baseline-squad2/checkpoint-76000/special_tokens_map.json\n",
            "Saving model checkpoint to bert-baseline-squad2/checkpoint-76500\n",
            "Configuration saved in bert-baseline-squad2/checkpoint-76500/config.json\n",
            "Model weights saved in bert-baseline-squad2/checkpoint-76500/pytorch_model.bin\n",
            "tokenizer config file saved in bert-baseline-squad2/checkpoint-76500/tokenizer_config.json\n",
            "Special tokens file saved in bert-baseline-squad2/checkpoint-76500/special_tokens_map.json\n",
            "Saving model checkpoint to bert-baseline-squad2/checkpoint-77000\n",
            "Configuration saved in bert-baseline-squad2/checkpoint-77000/config.json\n",
            "Model weights saved in bert-baseline-squad2/checkpoint-77000/pytorch_model.bin\n",
            "tokenizer config file saved in bert-baseline-squad2/checkpoint-77000/tokenizer_config.json\n",
            "Special tokens file saved in bert-baseline-squad2/checkpoint-77000/special_tokens_map.json\n",
            "Saving model checkpoint to bert-baseline-squad2/checkpoint-77500\n",
            "Configuration saved in bert-baseline-squad2/checkpoint-77500/config.json\n",
            "Model weights saved in bert-baseline-squad2/checkpoint-77500/pytorch_model.bin\n",
            "tokenizer config file saved in bert-baseline-squad2/checkpoint-77500/tokenizer_config.json\n",
            "Special tokens file saved in bert-baseline-squad2/checkpoint-77500/special_tokens_map.json\n",
            "Saving model checkpoint to bert-baseline-squad2/checkpoint-78000\n",
            "Configuration saved in bert-baseline-squad2/checkpoint-78000/config.json\n",
            "Model weights saved in bert-baseline-squad2/checkpoint-78000/pytorch_model.bin\n",
            "tokenizer config file saved in bert-baseline-squad2/checkpoint-78000/tokenizer_config.json\n",
            "Special tokens file saved in bert-baseline-squad2/checkpoint-78000/special_tokens_map.json\n",
            "Saving model checkpoint to bert-baseline-squad2/checkpoint-78500\n",
            "Configuration saved in bert-baseline-squad2/checkpoint-78500/config.json\n",
            "Model weights saved in bert-baseline-squad2/checkpoint-78500/pytorch_model.bin\n",
            "tokenizer config file saved in bert-baseline-squad2/checkpoint-78500/tokenizer_config.json\n",
            "Special tokens file saved in bert-baseline-squad2/checkpoint-78500/special_tokens_map.json\n",
            "Saving model checkpoint to bert-baseline-squad2/checkpoint-79000\n",
            "Configuration saved in bert-baseline-squad2/checkpoint-79000/config.json\n",
            "Model weights saved in bert-baseline-squad2/checkpoint-79000/pytorch_model.bin\n",
            "tokenizer config file saved in bert-baseline-squad2/checkpoint-79000/tokenizer_config.json\n",
            "Special tokens file saved in bert-baseline-squad2/checkpoint-79000/special_tokens_map.json\n",
            "Saving model checkpoint to bert-baseline-squad2/checkpoint-79500\n",
            "Configuration saved in bert-baseline-squad2/checkpoint-79500/config.json\n",
            "Model weights saved in bert-baseline-squad2/checkpoint-79500/pytorch_model.bin\n",
            "tokenizer config file saved in bert-baseline-squad2/checkpoint-79500/tokenizer_config.json\n",
            "Special tokens file saved in bert-baseline-squad2/checkpoint-79500/special_tokens_map.json\n",
            "Saving model checkpoint to bert-baseline-squad2/checkpoint-80000\n",
            "Configuration saved in bert-baseline-squad2/checkpoint-80000/config.json\n",
            "Model weights saved in bert-baseline-squad2/checkpoint-80000/pytorch_model.bin\n",
            "tokenizer config file saved in bert-baseline-squad2/checkpoint-80000/tokenizer_config.json\n",
            "Special tokens file saved in bert-baseline-squad2/checkpoint-80000/special_tokens_map.json\n",
            "Saving model checkpoint to bert-baseline-squad2/checkpoint-80500\n",
            "Configuration saved in bert-baseline-squad2/checkpoint-80500/config.json\n",
            "Model weights saved in bert-baseline-squad2/checkpoint-80500/pytorch_model.bin\n",
            "tokenizer config file saved in bert-baseline-squad2/checkpoint-80500/tokenizer_config.json\n",
            "Special tokens file saved in bert-baseline-squad2/checkpoint-80500/special_tokens_map.json\n",
            "Saving model checkpoint to bert-baseline-squad2/checkpoint-81000\n",
            "Configuration saved in bert-baseline-squad2/checkpoint-81000/config.json\n",
            "Model weights saved in bert-baseline-squad2/checkpoint-81000/pytorch_model.bin\n",
            "tokenizer config file saved in bert-baseline-squad2/checkpoint-81000/tokenizer_config.json\n",
            "Special tokens file saved in bert-baseline-squad2/checkpoint-81000/special_tokens_map.json\n",
            "Saving model checkpoint to bert-baseline-squad2/checkpoint-81500\n",
            "Configuration saved in bert-baseline-squad2/checkpoint-81500/config.json\n",
            "Model weights saved in bert-baseline-squad2/checkpoint-81500/pytorch_model.bin\n",
            "tokenizer config file saved in bert-baseline-squad2/checkpoint-81500/tokenizer_config.json\n",
            "Special tokens file saved in bert-baseline-squad2/checkpoint-81500/special_tokens_map.json\n",
            "***** Running Evaluation *****\n",
            "  Num examples = 11969\n",
            "  Batch size = 16\n",
            "\n",
            "\n",
            "Training completed. Do not forget to share your model on huggingface.co/models =)\n",
            "\n",
            "\n"
          ]
        },
        {
          "data": {
            "text/plain": [
              "TrainOutput(global_step=81570, training_loss=4.31291623178089, metrics={'train_runtime': 50002.8506, 'train_samples_per_second': 26.099, 'train_steps_per_second': 1.631, 'total_flos': 3.410001064431821e+17, 'train_loss': 4.31291623178089, 'epoch': 10.0})"
            ]
          },
          "execution_count": 47,
          "metadata": {},
          "output_type": "execute_result"
        }
      ],
      "source": [
        "trainer.train()"
      ]
    },
    {
      "cell_type": "markdown",
      "metadata": {
        "id": "rX-b_QyGa5uO"
      },
      "source": [
        "Since this training is particularly long, let's save the model just in case we need to restart."
      ]
    },
    {
      "cell_type": "code",
      "execution_count": null,
      "metadata": {
        "colab": {
          "background_save": true,
          "base_uri": "https://localhost:8080/"
        },
        "id": "gJM4iSVZa5uO",
        "outputId": "d85fd467-ff1d-44be-d935-673aeaa7bbbc"
      },
      "outputs": [
        {
          "name": "stderr",
          "output_type": "stream",
          "text": [
            "Saving model checkpoint to model-architecture-change\n",
            "Configuration saved in model-architecture-change/config.json\n",
            "Model weights saved in model-architecture-change/pytorch_model.bin\n",
            "tokenizer config file saved in model-architecture-change/tokenizer_config.json\n",
            "Special tokens file saved in model-architecture-change/special_tokens_map.json\n"
          ]
        }
      ],
      "source": [
        "trainer.save_model(\"model-architecture-change\")"
      ]
    },
    {
      "cell_type": "markdown",
      "metadata": {
        "id": "W5jjfAHvXPSJ"
      },
      "source": [
        "# appendix"
      ]
    },
    {
      "cell_type": "markdown",
      "metadata": {
        "id": "SMv1JOGOJpHB"
      },
      "source": [
        "## Evaluation"
      ]
    },
    {
      "cell_type": "markdown",
      "metadata": {
        "id": "qdCn5qLUJpHB"
      },
      "source": [
        "Evaluating our model will require a bit more work, as we will need to map the predictions of our model back to parts of the context. The model itself predicts logits for the start and en position of our answers: if we take a batch from our validation datalaoder, here is the output our model gives us:"
      ]
    },
    {
      "cell_type": "code",
      "execution_count": null,
      "metadata": {
        "colab": {
          "background_save": true,
          "base_uri": "https://localhost:8080/"
        },
        "id": "1DDc0Ls6JpHC",
        "outputId": "0d73ff45-6450-424f-e508-c421e6b55508"
      },
      "outputs": [
        {
          "data": {
            "text/plain": [
              "odict_keys(['loss', 'start_logits', 'end_logits'])"
            ]
          },
          "execution_count": 49,
          "metadata": {},
          "output_type": "execute_result"
        }
      ],
      "source": [
        "import torch\n",
        "\n",
        "for batch in trainer.get_eval_dataloader():\n",
        "    break\n",
        "batch = {k: v.to(trainer.args.device) for k, v in batch.items()}\n",
        "with torch.no_grad():\n",
        "    output = trainer.model(**batch)\n",
        "output.keys()"
      ]
    },
    {
      "cell_type": "markdown",
      "metadata": {
        "id": "lTe3MSAIJpHC"
      },
      "source": [
        "The output of the model is a dict-like object that contains the loss (since we provided labels), the start and end logits. We won't need the loss for our predictions, let's have a look a the logits:"
      ]
    },
    {
      "cell_type": "code",
      "execution_count": null,
      "metadata": {
        "colab": {
          "background_save": true,
          "base_uri": "https://localhost:8080/"
        },
        "id": "hYEJq27_JpHC",
        "outputId": "16b4e1f2-ecc1-4e1c-f483-910e16cbd5b0"
      },
      "outputs": [
        {
          "data": {
            "text/plain": [
              "(torch.Size([16, 512]), torch.Size([16, 512]))"
            ]
          },
          "execution_count": 50,
          "metadata": {},
          "output_type": "execute_result"
        }
      ],
      "source": [
        "output.start_logits.shape, output.end_logits.shape"
      ]
    },
    {
      "cell_type": "markdown",
      "metadata": {
        "id": "pD17oi14JpHC"
      },
      "source": [
        "We have one logit for each feature and each token. The most obvious thing to predict an answer for each featyre is to take the index for the maximum of the start logits as a start position and the index of the maximum of the end logits as an end position."
      ]
    },
    {
      "cell_type": "code",
      "execution_count": null,
      "metadata": {
        "colab": {
          "background_save": true,
          "base_uri": "https://localhost:8080/"
        },
        "id": "v5BuhcMHJpHC",
        "outputId": "04711768-7d30-4386-f88e-1db43a8851b7"
      },
      "outputs": [
        {
          "data": {
            "text/plain": [
              "(tensor([0, 0, 0, 0, 0, 0, 0, 0, 0, 0, 0, 0, 0, 0, 0, 0], device='cuda:0'),\n",
              " tensor([0, 0, 0, 0, 0, 0, 0, 0, 0, 0, 0, 0, 0, 0, 0, 0], device='cuda:0'))"
            ]
          },
          "execution_count": 51,
          "metadata": {},
          "output_type": "execute_result"
        }
      ],
      "source": [
        "output.start_logits.argmax(dim=-1), output.end_logits.argmax(dim=-1)"
      ]
    },
    {
      "cell_type": "markdown",
      "metadata": {
        "id": "3XclkZa-JpHC"
      },
      "source": [
        "This will work great in a lot of cases, but what if this prediction gives us something impossible: the start position could be greater than the end position, or point to a span of text in the question instead of the answer. In that case, we might want to look at the second best prediction to see if it gives a possible answer and select that instead.\n",
        "\n",
        "However, picking the second best answer is not as easy as picking the best one: is it the second best index in the start logits with the best index in the end logits? Or the best index in the start logits with the second best index in the end logits? And if that second best answer is not possible either, it gets even trickier for the third best answer.\n",
        "\n",
        "\n",
        "To classify our answers, we will use the score obtained by adding the start and end logits. We won't try to order all the possible answers and limit ourselves to with a hyper-parameter we call `n_best_size`. We'll pick the best indices in the start and end logits and gather all the answers this predicts. After checking if each one is valid, we will sort them by their score and keep the best one. Here is how we would do this on the first feature in the batch:"
      ]
    },
    {
      "cell_type": "code",
      "execution_count": null,
      "metadata": {
        "colab": {
          "background_save": true
        },
        "id": "g2-qV5TlJpHC"
      },
      "outputs": [],
      "source": [
        "n_best_size = 20"
      ]
    },
    {
      "cell_type": "code",
      "execution_count": null,
      "metadata": {
        "colab": {
          "background_save": true
        },
        "id": "1xjiyoaaJpHC"
      },
      "outputs": [],
      "source": [
        "import numpy as np\n",
        "\n",
        "start_logits = output.start_logits[0].cpu().numpy()\n",
        "end_logits = output.end_logits[0].cpu().numpy()\n",
        "# Gather the indices the best start/end logits:\n",
        "start_indexes = np.argsort(start_logits)[-1 : -n_best_size - 1 : -1].tolist()\n",
        "end_indexes = np.argsort(end_logits)[-1 : -n_best_size - 1 : -1].tolist()\n",
        "valid_answers = []\n",
        "for start_index in start_indexes:\n",
        "    for end_index in end_indexes:\n",
        "        if start_index <= end_index: # We need to refine that test to check the answer is inside the context\n",
        "            valid_answers.append(\n",
        "                {\n",
        "                    \"score\": start_logits[start_index] + end_logits[end_index],\n",
        "                    \"text\": \"\" # We need to find a way to get back the original substring corresponding to the answer in the context\n",
        "                }\n",
        "            )"
      ]
    },
    {
      "cell_type": "markdown",
      "metadata": {
        "id": "VmBos5wEJpHC"
      },
      "source": [
        "And then we can sort the `valid_answers` according to their `score` and only keep the best one. The only point left is how to check a given span is inside the context (and not the question) and how to get back the text inside. To do this, we need to add two things to our validation features:\n",
        "- the ID of the example that generated the feature (since each example can generate several features, as seen before);\n",
        "- the offset mapping that will give us a map from token indices to character positions in the context.\n",
        "\n",
        "That's why we will re-process the validation set with the following function, slightly different from `prepare_train_features`:"
      ]
    },
    {
      "cell_type": "code",
      "execution_count": null,
      "metadata": {
        "colab": {
          "background_save": true
        },
        "id": "YPD8vSLrJpHC"
      },
      "outputs": [],
      "source": [
        "def prepare_validation_features(examples):\n",
        "    # Some of the questions have lots of whitespace on the left, which is not useful and will make the\n",
        "    # truncation of the context fail (the tokenized question will take a lots of space). So we remove that\n",
        "    # left whitespace\n",
        "    examples[\"question\"] = [q.lstrip() for q in examples[\"question\"]]\n",
        "\n",
        "    # Tokenize our examples with truncation and maybe padding, but keep the overflows using a stride. This results\n",
        "    # in one example possible giving several features when a context is long, each of those features having a\n",
        "    # context that overlaps a bit the context of the previous feature.\n",
        "    tokenized_examples = tokenizer(\n",
        "        examples[\"question\" if pad_on_right else \"context\"],\n",
        "        examples[\"context\" if pad_on_right else \"question\"],\n",
        "        truncation=\"only_second\" if pad_on_right else \"only_first\",\n",
        "        max_length=max_length,\n",
        "        stride=doc_stride,\n",
        "        return_overflowing_tokens=True,\n",
        "        return_offsets_mapping=True,\n",
        "        padding=\"max_length\",\n",
        "    )\n",
        "\n",
        "    # Since one example might give us several features if it has a long context, we need a map from a feature to\n",
        "    # its corresponding example. This key gives us just that.\n",
        "    sample_mapping = tokenized_examples.pop(\"overflow_to_sample_mapping\")\n",
        "\n",
        "    # We keep the example_id that gave us this feature and we will store the offset mappings.\n",
        "    tokenized_examples[\"example_id\"] = []\n",
        "\n",
        "    for i in range(len(tokenized_examples[\"input_ids\"])):\n",
        "        # Grab the sequence corresponding to that example (to know what is the context and what is the question).\n",
        "        sequence_ids = tokenized_examples.sequence_ids(i)\n",
        "        context_index = 1 if pad_on_right else 0\n",
        "\n",
        "        # One example can give several spans, this is the index of the example containing this span of text.\n",
        "        sample_index = sample_mapping[i]\n",
        "        tokenized_examples[\"example_id\"].append(examples[\"id\"][sample_index])\n",
        "\n",
        "        # Set to None the offset_mapping that are not part of the context so it's easy to determine if a token\n",
        "        # position is part of the context or not.\n",
        "        tokenized_examples[\"offset_mapping\"][i] = [\n",
        "            (o if sequence_ids[k] == context_index else None)\n",
        "            for k, o in enumerate(tokenized_examples[\"offset_mapping\"][i])\n",
        "        ]\n",
        "\n",
        "    return tokenized_examples"
      ]
    },
    {
      "cell_type": "markdown",
      "metadata": {
        "id": "sGao1T27JpHC"
      },
      "source": [
        "And like before, we can apply that function to our validation set easily:"
      ]
    },
    {
      "cell_type": "code",
      "execution_count": null,
      "metadata": {
        "colab": {
          "background_save": true,
          "base_uri": "https://localhost:8080/",
          "height": 49,
          "referenced_widgets": [
            "a0728de933f64504ac61dd9a7f61b7e8",
            "de555c7abda84977ba87df953b947613",
            "a3c11dc08c0943d59e50f282a465b1b2",
            "fa50aed874624f3dba610f3be81835e4",
            "db64486d800546d6976608297999dfc5",
            "44e4384c49204b4789b6876e351d43a5",
            "7f455422bd8e48f6961325487fcd4d02",
            "46a6db74823347438a2c61c980d8344a",
            "35ed200e6f0c467aa43931e5fdde8d07",
            "7db4aaf819554f359b481650676ee521",
            "2720460a2d1e46b1b08e0850d385dcfa"
          ]
        },
        "id": "ucfrSk1CJpHC",
        "outputId": "1d6b85d1-7e6a-4d29-ffad-0875db020f2d"
      },
      "outputs": [
        {
          "data": {
            "application/vnd.jupyter.widget-view+json": {
              "model_id": "a0728de933f64504ac61dd9a7f61b7e8",
              "version_major": 2,
              "version_minor": 0
            },
            "text/plain": [
              "  0%|          | 0/12 [00:00<?, ?ba/s]"
            ]
          },
          "metadata": {},
          "output_type": "display_data"
        }
      ],
      "source": [
        "validation_features = datasets[\"validation\"].map(\n",
        "    prepare_validation_features,\n",
        "    batched=True,\n",
        "    remove_columns=datasets[\"validation\"].column_names\n",
        ")"
      ]
    },
    {
      "cell_type": "markdown",
      "metadata": {
        "id": "PIbjcT58JpHC"
      },
      "source": [
        "Now we can grab the predictions for all features by using the `Trainer.predict` method:"
      ]
    },
    {
      "cell_type": "code",
      "execution_count": null,
      "metadata": {
        "colab": {
          "background_save": true
        },
        "id": "zvVrp_4UJpHC",
        "outputId": "08a265a1-49b9-43eb-97cc-5fe8a2b46500"
      },
      "outputs": [
        {
          "name": "stderr",
          "output_type": "stream",
          "text": [
            "The following columns in the test set don't have a corresponding argument in `questionAnswering.forward` and have been ignored: offset_mapping, example_id. If offset_mapping, example_id are not expected by `questionAnswering.forward`,  you can safely ignore this message.\n",
            "***** Running Prediction *****\n",
            "  Num examples = 11969\n",
            "  Batch size = 16\n"
          ]
        },
        {
          "data": {
            "text/html": [],
            "text/plain": [
              "<IPython.core.display.HTML object>"
            ]
          },
          "metadata": {},
          "output_type": "display_data"
        }
      ],
      "source": [
        "raw_predictions = trainer.predict(validation_features)"
      ]
    },
    {
      "cell_type": "markdown",
      "metadata": {
        "id": "VvWrImkzJpHC"
      },
      "source": [
        "The `Trainer` *hides* the columns that are not used by the model (here `example_id` and `offset_mapping` which we will need for our post-processing), so we set them back:"
      ]
    },
    {
      "cell_type": "code",
      "execution_count": null,
      "metadata": {
        "colab": {
          "background_save": true
        },
        "id": "OMAQCAMFJpHD"
      },
      "outputs": [],
      "source": [
        "validation_features.set_format(type=validation_features.format[\"type\"], columns=list(validation_features.features.keys()))"
      ]
    },
    {
      "cell_type": "markdown",
      "metadata": {
        "id": "KndgunYoJpHD"
      },
      "source": [
        "We can now refine the test we had before: since we set `None` in the offset mappings when it corresponds to a part of the question, it's easy to check if an answer is fully inside the context. We also eliminate very long answers from our considerations (with an hyper-parameter we can tune)"
      ]
    },
    {
      "cell_type": "code",
      "execution_count": null,
      "metadata": {
        "colab": {
          "background_save": true
        },
        "id": "U6rCXCB0JpHD"
      },
      "outputs": [],
      "source": [
        "max_answer_length = 30"
      ]
    },
    {
      "cell_type": "code",
      "execution_count": null,
      "metadata": {
        "colab": {
          "background_save": true
        },
        "id": "fjH1sbbTJpHD",
        "outputId": "1bf0abb9-d986-42b0-bce6-f34811fee03d"
      },
      "outputs": [
        {
          "data": {
            "text/plain": [
              "[{'score': -18.26662, 'text': 'Norse'},\n",
              " {'score': -18.69762,\n",
              "  'text': 'the 10th and 11th centuries gave their name to Normandy, a region in France. They were descended from Norse (\"Norman\" comes from \"Norse'},\n",
              " {'score': -18.943762,\n",
              "  'text': 'Norseman\") raiders and pirates from Denmark, Iceland and Norway who, under their leader Roll'},\n",
              " {'score': -19.063482,\n",
              "  'text': 'Norseman\") raiders and pirates from Denmark, Iceland and Norway who, under their leader Rollo, agreed to swear fealty'},\n",
              " {'score': -19.166557, 'text': 'ds'},\n",
              " {'score': -19.180801,\n",
              "  'text': 'gave their name to Normandy, a region in France. They were descended from Norse (\"Norman\" comes from \"Norse'},\n",
              " {'score': -19.195122, 'text': 'ds; French: Normands; Latin: Normanni)'},\n",
              " {'score': -19.225498,\n",
              "  'text': 'ds; French: Normands; Latin: Normanni) were the people who in the 10th and 11th centuries gave'},\n",
              " {'score': -19.229897,\n",
              "  'text': 'Norseman\") raiders and pirates from Denmark, Iceland and Norway who, under their leader Rollo'},\n",
              " {'score': -19.3412, 'text': 'Roll'},\n",
              " {'score': -19.403921, 'text': 'ds; French: Norman'},\n",
              " {'score': -19.432264, 'text': 'ds; French:'},\n",
              " {'score': -19.46092, 'text': 'Rollo, agreed to swear fealty'},\n",
              " {'score': -19.465313, 'text': 'Norseman'},\n",
              " {'score': -19.516247,\n",
              "  'text': 'Norseman\") raiders and pirates from Denmark, Iceland and Norway who, under their leader'},\n",
              " {'score': -19.560963,\n",
              "  'text': 'Norseman\") raiders and pirates from Denmark, Iceland and Norway who, under'},\n",
              " {'score': -19.575478, 'text': 'ty'},\n",
              " {'score': -19.586132, 'text': 'the 10th and 11th centuries gave'},\n",
              " {'score': -19.615997, 'text': 'ds; French'},\n",
              " {'score': -19.627335, 'text': 'Rollo'}]"
            ]
          },
          "execution_count": 59,
          "metadata": {},
          "output_type": "execute_result"
        }
      ],
      "source": [
        "start_logits = output.start_logits[0].cpu().numpy()\n",
        "end_logits = output.end_logits[0].cpu().numpy()\n",
        "offset_mapping = validation_features[0][\"offset_mapping\"]\n",
        "# The first feature comes from the first example. For the more general case, we will need to be match the example_id to\n",
        "# an example index\n",
        "context = datasets[\"validation\"][0][\"context\"]\n",
        "\n",
        "# Gather the indices the best start/end logits:\n",
        "start_indexes = np.argsort(start_logits)[-1 : -n_best_size - 1 : -1].tolist()\n",
        "end_indexes = np.argsort(end_logits)[-1 : -n_best_size - 1 : -1].tolist()\n",
        "valid_answers = []\n",
        "for start_index in start_indexes:\n",
        "    for end_index in end_indexes:\n",
        "        # Don't consider out-of-scope answers, either because the indices are out of bounds or correspond\n",
        "        # to part of the input_ids that are not in the context.\n",
        "        if (\n",
        "            start_index >= len(offset_mapping)\n",
        "            or end_index >= len(offset_mapping)\n",
        "            or offset_mapping[start_index] is None\n",
        "            or offset_mapping[end_index] is None\n",
        "        ):\n",
        "            continue\n",
        "        # Don't consider answers with a length that is either < 0 or > max_answer_length.\n",
        "        if end_index < start_index or end_index - start_index + 1 > max_answer_length:\n",
        "            continue\n",
        "        if start_index <= end_index: # We need to refine that test to check the answer is inside the context\n",
        "            start_char = offset_mapping[start_index][0]\n",
        "            end_char = offset_mapping[end_index][1]\n",
        "            valid_answers.append(\n",
        "                {\n",
        "                    \"score\": start_logits[start_index] + end_logits[end_index],\n",
        "                    \"text\": context[start_char: end_char]\n",
        "                }\n",
        "            )\n",
        "\n",
        "valid_answers = sorted(valid_answers, key=lambda x: x[\"score\"], reverse=True)[:n_best_size]\n",
        "valid_answers"
      ]
    },
    {
      "cell_type": "markdown",
      "metadata": {
        "id": "zCqCTPCJJpHD"
      },
      "source": [
        "We can compare to the actual ground-truth answer:"
      ]
    },
    {
      "cell_type": "code",
      "execution_count": null,
      "metadata": {
        "colab": {
          "background_save": true
        },
        "id": "nwE75NFsJpHD",
        "outputId": "4aca0c29-46dd-4445-9f1f-bfa83cceb890"
      },
      "outputs": [
        {
          "data": {
            "text/plain": [
              "{'text': ['France', 'France', 'France', 'France'],\n",
              " 'answer_start': [159, 159, 159, 159]}"
            ]
          },
          "execution_count": 60,
          "metadata": {},
          "output_type": "execute_result"
        }
      ],
      "source": [
        "datasets[\"validation\"][0][\"answers\"]"
      ]
    },
    {
      "cell_type": "markdown",
      "metadata": {
        "id": "mFGq-ZlpJpHD"
      },
      "source": [
        "Our model picked the right as the most likely answer!\n",
        "\n",
        "As we mentioned in the code above, this was easy on the first feature because we knew it comes from the first example. For the other features, we will need a map between examples and their corresponding features. Also, since one example can give several features, we will need to gather together all the answers in all the features generated by a given example, then pick the best one. The following code builds a map from example index to its corresponding features indices:"
      ]
    },
    {
      "cell_type": "code",
      "execution_count": null,
      "metadata": {
        "colab": {
          "background_save": true
        },
        "id": "FKFsvPDDJpHD"
      },
      "outputs": [],
      "source": [
        "import collections\n",
        "\n",
        "examples = datasets[\"validation\"]\n",
        "features = validation_features\n",
        "\n",
        "example_id_to_index = {k: i for i, k in enumerate(examples[\"id\"])}\n",
        "features_per_example = collections.defaultdict(list)\n",
        "for i, feature in enumerate(features):\n",
        "    features_per_example[example_id_to_index[feature[\"example_id\"]]].append(i)"
      ]
    },
    {
      "cell_type": "markdown",
      "metadata": {
        "id": "3EPYQtKlJpHD"
      },
      "source": [
        "We're almost ready for our post-processing function. The last bit to deal with is the impossible answer (when `squad_v2 = True`). The code above only keeps answers that are inside the context, we need to also grab the score for the impossible answer (which has start and end indices corresponding to the index of the CLS token). When one example gives several features, we have to predict the impossible answer when all the features give a high score to the impossible answer (since one feature could predict the impossible answer just because the answer isn't in the part of the context it has access too), which is why the score of the impossible answer for one example is the *minimum* of the scores for the impossible answer in each feature generated by the example.\n",
        "\n",
        "We then predict the impossible answer when that score is greater than the score of the best non-impossible answer. All combined together, this gives us this post-processing function:"
      ]
    },
    {
      "cell_type": "code",
      "execution_count": null,
      "metadata": {
        "colab": {
          "background_save": true
        },
        "id": "s7gIgqyjJpHD"
      },
      "outputs": [],
      "source": [
        "from tqdm.auto import tqdm\n",
        "\n",
        "def postprocess_qa_predictions(examples, features, raw_predictions, n_best_size = 20, max_answer_length = 30):\n",
        "    all_start_logits, all_end_logits = raw_predictions\n",
        "    # Build a map example to its corresponding features.\n",
        "    example_id_to_index = {k: i for i, k in enumerate(examples[\"id\"])}\n",
        "    features_per_example = collections.defaultdict(list)\n",
        "    for i, feature in enumerate(features):\n",
        "        features_per_example[example_id_to_index[feature[\"example_id\"]]].append(i)\n",
        "\n",
        "    # The dictionaries we have to fill.\n",
        "    predictions = collections.OrderedDict()\n",
        "\n",
        "    # Logging.\n",
        "    print(f\"Post-processing {len(examples)} example predictions split into {len(features)} features.\")\n",
        "\n",
        "    # Let's loop over all the examples!\n",
        "    for example_index, example in enumerate(tqdm(examples)):\n",
        "        # Those are the indices of the features associated to the current example.\n",
        "        feature_indices = features_per_example[example_index]\n",
        "\n",
        "        min_null_score = None # Only used if squad_v2 is True.\n",
        "        valid_answers = []\n",
        "        \n",
        "        context = example[\"context\"]\n",
        "        # Looping through all the features associated to the current example.\n",
        "        for feature_index in feature_indices:\n",
        "            # We grab the predictions of the model for this feature.\n",
        "            start_logits = all_start_logits[feature_index]\n",
        "            end_logits = all_end_logits[feature_index]\n",
        "            # This is what will allow us to map some the positions in our logits to span of texts in the original\n",
        "            # context.\n",
        "            offset_mapping = features[feature_index][\"offset_mapping\"]\n",
        "\n",
        "            # Update minimum null prediction.\n",
        "            cls_index = features[feature_index][\"input_ids\"].index(tokenizer.cls_token_id)\n",
        "            feature_null_score = start_logits[cls_index] + end_logits[cls_index]\n",
        "            if min_null_score is None or min_null_score < feature_null_score:\n",
        "                min_null_score = feature_null_score\n",
        "\n",
        "            # Go through all possibilities for the `n_best_size` greater start and end logits.\n",
        "            start_indexes = np.argsort(start_logits)[-1 : -n_best_size - 1 : -1].tolist()\n",
        "            end_indexes = np.argsort(end_logits)[-1 : -n_best_size - 1 : -1].tolist()\n",
        "            for start_index in start_indexes:\n",
        "                for end_index in end_indexes:\n",
        "                    # Don't consider out-of-scope answers, either because the indices are out of bounds or correspond\n",
        "                    # to part of the input_ids that are not in the context.\n",
        "                    if (\n",
        "                        start_index >= len(offset_mapping)\n",
        "                        or end_index >= len(offset_mapping)\n",
        "                        or offset_mapping[start_index] is None\n",
        "                        or offset_mapping[end_index] is None\n",
        "                    ):\n",
        "                        continue\n",
        "                    # Don't consider answers with a length that is either < 0 or > max_answer_length.\n",
        "                    if end_index < start_index or end_index - start_index + 1 > max_answer_length:\n",
        "                        continue\n",
        "\n",
        "                    start_char = offset_mapping[start_index][0]\n",
        "                    end_char = offset_mapping[end_index][1]\n",
        "                    valid_answers.append(\n",
        "                        {\n",
        "                            \"score\": start_logits[start_index] + end_logits[end_index],\n",
        "                            \"text\": context[start_char: end_char]\n",
        "                        }\n",
        "                    )\n",
        "        \n",
        "        if len(valid_answers) > 0:\n",
        "            best_answer = sorted(valid_answers, key=lambda x: x[\"score\"], reverse=True)[0]\n",
        "        else:\n",
        "            # In the very rare edge case we have not a single non-null prediction, we create a fake prediction to avoid\n",
        "            # failure.\n",
        "            best_answer = {\"text\": \"\", \"score\": 0.0}\n",
        "        \n",
        "        # Let's pick our final answer: the best one or the null answer (only for squad_v2)\n",
        "        if not squad_v2:\n",
        "            predictions[example[\"id\"]] = best_answer[\"text\"]\n",
        "        else:\n",
        "            answer = best_answer[\"text\"] if best_answer[\"score\"] > min_null_score else \"\"\n",
        "            predictions[example[\"id\"]] = answer\n",
        "\n",
        "    return predictions"
      ]
    },
    {
      "cell_type": "markdown",
      "metadata": {
        "id": "0KGwDAowJpHD"
      },
      "source": [
        "And we can apply our post-processing function to our raw predictions:"
      ]
    },
    {
      "cell_type": "code",
      "execution_count": null,
      "metadata": {
        "colab": {
          "background_save": true,
          "referenced_widgets": [
            "bca018833c82420a988956ee01008afa"
          ]
        },
        "id": "C-OBRkJOJpHD",
        "outputId": "da7f130b-5b6b-4e6f-f22d-3fc2cd4c943f"
      },
      "outputs": [
        {
          "name": "stdout",
          "output_type": "stream",
          "text": [
            "Post-processing 11873 example predictions split into 11969 features.\n"
          ]
        },
        {
          "data": {
            "application/vnd.jupyter.widget-view+json": {
              "model_id": "bca018833c82420a988956ee01008afa",
              "version_major": 2,
              "version_minor": 0
            },
            "text/plain": [
              "  0%|          | 0/11873 [00:00<?, ?it/s]"
            ]
          },
          "metadata": {},
          "output_type": "display_data"
        }
      ],
      "source": [
        "final_predictions = postprocess_qa_predictions(datasets[\"validation\"], validation_features, raw_predictions.predictions)"
      ]
    },
    {
      "cell_type": "markdown",
      "metadata": {
        "id": "bAUHox8LJpHE"
      },
      "source": [
        "Then we can load the metric from the datasets library."
      ]
    },
    {
      "cell_type": "code",
      "execution_count": null,
      "metadata": {
        "colab": {
          "background_save": true,
          "referenced_widgets": [
            "50986ab12bfa42d9997a075bed358e7e",
            "7612d4818c494257be9d65ca7a24a2be"
          ]
        },
        "id": "7uhhJGL1JpHE",
        "outputId": "931dce6b-6921-4580-fe52-b8b94d591de7"
      },
      "outputs": [
        {
          "name": "stderr",
          "output_type": "stream",
          "text": [
            "<ipython-input-64-69495f532713>:1: FutureWarning: load_metric is deprecated and will be removed in the next major version of datasets. Use 'evaluate.load' instead, from the new library 🤗 Evaluate: https://huggingface.co/docs/evaluate\n",
            "  metric = load_metric(\"squad_v2\" if squad_v2 else \"squad\")\n"
          ]
        },
        {
          "data": {
            "application/vnd.jupyter.widget-view+json": {
              "model_id": "50986ab12bfa42d9997a075bed358e7e",
              "version_major": 2,
              "version_minor": 0
            },
            "text/plain": [
              "Downloading builder script:   0%|          | 0.00/2.25k [00:00<?, ?B/s]"
            ]
          },
          "metadata": {},
          "output_type": "display_data"
        },
        {
          "data": {
            "application/vnd.jupyter.widget-view+json": {
              "model_id": "7612d4818c494257be9d65ca7a24a2be",
              "version_major": 2,
              "version_minor": 0
            },
            "text/plain": [
              "Downloading extra modules:   0%|          | 0.00/3.19k [00:00<?, ?B/s]"
            ]
          },
          "metadata": {},
          "output_type": "display_data"
        }
      ],
      "source": [
        "metric = load_metric(\"squad_v2\" if squad_v2 else \"squad\")"
      ]
    },
    {
      "cell_type": "markdown",
      "metadata": {
        "id": "dNuuJq59JpHE"
      },
      "source": [
        "Then we can call compute on it. We just need to format predictions and labels a bit as it expects a list of dictionaries and not one big dictionary. In the case of squad_v2, we also have to set a `no_answer_probability` argument (which we set to 0.0 here as we have already set the answer to empty if we picked it)."
      ]
    },
    {
      "cell_type": "code",
      "execution_count": null,
      "metadata": {
        "colab": {
          "background_save": true
        },
        "id": "rWlfaTFvJpHE",
        "outputId": "d5f6ed65-e64c-46b8-de6d-4c479a914013"
      },
      "outputs": [
        {
          "data": {
            "text/plain": [
              "{'exact': 50.07159100480081,\n",
              " 'f1': 50.07159100480081,\n",
              " 'total': 11873,\n",
              " 'HasAns_exact': 0.0,\n",
              " 'HasAns_f1': 0.0,\n",
              " 'HasAns_total': 5928,\n",
              " 'NoAns_exact': 100.0,\n",
              " 'NoAns_f1': 100.0,\n",
              " 'NoAns_total': 5945,\n",
              " 'best_exact': 50.07159100480081,\n",
              " 'best_exact_thresh': 0.0,\n",
              " 'best_f1': 50.07159100480081,\n",
              " 'best_f1_thresh': 0.0}"
            ]
          },
          "execution_count": 65,
          "metadata": {},
          "output_type": "execute_result"
        }
      ],
      "source": [
        "if squad_v2:\n",
        "    formatted_predictions = [{\"id\": k, \"prediction_text\": v, \"no_answer_probability\": 0.0} for k, v in final_predictions.items()]\n",
        "else:\n",
        "    formatted_predictions = [{\"id\": k, \"prediction_text\": v} for k, v in final_predictions.items()]\n",
        "references = [{\"id\": ex[\"id\"], \"answers\": ex[\"answers\"]} for ex in datasets[\"validation\"]]\n",
        "metric.compute(predictions=formatted_predictions, references=references)"
      ]
    },
    {
      "cell_type": "markdown",
      "metadata": {
        "id": "-awacgJaJpHE"
      },
      "source": [
        "You can now upload the result of the training to the Hub, just execute this instruction:"
      ]
    },
    {
      "cell_type": "markdown",
      "metadata": {
        "id": "EGnmgjPjJpHE"
      },
      "source": [
        "You can now share this model with all your friends, family, favorite pets: they can all load it with the identifier `\"your-username/the-name-you-picked\"` so for instance:\n",
        "\n",
        "```python\n",
        "from transformers import AutoModelForQuestionAnswering\n",
        "\n",
        "model = AutoModelForQuestionAnswering.from_pretrained(\"sgugger/my-awesome-model\")\n",
        "```"
      ]
    }
  ],
  "metadata": {
    "accelerator": "GPU",
    "colab": {
      "collapsed_sections": [
        "n9qywopnIrJH",
        "545PP3o8IrJV"
      ],
      "provenance": []
    },
    "gpuClass": "standard",
    "kernelspec": {
      "display_name": "Python 3",
      "name": "python3"
    },
    "language_info": {
      "name": "python"
    },
    "widgets": {
      "application/vnd.jupyter.widget-state+json": {
        "014007cfd0444a1f959b33564961fb2d": {
          "model_module": "@jupyter-widgets/controls",
          "model_module_version": "1.5.0",
          "model_name": "HBoxModel",
          "state": {
            "_dom_classes": [],
            "_model_module": "@jupyter-widgets/controls",
            "_model_module_version": "1.5.0",
            "_model_name": "HBoxModel",
            "_view_count": null,
            "_view_module": "@jupyter-widgets/controls",
            "_view_module_version": "1.5.0",
            "_view_name": "HBoxView",
            "box_style": "",
            "children": [
              "IPY_MODEL_9ea44dc1e1f2461aacd6d45c77aa5dca",
              "IPY_MODEL_a8693e3f921c41c9b8d3c96d1206be2e",
              "IPY_MODEL_93978b7d88cc4a3d9bb96323118eff82"
            ],
            "layout": "IPY_MODEL_d9756fdb547f4cda8d4e979fed475b81"
          }
        },
        "034eae2bd5cc40a6acfc65301e2b089c": {
          "model_module": "@jupyter-widgets/controls",
          "model_module_version": "1.5.0",
          "model_name": "DescriptionStyleModel",
          "state": {
            "_model_module": "@jupyter-widgets/controls",
            "_model_module_version": "1.5.0",
            "_model_name": "DescriptionStyleModel",
            "_view_count": null,
            "_view_module": "@jupyter-widgets/base",
            "_view_module_version": "1.2.0",
            "_view_name": "StyleView",
            "description_width": ""
          }
        },
        "0535d32ba9fa47c2af2df4f8b00d9954": {
          "model_module": "@jupyter-widgets/base",
          "model_module_version": "1.2.0",
          "model_name": "LayoutModel",
          "state": {
            "_model_module": "@jupyter-widgets/base",
            "_model_module_version": "1.2.0",
            "_model_name": "LayoutModel",
            "_view_count": null,
            "_view_module": "@jupyter-widgets/base",
            "_view_module_version": "1.2.0",
            "_view_name": "LayoutView",
            "align_content": null,
            "align_items": null,
            "align_self": null,
            "border": null,
            "bottom": null,
            "display": null,
            "flex": null,
            "flex_flow": null,
            "grid_area": null,
            "grid_auto_columns": null,
            "grid_auto_flow": null,
            "grid_auto_rows": null,
            "grid_column": null,
            "grid_gap": null,
            "grid_row": null,
            "grid_template_areas": null,
            "grid_template_columns": null,
            "grid_template_rows": null,
            "height": null,
            "justify_content": null,
            "justify_items": null,
            "left": null,
            "margin": null,
            "max_height": null,
            "max_width": null,
            "min_height": null,
            "min_width": null,
            "object_fit": null,
            "object_position": null,
            "order": null,
            "overflow": null,
            "overflow_x": null,
            "overflow_y": null,
            "padding": null,
            "right": null,
            "top": null,
            "visibility": null,
            "width": null
          }
        },
        "055d4627f6d44c3a82a7daed41538203": {
          "model_module": "@jupyter-widgets/base",
          "model_module_version": "1.2.0",
          "model_name": "LayoutModel",
          "state": {
            "_model_module": "@jupyter-widgets/base",
            "_model_module_version": "1.2.0",
            "_model_name": "LayoutModel",
            "_view_count": null,
            "_view_module": "@jupyter-widgets/base",
            "_view_module_version": "1.2.0",
            "_view_name": "LayoutView",
            "align_content": null,
            "align_items": null,
            "align_self": null,
            "border": null,
            "bottom": null,
            "display": null,
            "flex": null,
            "flex_flow": null,
            "grid_area": null,
            "grid_auto_columns": null,
            "grid_auto_flow": null,
            "grid_auto_rows": null,
            "grid_column": null,
            "grid_gap": null,
            "grid_row": null,
            "grid_template_areas": null,
            "grid_template_columns": null,
            "grid_template_rows": null,
            "height": null,
            "justify_content": null,
            "justify_items": null,
            "left": null,
            "margin": null,
            "max_height": null,
            "max_width": null,
            "min_height": null,
            "min_width": null,
            "object_fit": null,
            "object_position": null,
            "order": null,
            "overflow": null,
            "overflow_x": null,
            "overflow_y": null,
            "padding": null,
            "right": null,
            "top": null,
            "visibility": null,
            "width": null
          }
        },
        "075bf84f91164244bb693b95173e6afa": {
          "model_module": "@jupyter-widgets/base",
          "model_module_version": "1.2.0",
          "model_name": "LayoutModel",
          "state": {
            "_model_module": "@jupyter-widgets/base",
            "_model_module_version": "1.2.0",
            "_model_name": "LayoutModel",
            "_view_count": null,
            "_view_module": "@jupyter-widgets/base",
            "_view_module_version": "1.2.0",
            "_view_name": "LayoutView",
            "align_content": null,
            "align_items": null,
            "align_self": null,
            "border": null,
            "bottom": null,
            "display": null,
            "flex": null,
            "flex_flow": null,
            "grid_area": null,
            "grid_auto_columns": null,
            "grid_auto_flow": null,
            "grid_auto_rows": null,
            "grid_column": null,
            "grid_gap": null,
            "grid_row": null,
            "grid_template_areas": null,
            "grid_template_columns": null,
            "grid_template_rows": null,
            "height": null,
            "justify_content": null,
            "justify_items": null,
            "left": null,
            "margin": null,
            "max_height": null,
            "max_width": null,
            "min_height": null,
            "min_width": null,
            "object_fit": null,
            "object_position": null,
            "order": null,
            "overflow": null,
            "overflow_x": null,
            "overflow_y": null,
            "padding": null,
            "right": null,
            "top": null,
            "visibility": null,
            "width": null
          }
        },
        "07d19bc286af4ef6b6dee746bb696d04": {
          "model_module": "@jupyter-widgets/controls",
          "model_module_version": "1.5.0",
          "model_name": "ProgressStyleModel",
          "state": {
            "_model_module": "@jupyter-widgets/controls",
            "_model_module_version": "1.5.0",
            "_model_name": "ProgressStyleModel",
            "_view_count": null,
            "_view_module": "@jupyter-widgets/base",
            "_view_module_version": "1.2.0",
            "_view_name": "StyleView",
            "bar_color": null,
            "description_width": ""
          }
        },
        "08dba0ca8a4948d9a8942f1c573040c0": {
          "model_module": "@jupyter-widgets/base",
          "model_module_version": "1.2.0",
          "model_name": "LayoutModel",
          "state": {
            "_model_module": "@jupyter-widgets/base",
            "_model_module_version": "1.2.0",
            "_model_name": "LayoutModel",
            "_view_count": null,
            "_view_module": "@jupyter-widgets/base",
            "_view_module_version": "1.2.0",
            "_view_name": "LayoutView",
            "align_content": null,
            "align_items": null,
            "align_self": null,
            "border": null,
            "bottom": null,
            "display": null,
            "flex": null,
            "flex_flow": null,
            "grid_area": null,
            "grid_auto_columns": null,
            "grid_auto_flow": null,
            "grid_auto_rows": null,
            "grid_column": null,
            "grid_gap": null,
            "grid_row": null,
            "grid_template_areas": null,
            "grid_template_columns": null,
            "grid_template_rows": null,
            "height": null,
            "justify_content": null,
            "justify_items": null,
            "left": null,
            "margin": null,
            "max_height": null,
            "max_width": null,
            "min_height": null,
            "min_width": null,
            "object_fit": null,
            "object_position": null,
            "order": null,
            "overflow": null,
            "overflow_x": null,
            "overflow_y": null,
            "padding": null,
            "right": null,
            "top": null,
            "visibility": null,
            "width": null
          }
        },
        "0bac21fe6c794cfbbf8867860dc60f05": {
          "model_module": "@jupyter-widgets/controls",
          "model_module_version": "1.5.0",
          "model_name": "ProgressStyleModel",
          "state": {
            "_model_module": "@jupyter-widgets/controls",
            "_model_module_version": "1.5.0",
            "_model_name": "ProgressStyleModel",
            "_view_count": null,
            "_view_module": "@jupyter-widgets/base",
            "_view_module_version": "1.2.0",
            "_view_name": "StyleView",
            "bar_color": null,
            "description_width": ""
          }
        },
        "0eda7eb583a54c3c99d4768dc69d228e": {
          "model_module": "@jupyter-widgets/controls",
          "model_module_version": "1.5.0",
          "model_name": "HTMLModel",
          "state": {
            "_dom_classes": [],
            "_model_module": "@jupyter-widgets/controls",
            "_model_module_version": "1.5.0",
            "_model_name": "HTMLModel",
            "_view_count": null,
            "_view_module": "@jupyter-widgets/controls",
            "_view_module_version": "1.5.0",
            "_view_name": "HTMLView",
            "description": "",
            "description_tooltip": null,
            "layout": "IPY_MODEL_e7d1ca74ca164e60b488f437102fe628",
            "placeholder": "​",
            "style": "IPY_MODEL_d9a2d2c9486e448cbe8772e2ca562518",
            "value": " 1/1 [00:00&lt;00:00,  6.33obj/s]"
          }
        },
        "1043c9230f104e3482f13ea3f209a19d": {
          "model_module": "@jupyter-widgets/base",
          "model_module_version": "1.2.0",
          "model_name": "LayoutModel",
          "state": {
            "_model_module": "@jupyter-widgets/base",
            "_model_module_version": "1.2.0",
            "_model_name": "LayoutModel",
            "_view_count": null,
            "_view_module": "@jupyter-widgets/base",
            "_view_module_version": "1.2.0",
            "_view_name": "LayoutView",
            "align_content": null,
            "align_items": null,
            "align_self": null,
            "border": null,
            "bottom": null,
            "display": null,
            "flex": null,
            "flex_flow": null,
            "grid_area": null,
            "grid_auto_columns": null,
            "grid_auto_flow": null,
            "grid_auto_rows": null,
            "grid_column": null,
            "grid_gap": null,
            "grid_row": null,
            "grid_template_areas": null,
            "grid_template_columns": null,
            "grid_template_rows": null,
            "height": null,
            "justify_content": null,
            "justify_items": null,
            "left": null,
            "margin": null,
            "max_height": null,
            "max_width": null,
            "min_height": null,
            "min_width": null,
            "object_fit": null,
            "object_position": null,
            "order": null,
            "overflow": null,
            "overflow_x": null,
            "overflow_y": null,
            "padding": null,
            "right": null,
            "top": null,
            "visibility": null,
            "width": null
          }
        },
        "1246ea0787b44dafb573340956ad9ddc": {
          "model_module": "@jupyter-widgets/controls",
          "model_module_version": "1.5.0",
          "model_name": "DescriptionStyleModel",
          "state": {
            "_model_module": "@jupyter-widgets/controls",
            "_model_module_version": "1.5.0",
            "_model_name": "DescriptionStyleModel",
            "_view_count": null,
            "_view_module": "@jupyter-widgets/base",
            "_view_module_version": "1.2.0",
            "_view_name": "StyleView",
            "description_width": ""
          }
        },
        "13065c598c87485e9482409979c08826": {
          "model_module": "@jupyter-widgets/controls",
          "model_module_version": "1.5.0",
          "model_name": "DescriptionStyleModel",
          "state": {
            "_model_module": "@jupyter-widgets/controls",
            "_model_module_version": "1.5.0",
            "_model_name": "DescriptionStyleModel",
            "_view_count": null,
            "_view_module": "@jupyter-widgets/base",
            "_view_module_version": "1.2.0",
            "_view_name": "StyleView",
            "description_width": ""
          }
        },
        "15746bca462c48af8defd94743d222e1": {
          "model_module": "@jupyter-widgets/controls",
          "model_module_version": "1.5.0",
          "model_name": "DescriptionStyleModel",
          "state": {
            "_model_module": "@jupyter-widgets/controls",
            "_model_module_version": "1.5.0",
            "_model_name": "DescriptionStyleModel",
            "_view_count": null,
            "_view_module": "@jupyter-widgets/base",
            "_view_module_version": "1.2.0",
            "_view_name": "StyleView",
            "description_width": ""
          }
        },
        "1625002595a149ef8bbf6da9d6ea0799": {
          "model_module": "@jupyter-widgets/base",
          "model_module_version": "1.2.0",
          "model_name": "LayoutModel",
          "state": {
            "_model_module": "@jupyter-widgets/base",
            "_model_module_version": "1.2.0",
            "_model_name": "LayoutModel",
            "_view_count": null,
            "_view_module": "@jupyter-widgets/base",
            "_view_module_version": "1.2.0",
            "_view_name": "LayoutView",
            "align_content": null,
            "align_items": null,
            "align_self": null,
            "border": null,
            "bottom": null,
            "display": null,
            "flex": null,
            "flex_flow": null,
            "grid_area": null,
            "grid_auto_columns": null,
            "grid_auto_flow": null,
            "grid_auto_rows": null,
            "grid_column": null,
            "grid_gap": null,
            "grid_row": null,
            "grid_template_areas": null,
            "grid_template_columns": null,
            "grid_template_rows": null,
            "height": null,
            "justify_content": null,
            "justify_items": null,
            "left": null,
            "margin": null,
            "max_height": null,
            "max_width": null,
            "min_height": null,
            "min_width": null,
            "object_fit": null,
            "object_position": null,
            "order": null,
            "overflow": null,
            "overflow_x": null,
            "overflow_y": null,
            "padding": null,
            "right": null,
            "top": null,
            "visibility": null,
            "width": null
          }
        },
        "16b6f7739db748f8bc296514d1de643f": {
          "model_module": "@jupyter-widgets/controls",
          "model_module_version": "1.5.0",
          "model_name": "HTMLModel",
          "state": {
            "_dom_classes": [],
            "_model_module": "@jupyter-widgets/controls",
            "_model_module_version": "1.5.0",
            "_model_name": "HTMLModel",
            "_view_count": null,
            "_view_module": "@jupyter-widgets/controls",
            "_view_module_version": "1.5.0",
            "_view_name": "HTMLView",
            "description": "",
            "description_tooltip": null,
            "layout": "IPY_MODEL_95a2f2d845724c2395153fa73781df3c",
            "placeholder": "​",
            "style": "IPY_MODEL_7c2eed6d6a3f4071b3bb8e9b2ebf9fe8",
            "value": "Downloading builder script: 100%"
          }
        },
        "1724e92121a84a098746b3ef9f30f42f": {
          "model_module": "@jupyter-widgets/base",
          "model_module_version": "1.2.0",
          "model_name": "LayoutModel",
          "state": {
            "_model_module": "@jupyter-widgets/base",
            "_model_module_version": "1.2.0",
            "_model_name": "LayoutModel",
            "_view_count": null,
            "_view_module": "@jupyter-widgets/base",
            "_view_module_version": "1.2.0",
            "_view_name": "LayoutView",
            "align_content": null,
            "align_items": null,
            "align_self": null,
            "border": null,
            "bottom": null,
            "display": null,
            "flex": null,
            "flex_flow": null,
            "grid_area": null,
            "grid_auto_columns": null,
            "grid_auto_flow": null,
            "grid_auto_rows": null,
            "grid_column": null,
            "grid_gap": null,
            "grid_row": null,
            "grid_template_areas": null,
            "grid_template_columns": null,
            "grid_template_rows": null,
            "height": null,
            "justify_content": null,
            "justify_items": null,
            "left": null,
            "margin": null,
            "max_height": null,
            "max_width": null,
            "min_height": null,
            "min_width": null,
            "object_fit": null,
            "object_position": null,
            "order": null,
            "overflow": null,
            "overflow_x": null,
            "overflow_y": null,
            "padding": null,
            "right": null,
            "top": null,
            "visibility": null,
            "width": null
          }
        },
        "17ee7ded95dc4d34a8bec33e6df5bbe7": {
          "model_module": "@jupyter-widgets/controls",
          "model_module_version": "1.5.0",
          "model_name": "HTMLModel",
          "state": {
            "_dom_classes": [],
            "_model_module": "@jupyter-widgets/controls",
            "_model_module_version": "1.5.0",
            "_model_name": "HTMLModel",
            "_view_count": null,
            "_view_module": "@jupyter-widgets/controls",
            "_view_module_version": "1.5.0",
            "_view_name": "HTMLView",
            "description": "",
            "description_tooltip": null,
            "layout": "IPY_MODEL_8e7448de252b4cfe976069dfc4f8b30c",
            "placeholder": "​",
            "style": "IPY_MODEL_15746bca462c48af8defd94743d222e1",
            "value": " 2/2 [00:01&lt;00:00,  1.37it/s]"
          }
        },
        "1b620aa31308470a9fddc5a4093aa568": {
          "model_module": "@jupyter-widgets/controls",
          "model_module_version": "1.5.0",
          "model_name": "DescriptionStyleModel",
          "state": {
            "_model_module": "@jupyter-widgets/controls",
            "_model_module_version": "1.5.0",
            "_model_name": "DescriptionStyleModel",
            "_view_count": null,
            "_view_module": "@jupyter-widgets/base",
            "_view_module_version": "1.2.0",
            "_view_name": "StyleView",
            "description_width": ""
          }
        },
        "2059c0831445492b98c7970437de1c95": {
          "model_module": "@jupyter-widgets/controls",
          "model_module_version": "1.5.0",
          "model_name": "HTMLModel",
          "state": {
            "_dom_classes": [],
            "_model_module": "@jupyter-widgets/controls",
            "_model_module_version": "1.5.0",
            "_model_name": "HTMLModel",
            "_view_count": null,
            "_view_module": "@jupyter-widgets/controls",
            "_view_module_version": "1.5.0",
            "_view_name": "HTMLView",
            "description": "",
            "description_tooltip": null,
            "layout": "IPY_MODEL_a3b9ab8a519c4ac2afb7e751d0bcea95",
            "placeholder": "​",
            "style": "IPY_MODEL_8995ea7b502e4a0f930355a612b7ef3c",
            "value": "Generating train split: 100%"
          }
        },
        "2720460a2d1e46b1b08e0850d385dcfa": {
          "model_module": "@jupyter-widgets/controls",
          "model_module_version": "1.5.0",
          "model_name": "DescriptionStyleModel",
          "state": {
            "_model_module": "@jupyter-widgets/controls",
            "_model_module_version": "1.5.0",
            "_model_name": "DescriptionStyleModel",
            "_view_count": null,
            "_view_module": "@jupyter-widgets/base",
            "_view_module_version": "1.2.0",
            "_view_name": "StyleView",
            "description_width": ""
          }
        },
        "2ad1eedc813f4bb0b1cf5bdc1e1fb441": {
          "model_module": "@jupyter-widgets/controls",
          "model_module_version": "1.5.0",
          "model_name": "DescriptionStyleModel",
          "state": {
            "_model_module": "@jupyter-widgets/controls",
            "_model_module_version": "1.5.0",
            "_model_name": "DescriptionStyleModel",
            "_view_count": null,
            "_view_module": "@jupyter-widgets/base",
            "_view_module_version": "1.2.0",
            "_view_name": "StyleView",
            "description_width": ""
          }
        },
        "2ccecbc5850342918223ce8a58a4ce1b": {
          "model_module": "@jupyter-widgets/controls",
          "model_module_version": "1.5.0",
          "model_name": "HTMLModel",
          "state": {
            "_dom_classes": [],
            "_model_module": "@jupyter-widgets/controls",
            "_model_module_version": "1.5.0",
            "_model_name": "HTMLModel",
            "_view_count": null,
            "_view_module": "@jupyter-widgets/controls",
            "_view_module_version": "1.5.0",
            "_view_name": "HTMLView",
            "description": "",
            "description_tooltip": null,
            "layout": "IPY_MODEL_7a23fa17f4364255a426ac984915afd7",
            "placeholder": "​",
            "style": "IPY_MODEL_13065c598c87485e9482409979c08826",
            "value": " 2/2 [00:00&lt;00:00, 52.05it/s]"
          }
        },
        "309c103274874b39b8e5be222bf6475f": {
          "model_module": "@jupyter-widgets/controls",
          "model_module_version": "1.5.0",
          "model_name": "HTMLModel",
          "state": {
            "_dom_classes": [],
            "_model_module": "@jupyter-widgets/controls",
            "_model_module_version": "1.5.0",
            "_model_name": "HTMLModel",
            "_view_count": null,
            "_view_module": "@jupyter-widgets/controls",
            "_view_module_version": "1.5.0",
            "_view_name": "HTMLView",
            "description": "",
            "description_tooltip": null,
            "layout": "IPY_MODEL_cdf9c2b387a44b3296a2068be11e22f6",
            "placeholder": "​",
            "style": "IPY_MODEL_5d731f8285e0448aae00332b905e3633",
            "value": " 4.37M/? [00:00&lt;00:00, 12.8MB/s]"
          }
        },
        "328b8e4036c94ba8a5f9f8bd4c16fcb6": {
          "model_module": "@jupyter-widgets/base",
          "model_module_version": "1.2.0",
          "model_name": "LayoutModel",
          "state": {
            "_model_module": "@jupyter-widgets/base",
            "_model_module_version": "1.2.0",
            "_model_name": "LayoutModel",
            "_view_count": null,
            "_view_module": "@jupyter-widgets/base",
            "_view_module_version": "1.2.0",
            "_view_name": "LayoutView",
            "align_content": null,
            "align_items": null,
            "align_self": null,
            "border": null,
            "bottom": null,
            "display": null,
            "flex": null,
            "flex_flow": null,
            "grid_area": null,
            "grid_auto_columns": null,
            "grid_auto_flow": null,
            "grid_auto_rows": null,
            "grid_column": null,
            "grid_gap": null,
            "grid_row": null,
            "grid_template_areas": null,
            "grid_template_columns": null,
            "grid_template_rows": null,
            "height": null,
            "justify_content": null,
            "justify_items": null,
            "left": null,
            "margin": null,
            "max_height": null,
            "max_width": null,
            "min_height": null,
            "min_width": null,
            "object_fit": null,
            "object_position": null,
            "order": null,
            "overflow": null,
            "overflow_x": null,
            "overflow_y": null,
            "padding": null,
            "right": null,
            "top": null,
            "visibility": null,
            "width": null
          }
        },
        "34183aadc7054d4c81b7f6246a697fd5": {
          "model_module": "@jupyter-widgets/controls",
          "model_module_version": "1.5.0",
          "model_name": "HTMLModel",
          "state": {
            "_dom_classes": [],
            "_model_module": "@jupyter-widgets/controls",
            "_model_module_version": "1.5.0",
            "_model_name": "HTMLModel",
            "_view_count": null,
            "_view_module": "@jupyter-widgets/controls",
            "_view_module_version": "1.5.0",
            "_view_name": "HTMLView",
            "description": "",
            "description_tooltip": null,
            "layout": "IPY_MODEL_9f5b6eeaebc3467fb889a6062001e119",
            "placeholder": "​",
            "style": "IPY_MODEL_563f25311fd543a7aaf2c0f24ead4fce",
            "value": " 1/1 [00:00&lt;00:00,  5.67obj/s]"
          }
        },
        "35ed200e6f0c467aa43931e5fdde8d07": {
          "model_module": "@jupyter-widgets/controls",
          "model_module_version": "1.5.0",
          "model_name": "ProgressStyleModel",
          "state": {
            "_model_module": "@jupyter-widgets/controls",
            "_model_module_version": "1.5.0",
            "_model_name": "ProgressStyleModel",
            "_view_count": null,
            "_view_module": "@jupyter-widgets/base",
            "_view_module_version": "1.2.0",
            "_view_name": "StyleView",
            "bar_color": null,
            "description_width": ""
          }
        },
        "37637bef1e684be3b8bdc7004fa4b290": {
          "model_module": "@jupyter-widgets/controls",
          "model_module_version": "1.5.0",
          "model_name": "ProgressStyleModel",
          "state": {
            "_model_module": "@jupyter-widgets/controls",
            "_model_module_version": "1.5.0",
            "_model_name": "ProgressStyleModel",
            "_view_count": null,
            "_view_module": "@jupyter-widgets/base",
            "_view_module_version": "1.2.0",
            "_view_name": "StyleView",
            "bar_color": null,
            "description_width": ""
          }
        },
        "3782cce6f57d4ee19b957f5d9e35c4cd": {
          "model_module": "@jupyter-widgets/controls",
          "model_module_version": "1.5.0",
          "model_name": "DescriptionStyleModel",
          "state": {
            "_model_module": "@jupyter-widgets/controls",
            "_model_module_version": "1.5.0",
            "_model_name": "DescriptionStyleModel",
            "_view_count": null,
            "_view_module": "@jupyter-widgets/base",
            "_view_module_version": "1.2.0",
            "_view_name": "StyleView",
            "description_width": ""
          }
        },
        "3b290cdb6a2342c18d8ba407bbf36aae": {
          "model_module": "@jupyter-widgets/base",
          "model_module_version": "1.2.0",
          "model_name": "LayoutModel",
          "state": {
            "_model_module": "@jupyter-widgets/base",
            "_model_module_version": "1.2.0",
            "_model_name": "LayoutModel",
            "_view_count": null,
            "_view_module": "@jupyter-widgets/base",
            "_view_module_version": "1.2.0",
            "_view_name": "LayoutView",
            "align_content": null,
            "align_items": null,
            "align_self": null,
            "border": null,
            "bottom": null,
            "display": null,
            "flex": null,
            "flex_flow": null,
            "grid_area": null,
            "grid_auto_columns": null,
            "grid_auto_flow": null,
            "grid_auto_rows": null,
            "grid_column": null,
            "grid_gap": null,
            "grid_row": null,
            "grid_template_areas": null,
            "grid_template_columns": null,
            "grid_template_rows": null,
            "height": null,
            "justify_content": null,
            "justify_items": null,
            "left": null,
            "margin": null,
            "max_height": null,
            "max_width": null,
            "min_height": null,
            "min_width": null,
            "object_fit": null,
            "object_position": null,
            "order": null,
            "overflow": null,
            "overflow_x": null,
            "overflow_y": null,
            "padding": null,
            "right": null,
            "top": null,
            "visibility": "hidden",
            "width": null
          }
        },
        "3cf0d0e6f0404278bd70555187880b91": {
          "model_module": "@jupyter-widgets/controls",
          "model_module_version": "1.5.0",
          "model_name": "DescriptionStyleModel",
          "state": {
            "_model_module": "@jupyter-widgets/controls",
            "_model_module_version": "1.5.0",
            "_model_name": "DescriptionStyleModel",
            "_view_count": null,
            "_view_module": "@jupyter-widgets/base",
            "_view_module_version": "1.2.0",
            "_view_name": "StyleView",
            "description_width": ""
          }
        },
        "44e4384c49204b4789b6876e351d43a5": {
          "model_module": "@jupyter-widgets/base",
          "model_module_version": "1.2.0",
          "model_name": "LayoutModel",
          "state": {
            "_model_module": "@jupyter-widgets/base",
            "_model_module_version": "1.2.0",
            "_model_name": "LayoutModel",
            "_view_count": null,
            "_view_module": "@jupyter-widgets/base",
            "_view_module_version": "1.2.0",
            "_view_name": "LayoutView",
            "align_content": null,
            "align_items": null,
            "align_self": null,
            "border": null,
            "bottom": null,
            "display": null,
            "flex": null,
            "flex_flow": null,
            "grid_area": null,
            "grid_auto_columns": null,
            "grid_auto_flow": null,
            "grid_auto_rows": null,
            "grid_column": null,
            "grid_gap": null,
            "grid_row": null,
            "grid_template_areas": null,
            "grid_template_columns": null,
            "grid_template_rows": null,
            "height": null,
            "justify_content": null,
            "justify_items": null,
            "left": null,
            "margin": null,
            "max_height": null,
            "max_width": null,
            "min_height": null,
            "min_width": null,
            "object_fit": null,
            "object_position": null,
            "order": null,
            "overflow": null,
            "overflow_x": null,
            "overflow_y": null,
            "padding": null,
            "right": null,
            "top": null,
            "visibility": null,
            "width": null
          }
        },
        "46a6db74823347438a2c61c980d8344a": {
          "model_module": "@jupyter-widgets/base",
          "model_module_version": "1.2.0",
          "model_name": "LayoutModel",
          "state": {
            "_model_module": "@jupyter-widgets/base",
            "_model_module_version": "1.2.0",
            "_model_name": "LayoutModel",
            "_view_count": null,
            "_view_module": "@jupyter-widgets/base",
            "_view_module_version": "1.2.0",
            "_view_name": "LayoutView",
            "align_content": null,
            "align_items": null,
            "align_self": null,
            "border": null,
            "bottom": null,
            "display": null,
            "flex": null,
            "flex_flow": null,
            "grid_area": null,
            "grid_auto_columns": null,
            "grid_auto_flow": null,
            "grid_auto_rows": null,
            "grid_column": null,
            "grid_gap": null,
            "grid_row": null,
            "grid_template_areas": null,
            "grid_template_columns": null,
            "grid_template_rows": null,
            "height": null,
            "justify_content": null,
            "justify_items": null,
            "left": null,
            "margin": null,
            "max_height": null,
            "max_width": null,
            "min_height": null,
            "min_width": null,
            "object_fit": null,
            "object_position": null,
            "order": null,
            "overflow": null,
            "overflow_x": null,
            "overflow_y": null,
            "padding": null,
            "right": null,
            "top": null,
            "visibility": null,
            "width": null
          }
        },
        "49ad380770d842bca4c8a962e5525909": {
          "model_module": "@jupyter-widgets/base",
          "model_module_version": "1.2.0",
          "model_name": "LayoutModel",
          "state": {
            "_model_module": "@jupyter-widgets/base",
            "_model_module_version": "1.2.0",
            "_model_name": "LayoutModel",
            "_view_count": null,
            "_view_module": "@jupyter-widgets/base",
            "_view_module_version": "1.2.0",
            "_view_name": "LayoutView",
            "align_content": null,
            "align_items": null,
            "align_self": null,
            "border": null,
            "bottom": null,
            "display": null,
            "flex": null,
            "flex_flow": null,
            "grid_area": null,
            "grid_auto_columns": null,
            "grid_auto_flow": null,
            "grid_auto_rows": null,
            "grid_column": null,
            "grid_gap": null,
            "grid_row": null,
            "grid_template_areas": null,
            "grid_template_columns": null,
            "grid_template_rows": null,
            "height": null,
            "justify_content": null,
            "justify_items": null,
            "left": null,
            "margin": null,
            "max_height": null,
            "max_width": null,
            "min_height": null,
            "min_width": null,
            "object_fit": null,
            "object_position": null,
            "order": null,
            "overflow": null,
            "overflow_x": null,
            "overflow_y": null,
            "padding": null,
            "right": null,
            "top": null,
            "visibility": null,
            "width": null
          }
        },
        "4bf57fa67bb542c88911b6f39078145a": {
          "model_module": "@jupyter-widgets/controls",
          "model_module_version": "1.5.0",
          "model_name": "HTMLModel",
          "state": {
            "_dom_classes": [],
            "_model_module": "@jupyter-widgets/controls",
            "_model_module_version": "1.5.0",
            "_model_name": "HTMLModel",
            "_view_count": null,
            "_view_module": "@jupyter-widgets/controls",
            "_view_module_version": "1.5.0",
            "_view_name": "HTMLView",
            "description": "",
            "description_tooltip": null,
            "layout": "IPY_MODEL_b4463f280c6941a9bd6da9d6afe5813d",
            "placeholder": "​",
            "style": "IPY_MODEL_e4fc05bfee424756992e034b1f26cf0b",
            "value": " 8.02k/8.02k [00:00&lt;00:00, 94.5kB/s]"
          }
        },
        "5267ceeee3634d908b98f7d5d1ca2308": {
          "model_module": "@jupyter-widgets/controls",
          "model_module_version": "1.5.0",
          "model_name": "HBoxModel",
          "state": {
            "_dom_classes": [],
            "_model_module": "@jupyter-widgets/controls",
            "_model_module_version": "1.5.0",
            "_model_name": "HBoxModel",
            "_view_count": null,
            "_view_module": "@jupyter-widgets/controls",
            "_view_module_version": "1.5.0",
            "_view_name": "HBoxView",
            "box_style": "",
            "children": [
              "IPY_MODEL_b540223712ed45a289dd17024cb5e5e2",
              "IPY_MODEL_898ef02f88284f39a8f57789d63ee410",
              "IPY_MODEL_4bf57fa67bb542c88911b6f39078145a"
            ],
            "layout": "IPY_MODEL_6f6efe34737448d38db2e3fa1192a3c3"
          }
        },
        "563f25311fd543a7aaf2c0f24ead4fce": {
          "model_module": "@jupyter-widgets/controls",
          "model_module_version": "1.5.0",
          "model_name": "DescriptionStyleModel",
          "state": {
            "_model_module": "@jupyter-widgets/controls",
            "_model_module_version": "1.5.0",
            "_model_name": "DescriptionStyleModel",
            "_view_count": null,
            "_view_module": "@jupyter-widgets/base",
            "_view_module_version": "1.2.0",
            "_view_name": "StyleView",
            "description_width": ""
          }
        },
        "56b0cef121dd4f1aba91ba3c32a05474": {
          "model_module": "@jupyter-widgets/controls",
          "model_module_version": "1.5.0",
          "model_name": "FloatProgressModel",
          "state": {
            "_dom_classes": [],
            "_model_module": "@jupyter-widgets/controls",
            "_model_module_version": "1.5.0",
            "_model_name": "FloatProgressModel",
            "_view_count": null,
            "_view_module": "@jupyter-widgets/controls",
            "_view_module_version": "1.5.0",
            "_view_name": "ProgressView",
            "bar_style": "success",
            "description": "",
            "description_tooltip": null,
            "layout": "IPY_MODEL_1625002595a149ef8bbf6da9d6ea0799",
            "max": 2,
            "min": 0,
            "orientation": "horizontal",
            "style": "IPY_MODEL_9ec3fa19827f4707ae1ca9f772af2389",
            "value": 2
          }
        },
        "5ab5c3ce5df340ec94338ec3a3ab8802": {
          "model_module": "@jupyter-widgets/controls",
          "model_module_version": "1.5.0",
          "model_name": "ProgressStyleModel",
          "state": {
            "_model_module": "@jupyter-widgets/controls",
            "_model_module_version": "1.5.0",
            "_model_name": "ProgressStyleModel",
            "_view_count": null,
            "_view_module": "@jupyter-widgets/base",
            "_view_module_version": "1.2.0",
            "_view_name": "StyleView",
            "bar_color": null,
            "description_width": ""
          }
        },
        "5d731f8285e0448aae00332b905e3633": {
          "model_module": "@jupyter-widgets/controls",
          "model_module_version": "1.5.0",
          "model_name": "DescriptionStyleModel",
          "state": {
            "_model_module": "@jupyter-widgets/controls",
            "_model_module_version": "1.5.0",
            "_model_name": "DescriptionStyleModel",
            "_view_count": null,
            "_view_module": "@jupyter-widgets/base",
            "_view_module_version": "1.2.0",
            "_view_name": "StyleView",
            "description_width": ""
          }
        },
        "5daf445251a7478e8f76e6e714736b63": {
          "model_module": "@jupyter-widgets/controls",
          "model_module_version": "1.5.0",
          "model_name": "HBoxModel",
          "state": {
            "_dom_classes": [],
            "_model_module": "@jupyter-widgets/controls",
            "_model_module_version": "1.5.0",
            "_model_name": "HBoxModel",
            "_view_count": null,
            "_view_module": "@jupyter-widgets/controls",
            "_view_module_version": "1.5.0",
            "_view_name": "HBoxView",
            "box_style": "",
            "children": [
              "IPY_MODEL_2059c0831445492b98c7970437de1c95",
              "IPY_MODEL_9794f581412346869f56601f04251ea9",
              "IPY_MODEL_db80c3c192e1470ca3508b8c5639e4a4"
            ],
            "layout": "IPY_MODEL_8f77f3be6b8d4840b115ff221fd91bad"
          }
        },
        "6218d90981494036ada3ec0d3cf4c362": {
          "model_module": "@jupyter-widgets/controls",
          "model_module_version": "1.5.0",
          "model_name": "HBoxModel",
          "state": {
            "_dom_classes": [],
            "_model_module": "@jupyter-widgets/controls",
            "_model_module_version": "1.5.0",
            "_model_name": "HBoxModel",
            "_view_count": null,
            "_view_module": "@jupyter-widgets/controls",
            "_view_module_version": "1.5.0",
            "_view_name": "HBoxView",
            "box_style": "",
            "children": [
              "IPY_MODEL_e5d46236fccc482f8d8db5f9e3c7da69",
              "IPY_MODEL_a54e451bcfd54cefa833f11b73aaa8e2",
              "IPY_MODEL_309c103274874b39b8e5be222bf6475f"
            ],
            "layout": "IPY_MODEL_abdfcdfd6eaa462f8960084a814bf47e"
          }
        },
        "653fe76785ef4c1a9b32ed8aa41abe2c": {
          "model_module": "@jupyter-widgets/base",
          "model_module_version": "1.2.0",
          "model_name": "LayoutModel",
          "state": {
            "_model_module": "@jupyter-widgets/base",
            "_model_module_version": "1.2.0",
            "_model_name": "LayoutModel",
            "_view_count": null,
            "_view_module": "@jupyter-widgets/base",
            "_view_module_version": "1.2.0",
            "_view_name": "LayoutView",
            "align_content": null,
            "align_items": null,
            "align_self": null,
            "border": null,
            "bottom": null,
            "display": null,
            "flex": null,
            "flex_flow": null,
            "grid_area": null,
            "grid_auto_columns": null,
            "grid_auto_flow": null,
            "grid_auto_rows": null,
            "grid_column": null,
            "grid_gap": null,
            "grid_row": null,
            "grid_template_areas": null,
            "grid_template_columns": null,
            "grid_template_rows": null,
            "height": null,
            "justify_content": null,
            "justify_items": null,
            "left": null,
            "margin": null,
            "max_height": null,
            "max_width": null,
            "min_height": null,
            "min_width": null,
            "object_fit": null,
            "object_position": null,
            "order": null,
            "overflow": null,
            "overflow_x": null,
            "overflow_y": null,
            "padding": null,
            "right": null,
            "top": null,
            "visibility": null,
            "width": null
          }
        },
        "667b26d0a99f428bb5566257c453a6c5": {
          "model_module": "@jupyter-widgets/controls",
          "model_module_version": "1.5.0",
          "model_name": "DescriptionStyleModel",
          "state": {
            "_model_module": "@jupyter-widgets/controls",
            "_model_module_version": "1.5.0",
            "_model_name": "DescriptionStyleModel",
            "_view_count": null,
            "_view_module": "@jupyter-widgets/base",
            "_view_module_version": "1.2.0",
            "_view_name": "StyleView",
            "description_width": ""
          }
        },
        "6b1d15c5735d49368f9c9b2cde33f207": {
          "model_module": "@jupyter-widgets/base",
          "model_module_version": "1.2.0",
          "model_name": "LayoutModel",
          "state": {
            "_model_module": "@jupyter-widgets/base",
            "_model_module_version": "1.2.0",
            "_model_name": "LayoutModel",
            "_view_count": null,
            "_view_module": "@jupyter-widgets/base",
            "_view_module_version": "1.2.0",
            "_view_name": "LayoutView",
            "align_content": null,
            "align_items": null,
            "align_self": null,
            "border": null,
            "bottom": null,
            "display": null,
            "flex": null,
            "flex_flow": null,
            "grid_area": null,
            "grid_auto_columns": null,
            "grid_auto_flow": null,
            "grid_auto_rows": null,
            "grid_column": null,
            "grid_gap": null,
            "grid_row": null,
            "grid_template_areas": null,
            "grid_template_columns": null,
            "grid_template_rows": null,
            "height": null,
            "justify_content": null,
            "justify_items": null,
            "left": null,
            "margin": null,
            "max_height": null,
            "max_width": null,
            "min_height": null,
            "min_width": null,
            "object_fit": null,
            "object_position": null,
            "order": null,
            "overflow": null,
            "overflow_x": null,
            "overflow_y": null,
            "padding": null,
            "right": null,
            "top": null,
            "visibility": null,
            "width": null
          }
        },
        "6f6efe34737448d38db2e3fa1192a3c3": {
          "model_module": "@jupyter-widgets/base",
          "model_module_version": "1.2.0",
          "model_name": "LayoutModel",
          "state": {
            "_model_module": "@jupyter-widgets/base",
            "_model_module_version": "1.2.0",
            "_model_name": "LayoutModel",
            "_view_count": null,
            "_view_module": "@jupyter-widgets/base",
            "_view_module_version": "1.2.0",
            "_view_name": "LayoutView",
            "align_content": null,
            "align_items": null,
            "align_self": null,
            "border": null,
            "bottom": null,
            "display": null,
            "flex": null,
            "flex_flow": null,
            "grid_area": null,
            "grid_auto_columns": null,
            "grid_auto_flow": null,
            "grid_auto_rows": null,
            "grid_column": null,
            "grid_gap": null,
            "grid_row": null,
            "grid_template_areas": null,
            "grid_template_columns": null,
            "grid_template_rows": null,
            "height": null,
            "justify_content": null,
            "justify_items": null,
            "left": null,
            "margin": null,
            "max_height": null,
            "max_width": null,
            "min_height": null,
            "min_width": null,
            "object_fit": null,
            "object_position": null,
            "order": null,
            "overflow": null,
            "overflow_x": null,
            "overflow_y": null,
            "padding": null,
            "right": null,
            "top": null,
            "visibility": null,
            "width": null
          }
        },
        "7170919aedcf4be7bdf8db69a2335023": {
          "model_module": "@jupyter-widgets/base",
          "model_module_version": "1.2.0",
          "model_name": "LayoutModel",
          "state": {
            "_model_module": "@jupyter-widgets/base",
            "_model_module_version": "1.2.0",
            "_model_name": "LayoutModel",
            "_view_count": null,
            "_view_module": "@jupyter-widgets/base",
            "_view_module_version": "1.2.0",
            "_view_name": "LayoutView",
            "align_content": null,
            "align_items": null,
            "align_self": null,
            "border": null,
            "bottom": null,
            "display": null,
            "flex": null,
            "flex_flow": null,
            "grid_area": null,
            "grid_auto_columns": null,
            "grid_auto_flow": null,
            "grid_auto_rows": null,
            "grid_column": null,
            "grid_gap": null,
            "grid_row": null,
            "grid_template_areas": null,
            "grid_template_columns": null,
            "grid_template_rows": null,
            "height": null,
            "justify_content": null,
            "justify_items": null,
            "left": null,
            "margin": null,
            "max_height": null,
            "max_width": null,
            "min_height": null,
            "min_width": null,
            "object_fit": null,
            "object_position": null,
            "order": null,
            "overflow": null,
            "overflow_x": null,
            "overflow_y": null,
            "padding": null,
            "right": null,
            "top": null,
            "visibility": null,
            "width": null
          }
        },
        "71d8a29800924182b89cd1b7daf03b02": {
          "model_module": "@jupyter-widgets/base",
          "model_module_version": "1.2.0",
          "model_name": "LayoutModel",
          "state": {
            "_model_module": "@jupyter-widgets/base",
            "_model_module_version": "1.2.0",
            "_model_name": "LayoutModel",
            "_view_count": null,
            "_view_module": "@jupyter-widgets/base",
            "_view_module_version": "1.2.0",
            "_view_name": "LayoutView",
            "align_content": null,
            "align_items": null,
            "align_self": null,
            "border": null,
            "bottom": null,
            "display": null,
            "flex": null,
            "flex_flow": null,
            "grid_area": null,
            "grid_auto_columns": null,
            "grid_auto_flow": null,
            "grid_auto_rows": null,
            "grid_column": null,
            "grid_gap": null,
            "grid_row": null,
            "grid_template_areas": null,
            "grid_template_columns": null,
            "grid_template_rows": null,
            "height": null,
            "justify_content": null,
            "justify_items": null,
            "left": null,
            "margin": null,
            "max_height": null,
            "max_width": null,
            "min_height": null,
            "min_width": null,
            "object_fit": null,
            "object_position": null,
            "order": null,
            "overflow": null,
            "overflow_x": null,
            "overflow_y": null,
            "padding": null,
            "right": null,
            "top": null,
            "visibility": null,
            "width": null
          }
        },
        "73006f80dc8c40d8a49d0dfa88438b51": {
          "model_module": "@jupyter-widgets/controls",
          "model_module_version": "1.5.0",
          "model_name": "DescriptionStyleModel",
          "state": {
            "_model_module": "@jupyter-widgets/controls",
            "_model_module_version": "1.5.0",
            "_model_name": "DescriptionStyleModel",
            "_view_count": null,
            "_view_module": "@jupyter-widgets/base",
            "_view_module_version": "1.2.0",
            "_view_name": "StyleView",
            "description_width": ""
          }
        },
        "76ebe2e9ea9e47ff87c20fb1bb52d576": {
          "model_module": "@jupyter-widgets/base",
          "model_module_version": "1.2.0",
          "model_name": "LayoutModel",
          "state": {
            "_model_module": "@jupyter-widgets/base",
            "_model_module_version": "1.2.0",
            "_model_name": "LayoutModel",
            "_view_count": null,
            "_view_module": "@jupyter-widgets/base",
            "_view_module_version": "1.2.0",
            "_view_name": "LayoutView",
            "align_content": null,
            "align_items": null,
            "align_self": null,
            "border": null,
            "bottom": null,
            "display": null,
            "flex": null,
            "flex_flow": null,
            "grid_area": null,
            "grid_auto_columns": null,
            "grid_auto_flow": null,
            "grid_auto_rows": null,
            "grid_column": null,
            "grid_gap": null,
            "grid_row": null,
            "grid_template_areas": null,
            "grid_template_columns": null,
            "grid_template_rows": null,
            "height": null,
            "justify_content": null,
            "justify_items": null,
            "left": null,
            "margin": null,
            "max_height": null,
            "max_width": null,
            "min_height": null,
            "min_width": null,
            "object_fit": null,
            "object_position": null,
            "order": null,
            "overflow": null,
            "overflow_x": null,
            "overflow_y": null,
            "padding": null,
            "right": null,
            "top": null,
            "visibility": null,
            "width": null
          }
        },
        "782541d2ef4d4a4a96d11545f37b6da1": {
          "model_module": "@jupyter-widgets/controls",
          "model_module_version": "1.5.0",
          "model_name": "DescriptionStyleModel",
          "state": {
            "_model_module": "@jupyter-widgets/controls",
            "_model_module_version": "1.5.0",
            "_model_name": "DescriptionStyleModel",
            "_view_count": null,
            "_view_module": "@jupyter-widgets/base",
            "_view_module_version": "1.2.0",
            "_view_name": "StyleView",
            "description_width": ""
          }
        },
        "7a23fa17f4364255a426ac984915afd7": {
          "model_module": "@jupyter-widgets/base",
          "model_module_version": "1.2.0",
          "model_name": "LayoutModel",
          "state": {
            "_model_module": "@jupyter-widgets/base",
            "_model_module_version": "1.2.0",
            "_model_name": "LayoutModel",
            "_view_count": null,
            "_view_module": "@jupyter-widgets/base",
            "_view_module_version": "1.2.0",
            "_view_name": "LayoutView",
            "align_content": null,
            "align_items": null,
            "align_self": null,
            "border": null,
            "bottom": null,
            "display": null,
            "flex": null,
            "flex_flow": null,
            "grid_area": null,
            "grid_auto_columns": null,
            "grid_auto_flow": null,
            "grid_auto_rows": null,
            "grid_column": null,
            "grid_gap": null,
            "grid_row": null,
            "grid_template_areas": null,
            "grid_template_columns": null,
            "grid_template_rows": null,
            "height": null,
            "justify_content": null,
            "justify_items": null,
            "left": null,
            "margin": null,
            "max_height": null,
            "max_width": null,
            "min_height": null,
            "min_width": null,
            "object_fit": null,
            "object_position": null,
            "order": null,
            "overflow": null,
            "overflow_x": null,
            "overflow_y": null,
            "padding": null,
            "right": null,
            "top": null,
            "visibility": null,
            "width": null
          }
        },
        "7c2eed6d6a3f4071b3bb8e9b2ebf9fe8": {
          "model_module": "@jupyter-widgets/controls",
          "model_module_version": "1.5.0",
          "model_name": "DescriptionStyleModel",
          "state": {
            "_model_module": "@jupyter-widgets/controls",
            "_model_module_version": "1.5.0",
            "_model_name": "DescriptionStyleModel",
            "_view_count": null,
            "_view_module": "@jupyter-widgets/base",
            "_view_module_version": "1.2.0",
            "_view_name": "StyleView",
            "description_width": ""
          }
        },
        "7d60ddc4a53b4c5e85213506249c696b": {
          "model_module": "@jupyter-widgets/base",
          "model_module_version": "1.2.0",
          "model_name": "LayoutModel",
          "state": {
            "_model_module": "@jupyter-widgets/base",
            "_model_module_version": "1.2.0",
            "_model_name": "LayoutModel",
            "_view_count": null,
            "_view_module": "@jupyter-widgets/base",
            "_view_module_version": "1.2.0",
            "_view_name": "LayoutView",
            "align_content": null,
            "align_items": null,
            "align_self": null,
            "border": null,
            "bottom": null,
            "display": null,
            "flex": null,
            "flex_flow": null,
            "grid_area": null,
            "grid_auto_columns": null,
            "grid_auto_flow": null,
            "grid_auto_rows": null,
            "grid_column": null,
            "grid_gap": null,
            "grid_row": null,
            "grid_template_areas": null,
            "grid_template_columns": null,
            "grid_template_rows": null,
            "height": null,
            "justify_content": null,
            "justify_items": null,
            "left": null,
            "margin": null,
            "max_height": null,
            "max_width": null,
            "min_height": null,
            "min_width": null,
            "object_fit": null,
            "object_position": null,
            "order": null,
            "overflow": null,
            "overflow_x": null,
            "overflow_y": null,
            "padding": null,
            "right": null,
            "top": null,
            "visibility": null,
            "width": null
          }
        },
        "7db4aaf819554f359b481650676ee521": {
          "model_module": "@jupyter-widgets/base",
          "model_module_version": "1.2.0",
          "model_name": "LayoutModel",
          "state": {
            "_model_module": "@jupyter-widgets/base",
            "_model_module_version": "1.2.0",
            "_model_name": "LayoutModel",
            "_view_count": null,
            "_view_module": "@jupyter-widgets/base",
            "_view_module_version": "1.2.0",
            "_view_name": "LayoutView",
            "align_content": null,
            "align_items": null,
            "align_self": null,
            "border": null,
            "bottom": null,
            "display": null,
            "flex": null,
            "flex_flow": null,
            "grid_area": null,
            "grid_auto_columns": null,
            "grid_auto_flow": null,
            "grid_auto_rows": null,
            "grid_column": null,
            "grid_gap": null,
            "grid_row": null,
            "grid_template_areas": null,
            "grid_template_columns": null,
            "grid_template_rows": null,
            "height": null,
            "justify_content": null,
            "justify_items": null,
            "left": null,
            "margin": null,
            "max_height": null,
            "max_width": null,
            "min_height": null,
            "min_width": null,
            "object_fit": null,
            "object_position": null,
            "order": null,
            "overflow": null,
            "overflow_x": null,
            "overflow_y": null,
            "padding": null,
            "right": null,
            "top": null,
            "visibility": null,
            "width": null
          }
        },
        "7f455422bd8e48f6961325487fcd4d02": {
          "model_module": "@jupyter-widgets/controls",
          "model_module_version": "1.5.0",
          "model_name": "DescriptionStyleModel",
          "state": {
            "_model_module": "@jupyter-widgets/controls",
            "_model_module_version": "1.5.0",
            "_model_name": "DescriptionStyleModel",
            "_view_count": null,
            "_view_module": "@jupyter-widgets/base",
            "_view_module_version": "1.2.0",
            "_view_name": "StyleView",
            "description_width": ""
          }
        },
        "7fb606b97b784fa58d6f896b0fab0998": {
          "model_module": "@jupyter-widgets/controls",
          "model_module_version": "1.5.0",
          "model_name": "ProgressStyleModel",
          "state": {
            "_model_module": "@jupyter-widgets/controls",
            "_model_module_version": "1.5.0",
            "_model_name": "ProgressStyleModel",
            "_view_count": null,
            "_view_module": "@jupyter-widgets/base",
            "_view_module_version": "1.2.0",
            "_view_name": "StyleView",
            "bar_color": null,
            "description_width": ""
          }
        },
        "7fc410a7a4e348e7815bf04192d2f98a": {
          "model_module": "@jupyter-widgets/controls",
          "model_module_version": "1.5.0",
          "model_name": "HBoxModel",
          "state": {
            "_dom_classes": [],
            "_model_module": "@jupyter-widgets/controls",
            "_model_module_version": "1.5.0",
            "_model_name": "HBoxModel",
            "_view_count": null,
            "_view_module": "@jupyter-widgets/controls",
            "_view_module_version": "1.5.0",
            "_view_name": "HBoxView",
            "box_style": "",
            "children": [
              "IPY_MODEL_16b6f7739db748f8bc296514d1de643f",
              "IPY_MODEL_c95b7177496d4151a74d2f1227a656bb",
              "IPY_MODEL_bafabda8299a40caa0204721b4ba7b76"
            ],
            "layout": "IPY_MODEL_7d60ddc4a53b4c5e85213506249c696b"
          }
        },
        "80961129fc7149379e741eab42526540": {
          "model_module": "@jupyter-widgets/controls",
          "model_module_version": "1.5.0",
          "model_name": "HBoxModel",
          "state": {
            "_dom_classes": [],
            "_model_module": "@jupyter-widgets/controls",
            "_model_module_version": "1.5.0",
            "_model_name": "HBoxModel",
            "_view_count": null,
            "_view_module": "@jupyter-widgets/controls",
            "_view_module_version": "1.5.0",
            "_view_name": "HBoxView",
            "box_style": "",
            "children": [
              "IPY_MODEL_cfe1b4c2ffb242ad86a2ecff157df100",
              "IPY_MODEL_8f724c9d51444a19952e9b882022a921",
              "IPY_MODEL_f00afb39398048bf810d9a1bc624db6d"
            ],
            "layout": "IPY_MODEL_3b290cdb6a2342c18d8ba407bbf36aae"
          }
        },
        "84d021fda6bb4a348a3de56849b67cba": {
          "model_module": "@jupyter-widgets/base",
          "model_module_version": "1.2.0",
          "model_name": "LayoutModel",
          "state": {
            "_model_module": "@jupyter-widgets/base",
            "_model_module_version": "1.2.0",
            "_model_name": "LayoutModel",
            "_view_count": null,
            "_view_module": "@jupyter-widgets/base",
            "_view_module_version": "1.2.0",
            "_view_name": "LayoutView",
            "align_content": null,
            "align_items": null,
            "align_self": null,
            "border": null,
            "bottom": null,
            "display": null,
            "flex": null,
            "flex_flow": null,
            "grid_area": null,
            "grid_auto_columns": null,
            "grid_auto_flow": null,
            "grid_auto_rows": null,
            "grid_column": null,
            "grid_gap": null,
            "grid_row": null,
            "grid_template_areas": null,
            "grid_template_columns": null,
            "grid_template_rows": null,
            "height": null,
            "justify_content": null,
            "justify_items": null,
            "left": null,
            "margin": null,
            "max_height": null,
            "max_width": null,
            "min_height": null,
            "min_width": null,
            "object_fit": null,
            "object_position": null,
            "order": null,
            "overflow": null,
            "overflow_x": null,
            "overflow_y": null,
            "padding": null,
            "right": null,
            "top": null,
            "visibility": null,
            "width": null
          }
        },
        "898ef02f88284f39a8f57789d63ee410": {
          "model_module": "@jupyter-widgets/controls",
          "model_module_version": "1.5.0",
          "model_name": "FloatProgressModel",
          "state": {
            "_dom_classes": [],
            "_model_module": "@jupyter-widgets/controls",
            "_model_module_version": "1.5.0",
            "_model_name": "FloatProgressModel",
            "_view_count": null,
            "_view_module": "@jupyter-widgets/controls",
            "_view_module_version": "1.5.0",
            "_view_name": "ProgressView",
            "bar_style": "success",
            "description": "",
            "description_tooltip": null,
            "layout": "IPY_MODEL_653fe76785ef4c1a9b32ed8aa41abe2c",
            "max": 8016,
            "min": 0,
            "orientation": "horizontal",
            "style": "IPY_MODEL_f4a51fd74c404393b1a163c241cd1105",
            "value": 8016
          }
        },
        "8995ea7b502e4a0f930355a612b7ef3c": {
          "model_module": "@jupyter-widgets/controls",
          "model_module_version": "1.5.0",
          "model_name": "DescriptionStyleModel",
          "state": {
            "_model_module": "@jupyter-widgets/controls",
            "_model_module_version": "1.5.0",
            "_model_name": "DescriptionStyleModel",
            "_view_count": null,
            "_view_module": "@jupyter-widgets/base",
            "_view_module_version": "1.2.0",
            "_view_name": "StyleView",
            "description_width": ""
          }
        },
        "8e7448de252b4cfe976069dfc4f8b30c": {
          "model_module": "@jupyter-widgets/base",
          "model_module_version": "1.2.0",
          "model_name": "LayoutModel",
          "state": {
            "_model_module": "@jupyter-widgets/base",
            "_model_module_version": "1.2.0",
            "_model_name": "LayoutModel",
            "_view_count": null,
            "_view_module": "@jupyter-widgets/base",
            "_view_module_version": "1.2.0",
            "_view_name": "LayoutView",
            "align_content": null,
            "align_items": null,
            "align_self": null,
            "border": null,
            "bottom": null,
            "display": null,
            "flex": null,
            "flex_flow": null,
            "grid_area": null,
            "grid_auto_columns": null,
            "grid_auto_flow": null,
            "grid_auto_rows": null,
            "grid_column": null,
            "grid_gap": null,
            "grid_row": null,
            "grid_template_areas": null,
            "grid_template_columns": null,
            "grid_template_rows": null,
            "height": null,
            "justify_content": null,
            "justify_items": null,
            "left": null,
            "margin": null,
            "max_height": null,
            "max_width": null,
            "min_height": null,
            "min_width": null,
            "object_fit": null,
            "object_position": null,
            "order": null,
            "overflow": null,
            "overflow_x": null,
            "overflow_y": null,
            "padding": null,
            "right": null,
            "top": null,
            "visibility": null,
            "width": null
          }
        },
        "8ec03d412a0f41e09b9214012de0162c": {
          "model_module": "@jupyter-widgets/controls",
          "model_module_version": "1.5.0",
          "model_name": "HBoxModel",
          "state": {
            "_dom_classes": [],
            "_model_module": "@jupyter-widgets/controls",
            "_model_module_version": "1.5.0",
            "_model_name": "HBoxModel",
            "_view_count": null,
            "_view_module": "@jupyter-widgets/controls",
            "_view_module_version": "1.5.0",
            "_view_name": "HBoxView",
            "box_style": "",
            "children": [
              "IPY_MODEL_baad9607a7244138bc757f98501c28d7",
              "IPY_MODEL_fe7ed5ebbd244b928289df6aa93ada88",
              "IPY_MODEL_34183aadc7054d4c81b7f6246a697fd5"
            ],
            "layout": "IPY_MODEL_eaec35113ae34cc59734ced78e5f0481"
          }
        },
        "8f724c9d51444a19952e9b882022a921": {
          "model_module": "@jupyter-widgets/controls",
          "model_module_version": "1.5.0",
          "model_name": "FloatProgressModel",
          "state": {
            "_dom_classes": [],
            "_model_module": "@jupyter-widgets/controls",
            "_model_module_version": "1.5.0",
            "_model_name": "FloatProgressModel",
            "_view_count": null,
            "_view_module": "@jupyter-widgets/controls",
            "_view_module_version": "1.5.0",
            "_view_name": "ProgressView",
            "bar_style": "",
            "description": "",
            "description_tooltip": null,
            "layout": "IPY_MODEL_1724e92121a84a098746b3ef9f30f42f",
            "max": 11873,
            "min": 0,
            "orientation": "horizontal",
            "style": "IPY_MODEL_5ab5c3ce5df340ec94338ec3a3ab8802",
            "value": 11873
          }
        },
        "8f77f3be6b8d4840b115ff221fd91bad": {
          "model_module": "@jupyter-widgets/base",
          "model_module_version": "1.2.0",
          "model_name": "LayoutModel",
          "state": {
            "_model_module": "@jupyter-widgets/base",
            "_model_module_version": "1.2.0",
            "_model_name": "LayoutModel",
            "_view_count": null,
            "_view_module": "@jupyter-widgets/base",
            "_view_module_version": "1.2.0",
            "_view_name": "LayoutView",
            "align_content": null,
            "align_items": null,
            "align_self": null,
            "border": null,
            "bottom": null,
            "display": null,
            "flex": null,
            "flex_flow": null,
            "grid_area": null,
            "grid_auto_columns": null,
            "grid_auto_flow": null,
            "grid_auto_rows": null,
            "grid_column": null,
            "grid_gap": null,
            "grid_row": null,
            "grid_template_areas": null,
            "grid_template_columns": null,
            "grid_template_rows": null,
            "height": null,
            "justify_content": null,
            "justify_items": null,
            "left": null,
            "margin": null,
            "max_height": null,
            "max_width": null,
            "min_height": null,
            "min_width": null,
            "object_fit": null,
            "object_position": null,
            "order": null,
            "overflow": null,
            "overflow_x": null,
            "overflow_y": null,
            "padding": null,
            "right": null,
            "top": null,
            "visibility": "hidden",
            "width": null
          }
        },
        "9180eff9c64d46d382f706f3f3e4f14a": {
          "model_module": "@jupyter-widgets/controls",
          "model_module_version": "1.5.0",
          "model_name": "ProgressStyleModel",
          "state": {
            "_model_module": "@jupyter-widgets/controls",
            "_model_module_version": "1.5.0",
            "_model_name": "ProgressStyleModel",
            "_view_count": null,
            "_view_module": "@jupyter-widgets/base",
            "_view_module_version": "1.2.0",
            "_view_name": "StyleView",
            "bar_color": null,
            "description_width": ""
          }
        },
        "93978b7d88cc4a3d9bb96323118eff82": {
          "model_module": "@jupyter-widgets/controls",
          "model_module_version": "1.5.0",
          "model_name": "HTMLModel",
          "state": {
            "_dom_classes": [],
            "_model_module": "@jupyter-widgets/controls",
            "_model_module_version": "1.5.0",
            "_model_name": "HTMLModel",
            "_view_count": null,
            "_view_module": "@jupyter-widgets/controls",
            "_view_module_version": "1.5.0",
            "_view_name": "HTMLView",
            "description": "",
            "description_tooltip": null,
            "layout": "IPY_MODEL_a78422bc7fd1440daecba8bda32b06f4",
            "placeholder": "​",
            "style": "IPY_MODEL_73006f80dc8c40d8a49d0dfa88438b51",
            "value": " 42.1M/? [00:00&lt;00:00, 55.6MB/s]"
          }
        },
        "941e41b359234a91ad1cfc858af22d2c": {
          "model_module": "@jupyter-widgets/base",
          "model_module_version": "1.2.0",
          "model_name": "LayoutModel",
          "state": {
            "_model_module": "@jupyter-widgets/base",
            "_model_module_version": "1.2.0",
            "_model_name": "LayoutModel",
            "_view_count": null,
            "_view_module": "@jupyter-widgets/base",
            "_view_module_version": "1.2.0",
            "_view_name": "LayoutView",
            "align_content": null,
            "align_items": null,
            "align_self": null,
            "border": null,
            "bottom": null,
            "display": null,
            "flex": null,
            "flex_flow": null,
            "grid_area": null,
            "grid_auto_columns": null,
            "grid_auto_flow": null,
            "grid_auto_rows": null,
            "grid_column": null,
            "grid_gap": null,
            "grid_row": null,
            "grid_template_areas": null,
            "grid_template_columns": null,
            "grid_template_rows": null,
            "height": null,
            "justify_content": null,
            "justify_items": null,
            "left": null,
            "margin": null,
            "max_height": null,
            "max_width": null,
            "min_height": null,
            "min_width": null,
            "object_fit": null,
            "object_position": null,
            "order": null,
            "overflow": null,
            "overflow_x": null,
            "overflow_y": null,
            "padding": null,
            "right": null,
            "top": null,
            "visibility": null,
            "width": null
          }
        },
        "94c123a65b4a4908b7c0ad2731eed509": {
          "model_module": "@jupyter-widgets/controls",
          "model_module_version": "1.5.0",
          "model_name": "DescriptionStyleModel",
          "state": {
            "_model_module": "@jupyter-widgets/controls",
            "_model_module_version": "1.5.0",
            "_model_name": "DescriptionStyleModel",
            "_view_count": null,
            "_view_module": "@jupyter-widgets/base",
            "_view_module_version": "1.2.0",
            "_view_name": "StyleView",
            "description_width": ""
          }
        },
        "94e875cc91104195a2c47c4e638dda37": {
          "model_module": "@jupyter-widgets/base",
          "model_module_version": "1.2.0",
          "model_name": "LayoutModel",
          "state": {
            "_model_module": "@jupyter-widgets/base",
            "_model_module_version": "1.2.0",
            "_model_name": "LayoutModel",
            "_view_count": null,
            "_view_module": "@jupyter-widgets/base",
            "_view_module_version": "1.2.0",
            "_view_name": "LayoutView",
            "align_content": null,
            "align_items": null,
            "align_self": null,
            "border": null,
            "bottom": null,
            "display": null,
            "flex": null,
            "flex_flow": null,
            "grid_area": null,
            "grid_auto_columns": null,
            "grid_auto_flow": null,
            "grid_auto_rows": null,
            "grid_column": null,
            "grid_gap": null,
            "grid_row": null,
            "grid_template_areas": null,
            "grid_template_columns": null,
            "grid_template_rows": null,
            "height": null,
            "justify_content": null,
            "justify_items": null,
            "left": null,
            "margin": null,
            "max_height": null,
            "max_width": null,
            "min_height": null,
            "min_width": null,
            "object_fit": null,
            "object_position": null,
            "order": null,
            "overflow": null,
            "overflow_x": null,
            "overflow_y": null,
            "padding": null,
            "right": null,
            "top": null,
            "visibility": null,
            "width": null
          }
        },
        "94f09ba5048242c9acdd18c34c2c4ea1": {
          "model_module": "@jupyter-widgets/base",
          "model_module_version": "1.2.0",
          "model_name": "LayoutModel",
          "state": {
            "_model_module": "@jupyter-widgets/base",
            "_model_module_version": "1.2.0",
            "_model_name": "LayoutModel",
            "_view_count": null,
            "_view_module": "@jupyter-widgets/base",
            "_view_module_version": "1.2.0",
            "_view_name": "LayoutView",
            "align_content": null,
            "align_items": null,
            "align_self": null,
            "border": null,
            "bottom": null,
            "display": null,
            "flex": null,
            "flex_flow": null,
            "grid_area": null,
            "grid_auto_columns": null,
            "grid_auto_flow": null,
            "grid_auto_rows": null,
            "grid_column": null,
            "grid_gap": null,
            "grid_row": null,
            "grid_template_areas": null,
            "grid_template_columns": null,
            "grid_template_rows": null,
            "height": null,
            "justify_content": null,
            "justify_items": null,
            "left": null,
            "margin": null,
            "max_height": null,
            "max_width": null,
            "min_height": null,
            "min_width": null,
            "object_fit": null,
            "object_position": null,
            "order": null,
            "overflow": null,
            "overflow_x": null,
            "overflow_y": null,
            "padding": null,
            "right": null,
            "top": null,
            "visibility": null,
            "width": null
          }
        },
        "959ceffc999a453c84b366ea23b50c36": {
          "model_module": "@jupyter-widgets/controls",
          "model_module_version": "1.5.0",
          "model_name": "HBoxModel",
          "state": {
            "_dom_classes": [],
            "_model_module": "@jupyter-widgets/controls",
            "_model_module_version": "1.5.0",
            "_model_name": "HBoxModel",
            "_view_count": null,
            "_view_module": "@jupyter-widgets/controls",
            "_view_module_version": "1.5.0",
            "_view_name": "HBoxView",
            "box_style": "",
            "children": [
              "IPY_MODEL_b2762d7ce15145b7950ab3c3b9fe2cd2",
              "IPY_MODEL_df7687651ee542aa964c0b8bf13663a5",
              "IPY_MODEL_2ccecbc5850342918223ce8a58a4ce1b"
            ],
            "layout": "IPY_MODEL_71d8a29800924182b89cd1b7daf03b02"
          }
        },
        "95a2f2d845724c2395153fa73781df3c": {
          "model_module": "@jupyter-widgets/base",
          "model_module_version": "1.2.0",
          "model_name": "LayoutModel",
          "state": {
            "_model_module": "@jupyter-widgets/base",
            "_model_module_version": "1.2.0",
            "_model_name": "LayoutModel",
            "_view_count": null,
            "_view_module": "@jupyter-widgets/base",
            "_view_module_version": "1.2.0",
            "_view_name": "LayoutView",
            "align_content": null,
            "align_items": null,
            "align_self": null,
            "border": null,
            "bottom": null,
            "display": null,
            "flex": null,
            "flex_flow": null,
            "grid_area": null,
            "grid_auto_columns": null,
            "grid_auto_flow": null,
            "grid_auto_rows": null,
            "grid_column": null,
            "grid_gap": null,
            "grid_row": null,
            "grid_template_areas": null,
            "grid_template_columns": null,
            "grid_template_rows": null,
            "height": null,
            "justify_content": null,
            "justify_items": null,
            "left": null,
            "margin": null,
            "max_height": null,
            "max_width": null,
            "min_height": null,
            "min_width": null,
            "object_fit": null,
            "object_position": null,
            "order": null,
            "overflow": null,
            "overflow_x": null,
            "overflow_y": null,
            "padding": null,
            "right": null,
            "top": null,
            "visibility": null,
            "width": null
          }
        },
        "97509492562d47d7a3d21a74bfbc62f5": {
          "model_module": "@jupyter-widgets/base",
          "model_module_version": "1.2.0",
          "model_name": "LayoutModel",
          "state": {
            "_model_module": "@jupyter-widgets/base",
            "_model_module_version": "1.2.0",
            "_model_name": "LayoutModel",
            "_view_count": null,
            "_view_module": "@jupyter-widgets/base",
            "_view_module_version": "1.2.0",
            "_view_name": "LayoutView",
            "align_content": null,
            "align_items": null,
            "align_self": null,
            "border": null,
            "bottom": null,
            "display": null,
            "flex": null,
            "flex_flow": null,
            "grid_area": null,
            "grid_auto_columns": null,
            "grid_auto_flow": null,
            "grid_auto_rows": null,
            "grid_column": null,
            "grid_gap": null,
            "grid_row": null,
            "grid_template_areas": null,
            "grid_template_columns": null,
            "grid_template_rows": null,
            "height": null,
            "justify_content": null,
            "justify_items": null,
            "left": null,
            "margin": null,
            "max_height": null,
            "max_width": null,
            "min_height": null,
            "min_width": null,
            "object_fit": null,
            "object_position": null,
            "order": null,
            "overflow": null,
            "overflow_x": null,
            "overflow_y": null,
            "padding": null,
            "right": null,
            "top": null,
            "visibility": null,
            "width": null
          }
        },
        "9794f581412346869f56601f04251ea9": {
          "model_module": "@jupyter-widgets/controls",
          "model_module_version": "1.5.0",
          "model_name": "FloatProgressModel",
          "state": {
            "_dom_classes": [],
            "_model_module": "@jupyter-widgets/controls",
            "_model_module_version": "1.5.0",
            "_model_name": "FloatProgressModel",
            "_view_count": null,
            "_view_module": "@jupyter-widgets/controls",
            "_view_module_version": "1.5.0",
            "_view_name": "ProgressView",
            "bar_style": "",
            "description": "",
            "description_tooltip": null,
            "layout": "IPY_MODEL_84d021fda6bb4a348a3de56849b67cba",
            "max": 130319,
            "min": 0,
            "orientation": "horizontal",
            "style": "IPY_MODEL_9180eff9c64d46d382f706f3f3e4f14a",
            "value": 130319
          }
        },
        "9b5b7eae5704445db37a4941d61f8063": {
          "model_module": "@jupyter-widgets/controls",
          "model_module_version": "1.5.0",
          "model_name": "ProgressStyleModel",
          "state": {
            "_model_module": "@jupyter-widgets/controls",
            "_model_module_version": "1.5.0",
            "_model_name": "ProgressStyleModel",
            "_view_count": null,
            "_view_module": "@jupyter-widgets/base",
            "_view_module_version": "1.2.0",
            "_view_name": "StyleView",
            "bar_color": null,
            "description_width": ""
          }
        },
        "9e35604f53dd469facadad2634a0276f": {
          "model_module": "@jupyter-widgets/base",
          "model_module_version": "1.2.0",
          "model_name": "LayoutModel",
          "state": {
            "_model_module": "@jupyter-widgets/base",
            "_model_module_version": "1.2.0",
            "_model_name": "LayoutModel",
            "_view_count": null,
            "_view_module": "@jupyter-widgets/base",
            "_view_module_version": "1.2.0",
            "_view_name": "LayoutView",
            "align_content": null,
            "align_items": null,
            "align_self": null,
            "border": null,
            "bottom": null,
            "display": null,
            "flex": null,
            "flex_flow": null,
            "grid_area": null,
            "grid_auto_columns": null,
            "grid_auto_flow": null,
            "grid_auto_rows": null,
            "grid_column": null,
            "grid_gap": null,
            "grid_row": null,
            "grid_template_areas": null,
            "grid_template_columns": null,
            "grid_template_rows": null,
            "height": null,
            "justify_content": null,
            "justify_items": null,
            "left": null,
            "margin": null,
            "max_height": null,
            "max_width": null,
            "min_height": null,
            "min_width": null,
            "object_fit": null,
            "object_position": null,
            "order": null,
            "overflow": null,
            "overflow_x": null,
            "overflow_y": null,
            "padding": null,
            "right": null,
            "top": null,
            "visibility": null,
            "width": null
          }
        },
        "9ea44dc1e1f2461aacd6d45c77aa5dca": {
          "model_module": "@jupyter-widgets/controls",
          "model_module_version": "1.5.0",
          "model_name": "HTMLModel",
          "state": {
            "_dom_classes": [],
            "_model_module": "@jupyter-widgets/controls",
            "_model_module_version": "1.5.0",
            "_model_name": "HTMLModel",
            "_view_count": null,
            "_view_module": "@jupyter-widgets/controls",
            "_view_module_version": "1.5.0",
            "_view_name": "HTMLView",
            "description": "",
            "description_tooltip": null,
            "layout": "IPY_MODEL_941e41b359234a91ad1cfc858af22d2c",
            "placeholder": "​",
            "style": "IPY_MODEL_d43d646f9cb843b8add14a316131e64d",
            "value": "Downloading data: "
          }
        },
        "9ec3fa19827f4707ae1ca9f772af2389": {
          "model_module": "@jupyter-widgets/controls",
          "model_module_version": "1.5.0",
          "model_name": "ProgressStyleModel",
          "state": {
            "_model_module": "@jupyter-widgets/controls",
            "_model_module_version": "1.5.0",
            "_model_name": "ProgressStyleModel",
            "_view_count": null,
            "_view_module": "@jupyter-widgets/base",
            "_view_module_version": "1.2.0",
            "_view_name": "StyleView",
            "bar_color": null,
            "description_width": ""
          }
        },
        "9f5b6eeaebc3467fb889a6062001e119": {
          "model_module": "@jupyter-widgets/base",
          "model_module_version": "1.2.0",
          "model_name": "LayoutModel",
          "state": {
            "_model_module": "@jupyter-widgets/base",
            "_model_module_version": "1.2.0",
            "_model_name": "LayoutModel",
            "_view_count": null,
            "_view_module": "@jupyter-widgets/base",
            "_view_module_version": "1.2.0",
            "_view_name": "LayoutView",
            "align_content": null,
            "align_items": null,
            "align_self": null,
            "border": null,
            "bottom": null,
            "display": null,
            "flex": null,
            "flex_flow": null,
            "grid_area": null,
            "grid_auto_columns": null,
            "grid_auto_flow": null,
            "grid_auto_rows": null,
            "grid_column": null,
            "grid_gap": null,
            "grid_row": null,
            "grid_template_areas": null,
            "grid_template_columns": null,
            "grid_template_rows": null,
            "height": null,
            "justify_content": null,
            "justify_items": null,
            "left": null,
            "margin": null,
            "max_height": null,
            "max_width": null,
            "min_height": null,
            "min_width": null,
            "object_fit": null,
            "object_position": null,
            "order": null,
            "overflow": null,
            "overflow_x": null,
            "overflow_y": null,
            "padding": null,
            "right": null,
            "top": null,
            "visibility": null,
            "width": null
          }
        },
        "a062f5f4f7b8429c9636b83d0ce2d993": {
          "model_module": "@jupyter-widgets/controls",
          "model_module_version": "1.5.0",
          "model_name": "DescriptionStyleModel",
          "state": {
            "_model_module": "@jupyter-widgets/controls",
            "_model_module_version": "1.5.0",
            "_model_name": "DescriptionStyleModel",
            "_view_count": null,
            "_view_module": "@jupyter-widgets/base",
            "_view_module_version": "1.2.0",
            "_view_name": "StyleView",
            "description_width": ""
          }
        },
        "a0728de933f64504ac61dd9a7f61b7e8": {
          "model_module": "@jupyter-widgets/controls",
          "model_module_version": "1.5.0",
          "model_name": "HBoxModel",
          "state": {
            "_dom_classes": [],
            "_model_module": "@jupyter-widgets/controls",
            "_model_module_version": "1.5.0",
            "_model_name": "HBoxModel",
            "_view_count": null,
            "_view_module": "@jupyter-widgets/controls",
            "_view_module_version": "1.5.0",
            "_view_name": "HBoxView",
            "box_style": "",
            "children": [
              "IPY_MODEL_de555c7abda84977ba87df953b947613",
              "IPY_MODEL_a3c11dc08c0943d59e50f282a465b1b2",
              "IPY_MODEL_fa50aed874624f3dba610f3be81835e4"
            ],
            "layout": "IPY_MODEL_db64486d800546d6976608297999dfc5"
          }
        },
        "a17bb4dde5304b0db67decba129930e5": {
          "model_module": "@jupyter-widgets/controls",
          "model_module_version": "1.5.0",
          "model_name": "FloatProgressModel",
          "state": {
            "_dom_classes": [],
            "_model_module": "@jupyter-widgets/controls",
            "_model_module_version": "1.5.0",
            "_model_name": "FloatProgressModel",
            "_view_count": null,
            "_view_module": "@jupyter-widgets/controls",
            "_view_module_version": "1.5.0",
            "_view_name": "ProgressView",
            "bar_style": "success",
            "description": "",
            "description_tooltip": null,
            "layout": "IPY_MODEL_6b1d15c5735d49368f9c9b2cde33f207",
            "max": 2398,
            "min": 0,
            "orientation": "horizontal",
            "style": "IPY_MODEL_7fb606b97b784fa58d6f896b0fab0998",
            "value": 2398
          }
        },
        "a230f84f9bdf44e8a6b69dfa85845aa3": {
          "model_module": "@jupyter-widgets/controls",
          "model_module_version": "1.5.0",
          "model_name": "HBoxModel",
          "state": {
            "_dom_classes": [],
            "_model_module": "@jupyter-widgets/controls",
            "_model_module_version": "1.5.0",
            "_model_name": "HBoxModel",
            "_view_count": null,
            "_view_module": "@jupyter-widgets/controls",
            "_view_module_version": "1.5.0",
            "_view_name": "HBoxView",
            "box_style": "",
            "children": [
              "IPY_MODEL_d63594a964754c848a4f51f907a6992c",
              "IPY_MODEL_a17bb4dde5304b0db67decba129930e5",
              "IPY_MODEL_beaf98bae21044e893c075fe9fb728d9"
            ],
            "layout": "IPY_MODEL_f451ca37d2a547caa101de3585b1e903"
          }
        },
        "a3b9ab8a519c4ac2afb7e751d0bcea95": {
          "model_module": "@jupyter-widgets/base",
          "model_module_version": "1.2.0",
          "model_name": "LayoutModel",
          "state": {
            "_model_module": "@jupyter-widgets/base",
            "_model_module_version": "1.2.0",
            "_model_name": "LayoutModel",
            "_view_count": null,
            "_view_module": "@jupyter-widgets/base",
            "_view_module_version": "1.2.0",
            "_view_name": "LayoutView",
            "align_content": null,
            "align_items": null,
            "align_self": null,
            "border": null,
            "bottom": null,
            "display": null,
            "flex": null,
            "flex_flow": null,
            "grid_area": null,
            "grid_auto_columns": null,
            "grid_auto_flow": null,
            "grid_auto_rows": null,
            "grid_column": null,
            "grid_gap": null,
            "grid_row": null,
            "grid_template_areas": null,
            "grid_template_columns": null,
            "grid_template_rows": null,
            "height": null,
            "justify_content": null,
            "justify_items": null,
            "left": null,
            "margin": null,
            "max_height": null,
            "max_width": null,
            "min_height": null,
            "min_width": null,
            "object_fit": null,
            "object_position": null,
            "order": null,
            "overflow": null,
            "overflow_x": null,
            "overflow_y": null,
            "padding": null,
            "right": null,
            "top": null,
            "visibility": null,
            "width": null
          }
        },
        "a3c11dc08c0943d59e50f282a465b1b2": {
          "model_module": "@jupyter-widgets/controls",
          "model_module_version": "1.5.0",
          "model_name": "FloatProgressModel",
          "state": {
            "_dom_classes": [],
            "_model_module": "@jupyter-widgets/controls",
            "_model_module_version": "1.5.0",
            "_model_name": "FloatProgressModel",
            "_view_count": null,
            "_view_module": "@jupyter-widgets/controls",
            "_view_module_version": "1.5.0",
            "_view_name": "ProgressView",
            "bar_style": "",
            "description": "",
            "description_tooltip": null,
            "layout": "IPY_MODEL_46a6db74823347438a2c61c980d8344a",
            "max": 12,
            "min": 0,
            "orientation": "horizontal",
            "style": "IPY_MODEL_35ed200e6f0c467aa43931e5fdde8d07",
            "value": 11
          }
        },
        "a54e451bcfd54cefa833f11b73aaa8e2": {
          "model_module": "@jupyter-widgets/controls",
          "model_module_version": "1.5.0",
          "model_name": "FloatProgressModel",
          "state": {
            "_dom_classes": [],
            "_model_module": "@jupyter-widgets/controls",
            "_model_module_version": "1.5.0",
            "_model_name": "FloatProgressModel",
            "_view_count": null,
            "_view_module": "@jupyter-widgets/controls",
            "_view_module_version": "1.5.0",
            "_view_name": "ProgressView",
            "bar_style": "success",
            "description": "",
            "description_tooltip": null,
            "layout": "IPY_MODEL_9e35604f53dd469facadad2634a0276f",
            "max": 800683,
            "min": 0,
            "orientation": "horizontal",
            "style": "IPY_MODEL_07d19bc286af4ef6b6dee746bb696d04",
            "value": 800683
          }
        },
        "a78422bc7fd1440daecba8bda32b06f4": {
          "model_module": "@jupyter-widgets/base",
          "model_module_version": "1.2.0",
          "model_name": "LayoutModel",
          "state": {
            "_model_module": "@jupyter-widgets/base",
            "_model_module_version": "1.2.0",
            "_model_name": "LayoutModel",
            "_view_count": null,
            "_view_module": "@jupyter-widgets/base",
            "_view_module_version": "1.2.0",
            "_view_name": "LayoutView",
            "align_content": null,
            "align_items": null,
            "align_self": null,
            "border": null,
            "bottom": null,
            "display": null,
            "flex": null,
            "flex_flow": null,
            "grid_area": null,
            "grid_auto_columns": null,
            "grid_auto_flow": null,
            "grid_auto_rows": null,
            "grid_column": null,
            "grid_gap": null,
            "grid_row": null,
            "grid_template_areas": null,
            "grid_template_columns": null,
            "grid_template_rows": null,
            "height": null,
            "justify_content": null,
            "justify_items": null,
            "left": null,
            "margin": null,
            "max_height": null,
            "max_width": null,
            "min_height": null,
            "min_width": null,
            "object_fit": null,
            "object_position": null,
            "order": null,
            "overflow": null,
            "overflow_x": null,
            "overflow_y": null,
            "padding": null,
            "right": null,
            "top": null,
            "visibility": null,
            "width": null
          }
        },
        "a8693e3f921c41c9b8d3c96d1206be2e": {
          "model_module": "@jupyter-widgets/controls",
          "model_module_version": "1.5.0",
          "model_name": "FloatProgressModel",
          "state": {
            "_dom_classes": [],
            "_model_module": "@jupyter-widgets/controls",
            "_model_module_version": "1.5.0",
            "_model_name": "FloatProgressModel",
            "_view_count": null,
            "_view_module": "@jupyter-widgets/controls",
            "_view_module_version": "1.5.0",
            "_view_name": "ProgressView",
            "bar_style": "success",
            "description": "",
            "description_tooltip": null,
            "layout": "IPY_MODEL_f58a8ed444674bd4905fbe9bd7cd3f9b",
            "max": 9551051,
            "min": 0,
            "orientation": "horizontal",
            "style": "IPY_MODEL_d84d23760b864693bec73098748f4f22",
            "value": 9551051
          }
        },
        "abdfcdfd6eaa462f8960084a814bf47e": {
          "model_module": "@jupyter-widgets/base",
          "model_module_version": "1.2.0",
          "model_name": "LayoutModel",
          "state": {
            "_model_module": "@jupyter-widgets/base",
            "_model_module_version": "1.2.0",
            "_model_name": "LayoutModel",
            "_view_count": null,
            "_view_module": "@jupyter-widgets/base",
            "_view_module_version": "1.2.0",
            "_view_name": "LayoutView",
            "align_content": null,
            "align_items": null,
            "align_self": null,
            "border": null,
            "bottom": null,
            "display": null,
            "flex": null,
            "flex_flow": null,
            "grid_area": null,
            "grid_auto_columns": null,
            "grid_auto_flow": null,
            "grid_auto_rows": null,
            "grid_column": null,
            "grid_gap": null,
            "grid_row": null,
            "grid_template_areas": null,
            "grid_template_columns": null,
            "grid_template_rows": null,
            "height": null,
            "justify_content": null,
            "justify_items": null,
            "left": null,
            "margin": null,
            "max_height": null,
            "max_width": null,
            "min_height": null,
            "min_width": null,
            "object_fit": null,
            "object_position": null,
            "order": null,
            "overflow": null,
            "overflow_x": null,
            "overflow_y": null,
            "padding": null,
            "right": null,
            "top": null,
            "visibility": null,
            "width": null
          }
        },
        "b2762d7ce15145b7950ab3c3b9fe2cd2": {
          "model_module": "@jupyter-widgets/controls",
          "model_module_version": "1.5.0",
          "model_name": "HTMLModel",
          "state": {
            "_dom_classes": [],
            "_model_module": "@jupyter-widgets/controls",
            "_model_module_version": "1.5.0",
            "_model_name": "HTMLModel",
            "_view_count": null,
            "_view_module": "@jupyter-widgets/controls",
            "_view_module_version": "1.5.0",
            "_view_name": "HTMLView",
            "description": "",
            "description_tooltip": null,
            "layout": "IPY_MODEL_7170919aedcf4be7bdf8db69a2335023",
            "placeholder": "​",
            "style": "IPY_MODEL_94c123a65b4a4908b7c0ad2731eed509",
            "value": "100%"
          }
        },
        "b4463f280c6941a9bd6da9d6afe5813d": {
          "model_module": "@jupyter-widgets/base",
          "model_module_version": "1.2.0",
          "model_name": "LayoutModel",
          "state": {
            "_model_module": "@jupyter-widgets/base",
            "_model_module_version": "1.2.0",
            "_model_name": "LayoutModel",
            "_view_count": null,
            "_view_module": "@jupyter-widgets/base",
            "_view_module_version": "1.2.0",
            "_view_name": "LayoutView",
            "align_content": null,
            "align_items": null,
            "align_self": null,
            "border": null,
            "bottom": null,
            "display": null,
            "flex": null,
            "flex_flow": null,
            "grid_area": null,
            "grid_auto_columns": null,
            "grid_auto_flow": null,
            "grid_auto_rows": null,
            "grid_column": null,
            "grid_gap": null,
            "grid_row": null,
            "grid_template_areas": null,
            "grid_template_columns": null,
            "grid_template_rows": null,
            "height": null,
            "justify_content": null,
            "justify_items": null,
            "left": null,
            "margin": null,
            "max_height": null,
            "max_width": null,
            "min_height": null,
            "min_width": null,
            "object_fit": null,
            "object_position": null,
            "order": null,
            "overflow": null,
            "overflow_x": null,
            "overflow_y": null,
            "padding": null,
            "right": null,
            "top": null,
            "visibility": null,
            "width": null
          }
        },
        "b540223712ed45a289dd17024cb5e5e2": {
          "model_module": "@jupyter-widgets/controls",
          "model_module_version": "1.5.0",
          "model_name": "HTMLModel",
          "state": {
            "_dom_classes": [],
            "_model_module": "@jupyter-widgets/controls",
            "_model_module_version": "1.5.0",
            "_model_name": "HTMLModel",
            "_view_count": null,
            "_view_module": "@jupyter-widgets/controls",
            "_view_module_version": "1.5.0",
            "_view_name": "HTMLView",
            "description": "",
            "description_tooltip": null,
            "layout": "IPY_MODEL_055d4627f6d44c3a82a7daed41538203",
            "placeholder": "​",
            "style": "IPY_MODEL_034eae2bd5cc40a6acfc65301e2b089c",
            "value": "Downloading readme: 100%"
          }
        },
        "baad9607a7244138bc757f98501c28d7": {
          "model_module": "@jupyter-widgets/controls",
          "model_module_version": "1.5.0",
          "model_name": "HTMLModel",
          "state": {
            "_dom_classes": [],
            "_model_module": "@jupyter-widgets/controls",
            "_model_module_version": "1.5.0",
            "_model_name": "HTMLModel",
            "_view_count": null,
            "_view_module": "@jupyter-widgets/controls",
            "_view_module_version": "1.5.0",
            "_view_name": "HTMLView",
            "description": "",
            "description_tooltip": null,
            "layout": "IPY_MODEL_e75ef4a022184be188cf05580dca72fb",
            "placeholder": "​",
            "style": "IPY_MODEL_3782cce6f57d4ee19b957f5d9e35c4cd",
            "value": "Extracting data files #1: 100%"
          }
        },
        "bafabda8299a40caa0204721b4ba7b76": {
          "model_module": "@jupyter-widgets/controls",
          "model_module_version": "1.5.0",
          "model_name": "HTMLModel",
          "state": {
            "_dom_classes": [],
            "_model_module": "@jupyter-widgets/controls",
            "_model_module_version": "1.5.0",
            "_model_name": "HTMLModel",
            "_view_count": null,
            "_view_module": "@jupyter-widgets/controls",
            "_view_module_version": "1.5.0",
            "_view_name": "HTMLView",
            "description": "",
            "description_tooltip": null,
            "layout": "IPY_MODEL_e04985d9bd8c494baee29736ec9ef3f0",
            "placeholder": "​",
            "style": "IPY_MODEL_3cf0d0e6f0404278bd70555187880b91",
            "value": " 5.28k/5.28k [00:00&lt;00:00, 60.0kB/s]"
          }
        },
        "beaf98bae21044e893c075fe9fb728d9": {
          "model_module": "@jupyter-widgets/controls",
          "model_module_version": "1.5.0",
          "model_name": "HTMLModel",
          "state": {
            "_dom_classes": [],
            "_model_module": "@jupyter-widgets/controls",
            "_model_module_version": "1.5.0",
            "_model_name": "HTMLModel",
            "_view_count": null,
            "_view_module": "@jupyter-widgets/controls",
            "_view_module_version": "1.5.0",
            "_view_name": "HTMLView",
            "description": "",
            "description_tooltip": null,
            "layout": "IPY_MODEL_f020aa063c32443d9a3562c22e3ce646",
            "placeholder": "​",
            "style": "IPY_MODEL_667b26d0a99f428bb5566257c453a6c5",
            "value": " 2.40k/2.40k [00:00&lt;00:00, 36.2kB/s]"
          }
        },
        "c95b7177496d4151a74d2f1227a656bb": {
          "model_module": "@jupyter-widgets/controls",
          "model_module_version": "1.5.0",
          "model_name": "FloatProgressModel",
          "state": {
            "_dom_classes": [],
            "_model_module": "@jupyter-widgets/controls",
            "_model_module_version": "1.5.0",
            "_model_name": "FloatProgressModel",
            "_view_count": null,
            "_view_module": "@jupyter-widgets/controls",
            "_view_module_version": "1.5.0",
            "_view_name": "ProgressView",
            "bar_style": "success",
            "description": "",
            "description_tooltip": null,
            "layout": "IPY_MODEL_d1fc0fb48b96472ab2f154e1f6792ede",
            "max": 5275,
            "min": 0,
            "orientation": "horizontal",
            "style": "IPY_MODEL_9b5b7eae5704445db37a4941d61f8063",
            "value": 5275
          }
        },
        "cdf9c2b387a44b3296a2068be11e22f6": {
          "model_module": "@jupyter-widgets/base",
          "model_module_version": "1.2.0",
          "model_name": "LayoutModel",
          "state": {
            "_model_module": "@jupyter-widgets/base",
            "_model_module_version": "1.2.0",
            "_model_name": "LayoutModel",
            "_view_count": null,
            "_view_module": "@jupyter-widgets/base",
            "_view_module_version": "1.2.0",
            "_view_name": "LayoutView",
            "align_content": null,
            "align_items": null,
            "align_self": null,
            "border": null,
            "bottom": null,
            "display": null,
            "flex": null,
            "flex_flow": null,
            "grid_area": null,
            "grid_auto_columns": null,
            "grid_auto_flow": null,
            "grid_auto_rows": null,
            "grid_column": null,
            "grid_gap": null,
            "grid_row": null,
            "grid_template_areas": null,
            "grid_template_columns": null,
            "grid_template_rows": null,
            "height": null,
            "justify_content": null,
            "justify_items": null,
            "left": null,
            "margin": null,
            "max_height": null,
            "max_width": null,
            "min_height": null,
            "min_width": null,
            "object_fit": null,
            "object_position": null,
            "order": null,
            "overflow": null,
            "overflow_x": null,
            "overflow_y": null,
            "padding": null,
            "right": null,
            "top": null,
            "visibility": null,
            "width": null
          }
        },
        "cfe1b4c2ffb242ad86a2ecff157df100": {
          "model_module": "@jupyter-widgets/controls",
          "model_module_version": "1.5.0",
          "model_name": "HTMLModel",
          "state": {
            "_dom_classes": [],
            "_model_module": "@jupyter-widgets/controls",
            "_model_module_version": "1.5.0",
            "_model_name": "HTMLModel",
            "_view_count": null,
            "_view_module": "@jupyter-widgets/controls",
            "_view_module_version": "1.5.0",
            "_view_name": "HTMLView",
            "description": "",
            "description_tooltip": null,
            "layout": "IPY_MODEL_1043c9230f104e3482f13ea3f209a19d",
            "placeholder": "​",
            "style": "IPY_MODEL_2ad1eedc813f4bb0b1cf5bdc1e1fb441",
            "value": "Generating validation split:  89%"
          }
        },
        "d1fc0fb48b96472ab2f154e1f6792ede": {
          "model_module": "@jupyter-widgets/base",
          "model_module_version": "1.2.0",
          "model_name": "LayoutModel",
          "state": {
            "_model_module": "@jupyter-widgets/base",
            "_model_module_version": "1.2.0",
            "_model_name": "LayoutModel",
            "_view_count": null,
            "_view_module": "@jupyter-widgets/base",
            "_view_module_version": "1.2.0",
            "_view_name": "LayoutView",
            "align_content": null,
            "align_items": null,
            "align_self": null,
            "border": null,
            "bottom": null,
            "display": null,
            "flex": null,
            "flex_flow": null,
            "grid_area": null,
            "grid_auto_columns": null,
            "grid_auto_flow": null,
            "grid_auto_rows": null,
            "grid_column": null,
            "grid_gap": null,
            "grid_row": null,
            "grid_template_areas": null,
            "grid_template_columns": null,
            "grid_template_rows": null,
            "height": null,
            "justify_content": null,
            "justify_items": null,
            "left": null,
            "margin": null,
            "max_height": null,
            "max_width": null,
            "min_height": null,
            "min_width": null,
            "object_fit": null,
            "object_position": null,
            "order": null,
            "overflow": null,
            "overflow_x": null,
            "overflow_y": null,
            "padding": null,
            "right": null,
            "top": null,
            "visibility": null,
            "width": null
          }
        },
        "d3d202c1410447b59b33118699ea1d92": {
          "model_module": "@jupyter-widgets/controls",
          "model_module_version": "1.5.0",
          "model_name": "DescriptionStyleModel",
          "state": {
            "_model_module": "@jupyter-widgets/controls",
            "_model_module_version": "1.5.0",
            "_model_name": "DescriptionStyleModel",
            "_view_count": null,
            "_view_module": "@jupyter-widgets/base",
            "_view_module_version": "1.2.0",
            "_view_name": "StyleView",
            "description_width": ""
          }
        },
        "d4136d8175304f79bf1c302db99ffe8e": {
          "model_module": "@jupyter-widgets/controls",
          "model_module_version": "1.5.0",
          "model_name": "FloatProgressModel",
          "state": {
            "_dom_classes": [],
            "_model_module": "@jupyter-widgets/controls",
            "_model_module_version": "1.5.0",
            "_model_name": "FloatProgressModel",
            "_view_count": null,
            "_view_module": "@jupyter-widgets/controls",
            "_view_module_version": "1.5.0",
            "_view_name": "ProgressView",
            "bar_style": "success",
            "description": "",
            "description_tooltip": null,
            "layout": "IPY_MODEL_76ebe2e9ea9e47ff87c20fb1bb52d576",
            "max": 1,
            "min": 0,
            "orientation": "horizontal",
            "style": "IPY_MODEL_0bac21fe6c794cfbbf8867860dc60f05",
            "value": 1
          }
        },
        "d43d646f9cb843b8add14a316131e64d": {
          "model_module": "@jupyter-widgets/controls",
          "model_module_version": "1.5.0",
          "model_name": "DescriptionStyleModel",
          "state": {
            "_model_module": "@jupyter-widgets/controls",
            "_model_module_version": "1.5.0",
            "_model_name": "DescriptionStyleModel",
            "_view_count": null,
            "_view_module": "@jupyter-widgets/base",
            "_view_module_version": "1.2.0",
            "_view_name": "StyleView",
            "description_width": ""
          }
        },
        "d63594a964754c848a4f51f907a6992c": {
          "model_module": "@jupyter-widgets/controls",
          "model_module_version": "1.5.0",
          "model_name": "HTMLModel",
          "state": {
            "_dom_classes": [],
            "_model_module": "@jupyter-widgets/controls",
            "_model_module_version": "1.5.0",
            "_model_name": "HTMLModel",
            "_view_count": null,
            "_view_module": "@jupyter-widgets/controls",
            "_view_module_version": "1.5.0",
            "_view_name": "HTMLView",
            "description": "",
            "description_tooltip": null,
            "layout": "IPY_MODEL_97509492562d47d7a3d21a74bfbc62f5",
            "placeholder": "​",
            "style": "IPY_MODEL_782541d2ef4d4a4a96d11545f37b6da1",
            "value": "Downloading metadata: 100%"
          }
        },
        "d7a36b4faf2744d8be7849aceeebee3b": {
          "model_module": "@jupyter-widgets/base",
          "model_module_version": "1.2.0",
          "model_name": "LayoutModel",
          "state": {
            "_model_module": "@jupyter-widgets/base",
            "_model_module_version": "1.2.0",
            "_model_name": "LayoutModel",
            "_view_count": null,
            "_view_module": "@jupyter-widgets/base",
            "_view_module_version": "1.2.0",
            "_view_name": "LayoutView",
            "align_content": null,
            "align_items": null,
            "align_self": null,
            "border": null,
            "bottom": null,
            "display": null,
            "flex": null,
            "flex_flow": null,
            "grid_area": null,
            "grid_auto_columns": null,
            "grid_auto_flow": null,
            "grid_auto_rows": null,
            "grid_column": null,
            "grid_gap": null,
            "grid_row": null,
            "grid_template_areas": null,
            "grid_template_columns": null,
            "grid_template_rows": null,
            "height": null,
            "justify_content": null,
            "justify_items": null,
            "left": null,
            "margin": null,
            "max_height": null,
            "max_width": null,
            "min_height": null,
            "min_width": null,
            "object_fit": null,
            "object_position": null,
            "order": null,
            "overflow": null,
            "overflow_x": null,
            "overflow_y": null,
            "padding": null,
            "right": null,
            "top": null,
            "visibility": null,
            "width": null
          }
        },
        "d84d23760b864693bec73098748f4f22": {
          "model_module": "@jupyter-widgets/controls",
          "model_module_version": "1.5.0",
          "model_name": "ProgressStyleModel",
          "state": {
            "_model_module": "@jupyter-widgets/controls",
            "_model_module_version": "1.5.0",
            "_model_name": "ProgressStyleModel",
            "_view_count": null,
            "_view_module": "@jupyter-widgets/base",
            "_view_module_version": "1.2.0",
            "_view_name": "StyleView",
            "bar_color": null,
            "description_width": ""
          }
        },
        "d9756fdb547f4cda8d4e979fed475b81": {
          "model_module": "@jupyter-widgets/base",
          "model_module_version": "1.2.0",
          "model_name": "LayoutModel",
          "state": {
            "_model_module": "@jupyter-widgets/base",
            "_model_module_version": "1.2.0",
            "_model_name": "LayoutModel",
            "_view_count": null,
            "_view_module": "@jupyter-widgets/base",
            "_view_module_version": "1.2.0",
            "_view_name": "LayoutView",
            "align_content": null,
            "align_items": null,
            "align_self": null,
            "border": null,
            "bottom": null,
            "display": null,
            "flex": null,
            "flex_flow": null,
            "grid_area": null,
            "grid_auto_columns": null,
            "grid_auto_flow": null,
            "grid_auto_rows": null,
            "grid_column": null,
            "grid_gap": null,
            "grid_row": null,
            "grid_template_areas": null,
            "grid_template_columns": null,
            "grid_template_rows": null,
            "height": null,
            "justify_content": null,
            "justify_items": null,
            "left": null,
            "margin": null,
            "max_height": null,
            "max_width": null,
            "min_height": null,
            "min_width": null,
            "object_fit": null,
            "object_position": null,
            "order": null,
            "overflow": null,
            "overflow_x": null,
            "overflow_y": null,
            "padding": null,
            "right": null,
            "top": null,
            "visibility": null,
            "width": null
          }
        },
        "d9a2d2c9486e448cbe8772e2ca562518": {
          "model_module": "@jupyter-widgets/controls",
          "model_module_version": "1.5.0",
          "model_name": "DescriptionStyleModel",
          "state": {
            "_model_module": "@jupyter-widgets/controls",
            "_model_module_version": "1.5.0",
            "_model_name": "DescriptionStyleModel",
            "_view_count": null,
            "_view_module": "@jupyter-widgets/base",
            "_view_module_version": "1.2.0",
            "_view_name": "StyleView",
            "description_width": ""
          }
        },
        "db64486d800546d6976608297999dfc5": {
          "model_module": "@jupyter-widgets/base",
          "model_module_version": "1.2.0",
          "model_name": "LayoutModel",
          "state": {
            "_model_module": "@jupyter-widgets/base",
            "_model_module_version": "1.2.0",
            "_model_name": "LayoutModel",
            "_view_count": null,
            "_view_module": "@jupyter-widgets/base",
            "_view_module_version": "1.2.0",
            "_view_name": "LayoutView",
            "align_content": null,
            "align_items": null,
            "align_self": null,
            "border": null,
            "bottom": null,
            "display": null,
            "flex": null,
            "flex_flow": null,
            "grid_area": null,
            "grid_auto_columns": null,
            "grid_auto_flow": null,
            "grid_auto_rows": null,
            "grid_column": null,
            "grid_gap": null,
            "grid_row": null,
            "grid_template_areas": null,
            "grid_template_columns": null,
            "grid_template_rows": null,
            "height": null,
            "justify_content": null,
            "justify_items": null,
            "left": null,
            "margin": null,
            "max_height": null,
            "max_width": null,
            "min_height": null,
            "min_width": null,
            "object_fit": null,
            "object_position": null,
            "order": null,
            "overflow": null,
            "overflow_x": null,
            "overflow_y": null,
            "padding": null,
            "right": null,
            "top": null,
            "visibility": null,
            "width": null
          }
        },
        "db80c3c192e1470ca3508b8c5639e4a4": {
          "model_module": "@jupyter-widgets/controls",
          "model_module_version": "1.5.0",
          "model_name": "HTMLModel",
          "state": {
            "_dom_classes": [],
            "_model_module": "@jupyter-widgets/controls",
            "_model_module_version": "1.5.0",
            "_model_name": "HTMLModel",
            "_view_count": null,
            "_view_module": "@jupyter-widgets/controls",
            "_view_module_version": "1.5.0",
            "_view_name": "HTMLView",
            "description": "",
            "description_tooltip": null,
            "layout": "IPY_MODEL_94e875cc91104195a2c47c4e638dda37",
            "placeholder": "​",
            "style": "IPY_MODEL_d3d202c1410447b59b33118699ea1d92",
            "value": " 129836/130319 [00:20&lt;00:00, 14562.35 examples/s]"
          }
        },
        "de555c7abda84977ba87df953b947613": {
          "model_module": "@jupyter-widgets/controls",
          "model_module_version": "1.5.0",
          "model_name": "HTMLModel",
          "state": {
            "_dom_classes": [],
            "_model_module": "@jupyter-widgets/controls",
            "_model_module_version": "1.5.0",
            "_model_name": "HTMLModel",
            "_view_count": null,
            "_view_module": "@jupyter-widgets/controls",
            "_view_module_version": "1.5.0",
            "_view_name": "HTMLView",
            "description": "",
            "description_tooltip": null,
            "layout": "IPY_MODEL_44e4384c49204b4789b6876e351d43a5",
            "placeholder": "​",
            "style": "IPY_MODEL_7f455422bd8e48f6961325487fcd4d02",
            "value": " 83%"
          }
        },
        "debc0e539a3a4d4da9f1097bbeb041cf": {
          "model_module": "@jupyter-widgets/controls",
          "model_module_version": "1.5.0",
          "model_name": "ProgressStyleModel",
          "state": {
            "_model_module": "@jupyter-widgets/controls",
            "_model_module_version": "1.5.0",
            "_model_name": "ProgressStyleModel",
            "_view_count": null,
            "_view_module": "@jupyter-widgets/base",
            "_view_module_version": "1.2.0",
            "_view_name": "StyleView",
            "bar_color": null,
            "description_width": ""
          }
        },
        "df7687651ee542aa964c0b8bf13663a5": {
          "model_module": "@jupyter-widgets/controls",
          "model_module_version": "1.5.0",
          "model_name": "FloatProgressModel",
          "state": {
            "_dom_classes": [],
            "_model_module": "@jupyter-widgets/controls",
            "_model_module_version": "1.5.0",
            "_model_name": "FloatProgressModel",
            "_view_count": null,
            "_view_module": "@jupyter-widgets/controls",
            "_view_module_version": "1.5.0",
            "_view_name": "ProgressView",
            "bar_style": "success",
            "description": "",
            "description_tooltip": null,
            "layout": "IPY_MODEL_49ad380770d842bca4c8a962e5525909",
            "max": 2,
            "min": 0,
            "orientation": "horizontal",
            "style": "IPY_MODEL_37637bef1e684be3b8bdc7004fa4b290",
            "value": 2
          }
        },
        "e04985d9bd8c494baee29736ec9ef3f0": {
          "model_module": "@jupyter-widgets/base",
          "model_module_version": "1.2.0",
          "model_name": "LayoutModel",
          "state": {
            "_model_module": "@jupyter-widgets/base",
            "_model_module_version": "1.2.0",
            "_model_name": "LayoutModel",
            "_view_count": null,
            "_view_module": "@jupyter-widgets/base",
            "_view_module_version": "1.2.0",
            "_view_name": "LayoutView",
            "align_content": null,
            "align_items": null,
            "align_self": null,
            "border": null,
            "bottom": null,
            "display": null,
            "flex": null,
            "flex_flow": null,
            "grid_area": null,
            "grid_auto_columns": null,
            "grid_auto_flow": null,
            "grid_auto_rows": null,
            "grid_column": null,
            "grid_gap": null,
            "grid_row": null,
            "grid_template_areas": null,
            "grid_template_columns": null,
            "grid_template_rows": null,
            "height": null,
            "justify_content": null,
            "justify_items": null,
            "left": null,
            "margin": null,
            "max_height": null,
            "max_width": null,
            "min_height": null,
            "min_width": null,
            "object_fit": null,
            "object_position": null,
            "order": null,
            "overflow": null,
            "overflow_x": null,
            "overflow_y": null,
            "padding": null,
            "right": null,
            "top": null,
            "visibility": null,
            "width": null
          }
        },
        "e159593714444d47b25a32c647c5ade8": {
          "model_module": "@jupyter-widgets/controls",
          "model_module_version": "1.5.0",
          "model_name": "HBoxModel",
          "state": {
            "_dom_classes": [],
            "_model_module": "@jupyter-widgets/controls",
            "_model_module_version": "1.5.0",
            "_model_name": "HBoxModel",
            "_view_count": null,
            "_view_module": "@jupyter-widgets/controls",
            "_view_module_version": "1.5.0",
            "_view_name": "HBoxView",
            "box_style": "",
            "children": [
              "IPY_MODEL_e7c0faa19d244796a80a127cdb71550d",
              "IPY_MODEL_d4136d8175304f79bf1c302db99ffe8e",
              "IPY_MODEL_0eda7eb583a54c3c99d4768dc69d228e"
            ],
            "layout": "IPY_MODEL_08dba0ca8a4948d9a8942f1c573040c0"
          }
        },
        "e4044135f04a4c88ad19af5cac90e118": {
          "model_module": "@jupyter-widgets/base",
          "model_module_version": "1.2.0",
          "model_name": "LayoutModel",
          "state": {
            "_model_module": "@jupyter-widgets/base",
            "_model_module_version": "1.2.0",
            "_model_name": "LayoutModel",
            "_view_count": null,
            "_view_module": "@jupyter-widgets/base",
            "_view_module_version": "1.2.0",
            "_view_name": "LayoutView",
            "align_content": null,
            "align_items": null,
            "align_self": null,
            "border": null,
            "bottom": null,
            "display": null,
            "flex": null,
            "flex_flow": null,
            "grid_area": null,
            "grid_auto_columns": null,
            "grid_auto_flow": null,
            "grid_auto_rows": null,
            "grid_column": null,
            "grid_gap": null,
            "grid_row": null,
            "grid_template_areas": null,
            "grid_template_columns": null,
            "grid_template_rows": null,
            "height": null,
            "justify_content": null,
            "justify_items": null,
            "left": null,
            "margin": null,
            "max_height": null,
            "max_width": null,
            "min_height": null,
            "min_width": null,
            "object_fit": null,
            "object_position": null,
            "order": null,
            "overflow": null,
            "overflow_x": null,
            "overflow_y": null,
            "padding": null,
            "right": null,
            "top": null,
            "visibility": null,
            "width": null
          }
        },
        "e4fc05bfee424756992e034b1f26cf0b": {
          "model_module": "@jupyter-widgets/controls",
          "model_module_version": "1.5.0",
          "model_name": "DescriptionStyleModel",
          "state": {
            "_model_module": "@jupyter-widgets/controls",
            "_model_module_version": "1.5.0",
            "_model_name": "DescriptionStyleModel",
            "_view_count": null,
            "_view_module": "@jupyter-widgets/base",
            "_view_module_version": "1.2.0",
            "_view_name": "StyleView",
            "description_width": ""
          }
        },
        "e5d46236fccc482f8d8db5f9e3c7da69": {
          "model_module": "@jupyter-widgets/controls",
          "model_module_version": "1.5.0",
          "model_name": "HTMLModel",
          "state": {
            "_dom_classes": [],
            "_model_module": "@jupyter-widgets/controls",
            "_model_module_version": "1.5.0",
            "_model_name": "HTMLModel",
            "_view_count": null,
            "_view_module": "@jupyter-widgets/controls",
            "_view_module_version": "1.5.0",
            "_view_name": "HTMLView",
            "description": "",
            "description_tooltip": null,
            "layout": "IPY_MODEL_0535d32ba9fa47c2af2df4f8b00d9954",
            "placeholder": "​",
            "style": "IPY_MODEL_ea39600265ce4528a0032b08aa675318",
            "value": "Downloading data: "
          }
        },
        "e75ef4a022184be188cf05580dca72fb": {
          "model_module": "@jupyter-widgets/base",
          "model_module_version": "1.2.0",
          "model_name": "LayoutModel",
          "state": {
            "_model_module": "@jupyter-widgets/base",
            "_model_module_version": "1.2.0",
            "_model_name": "LayoutModel",
            "_view_count": null,
            "_view_module": "@jupyter-widgets/base",
            "_view_module_version": "1.2.0",
            "_view_name": "LayoutView",
            "align_content": null,
            "align_items": null,
            "align_self": null,
            "border": null,
            "bottom": null,
            "display": null,
            "flex": null,
            "flex_flow": null,
            "grid_area": null,
            "grid_auto_columns": null,
            "grid_auto_flow": null,
            "grid_auto_rows": null,
            "grid_column": null,
            "grid_gap": null,
            "grid_row": null,
            "grid_template_areas": null,
            "grid_template_columns": null,
            "grid_template_rows": null,
            "height": null,
            "justify_content": null,
            "justify_items": null,
            "left": null,
            "margin": null,
            "max_height": null,
            "max_width": null,
            "min_height": null,
            "min_width": null,
            "object_fit": null,
            "object_position": null,
            "order": null,
            "overflow": null,
            "overflow_x": null,
            "overflow_y": null,
            "padding": null,
            "right": null,
            "top": null,
            "visibility": null,
            "width": null
          }
        },
        "e7c0faa19d244796a80a127cdb71550d": {
          "model_module": "@jupyter-widgets/controls",
          "model_module_version": "1.5.0",
          "model_name": "HTMLModel",
          "state": {
            "_dom_classes": [],
            "_model_module": "@jupyter-widgets/controls",
            "_model_module_version": "1.5.0",
            "_model_name": "HTMLModel",
            "_view_count": null,
            "_view_module": "@jupyter-widgets/controls",
            "_view_module_version": "1.5.0",
            "_view_name": "HTMLView",
            "description": "",
            "description_tooltip": null,
            "layout": "IPY_MODEL_94f09ba5048242c9acdd18c34c2c4ea1",
            "placeholder": "​",
            "style": "IPY_MODEL_1b620aa31308470a9fddc5a4093aa568",
            "value": "Extracting data files #0: 100%"
          }
        },
        "e7d1ca74ca164e60b488f437102fe628": {
          "model_module": "@jupyter-widgets/base",
          "model_module_version": "1.2.0",
          "model_name": "LayoutModel",
          "state": {
            "_model_module": "@jupyter-widgets/base",
            "_model_module_version": "1.2.0",
            "_model_name": "LayoutModel",
            "_view_count": null,
            "_view_module": "@jupyter-widgets/base",
            "_view_module_version": "1.2.0",
            "_view_name": "LayoutView",
            "align_content": null,
            "align_items": null,
            "align_self": null,
            "border": null,
            "bottom": null,
            "display": null,
            "flex": null,
            "flex_flow": null,
            "grid_area": null,
            "grid_auto_columns": null,
            "grid_auto_flow": null,
            "grid_auto_rows": null,
            "grid_column": null,
            "grid_gap": null,
            "grid_row": null,
            "grid_template_areas": null,
            "grid_template_columns": null,
            "grid_template_rows": null,
            "height": null,
            "justify_content": null,
            "justify_items": null,
            "left": null,
            "margin": null,
            "max_height": null,
            "max_width": null,
            "min_height": null,
            "min_width": null,
            "object_fit": null,
            "object_position": null,
            "order": null,
            "overflow": null,
            "overflow_x": null,
            "overflow_y": null,
            "padding": null,
            "right": null,
            "top": null,
            "visibility": null,
            "width": null
          }
        },
        "ea39600265ce4528a0032b08aa675318": {
          "model_module": "@jupyter-widgets/controls",
          "model_module_version": "1.5.0",
          "model_name": "DescriptionStyleModel",
          "state": {
            "_model_module": "@jupyter-widgets/controls",
            "_model_module_version": "1.5.0",
            "_model_name": "DescriptionStyleModel",
            "_view_count": null,
            "_view_module": "@jupyter-widgets/base",
            "_view_module_version": "1.2.0",
            "_view_name": "StyleView",
            "description_width": ""
          }
        },
        "eaec35113ae34cc59734ced78e5f0481": {
          "model_module": "@jupyter-widgets/base",
          "model_module_version": "1.2.0",
          "model_name": "LayoutModel",
          "state": {
            "_model_module": "@jupyter-widgets/base",
            "_model_module_version": "1.2.0",
            "_model_name": "LayoutModel",
            "_view_count": null,
            "_view_module": "@jupyter-widgets/base",
            "_view_module_version": "1.2.0",
            "_view_name": "LayoutView",
            "align_content": null,
            "align_items": null,
            "align_self": null,
            "border": null,
            "bottom": null,
            "display": null,
            "flex": null,
            "flex_flow": null,
            "grid_area": null,
            "grid_auto_columns": null,
            "grid_auto_flow": null,
            "grid_auto_rows": null,
            "grid_column": null,
            "grid_gap": null,
            "grid_row": null,
            "grid_template_areas": null,
            "grid_template_columns": null,
            "grid_template_rows": null,
            "height": null,
            "justify_content": null,
            "justify_items": null,
            "left": null,
            "margin": null,
            "max_height": null,
            "max_width": null,
            "min_height": null,
            "min_width": null,
            "object_fit": null,
            "object_position": null,
            "order": null,
            "overflow": null,
            "overflow_x": null,
            "overflow_y": null,
            "padding": null,
            "right": null,
            "top": null,
            "visibility": null,
            "width": null
          }
        },
        "f00afb39398048bf810d9a1bc624db6d": {
          "model_module": "@jupyter-widgets/controls",
          "model_module_version": "1.5.0",
          "model_name": "HTMLModel",
          "state": {
            "_dom_classes": [],
            "_model_module": "@jupyter-widgets/controls",
            "_model_module_version": "1.5.0",
            "_model_name": "HTMLModel",
            "_view_count": null,
            "_view_module": "@jupyter-widgets/controls",
            "_view_module_version": "1.5.0",
            "_view_name": "HTMLView",
            "description": "",
            "description_tooltip": null,
            "layout": "IPY_MODEL_e4044135f04a4c88ad19af5cac90e118",
            "placeholder": "​",
            "style": "IPY_MODEL_1246ea0787b44dafb573340956ad9ddc",
            "value": " 10510/11873 [00:00&lt;00:00, 13609.71 examples/s]"
          }
        },
        "f020aa063c32443d9a3562c22e3ce646": {
          "model_module": "@jupyter-widgets/base",
          "model_module_version": "1.2.0",
          "model_name": "LayoutModel",
          "state": {
            "_model_module": "@jupyter-widgets/base",
            "_model_module_version": "1.2.0",
            "_model_name": "LayoutModel",
            "_view_count": null,
            "_view_module": "@jupyter-widgets/base",
            "_view_module_version": "1.2.0",
            "_view_name": "LayoutView",
            "align_content": null,
            "align_items": null,
            "align_self": null,
            "border": null,
            "bottom": null,
            "display": null,
            "flex": null,
            "flex_flow": null,
            "grid_area": null,
            "grid_auto_columns": null,
            "grid_auto_flow": null,
            "grid_auto_rows": null,
            "grid_column": null,
            "grid_gap": null,
            "grid_row": null,
            "grid_template_areas": null,
            "grid_template_columns": null,
            "grid_template_rows": null,
            "height": null,
            "justify_content": null,
            "justify_items": null,
            "left": null,
            "margin": null,
            "max_height": null,
            "max_width": null,
            "min_height": null,
            "min_width": null,
            "object_fit": null,
            "object_position": null,
            "order": null,
            "overflow": null,
            "overflow_x": null,
            "overflow_y": null,
            "padding": null,
            "right": null,
            "top": null,
            "visibility": null,
            "width": null
          }
        },
        "f451ca37d2a547caa101de3585b1e903": {
          "model_module": "@jupyter-widgets/base",
          "model_module_version": "1.2.0",
          "model_name": "LayoutModel",
          "state": {
            "_model_module": "@jupyter-widgets/base",
            "_model_module_version": "1.2.0",
            "_model_name": "LayoutModel",
            "_view_count": null,
            "_view_module": "@jupyter-widgets/base",
            "_view_module_version": "1.2.0",
            "_view_name": "LayoutView",
            "align_content": null,
            "align_items": null,
            "align_self": null,
            "border": null,
            "bottom": null,
            "display": null,
            "flex": null,
            "flex_flow": null,
            "grid_area": null,
            "grid_auto_columns": null,
            "grid_auto_flow": null,
            "grid_auto_rows": null,
            "grid_column": null,
            "grid_gap": null,
            "grid_row": null,
            "grid_template_areas": null,
            "grid_template_columns": null,
            "grid_template_rows": null,
            "height": null,
            "justify_content": null,
            "justify_items": null,
            "left": null,
            "margin": null,
            "max_height": null,
            "max_width": null,
            "min_height": null,
            "min_width": null,
            "object_fit": null,
            "object_position": null,
            "order": null,
            "overflow": null,
            "overflow_x": null,
            "overflow_y": null,
            "padding": null,
            "right": null,
            "top": null,
            "visibility": null,
            "width": null
          }
        },
        "f4a51fd74c404393b1a163c241cd1105": {
          "model_module": "@jupyter-widgets/controls",
          "model_module_version": "1.5.0",
          "model_name": "ProgressStyleModel",
          "state": {
            "_model_module": "@jupyter-widgets/controls",
            "_model_module_version": "1.5.0",
            "_model_name": "ProgressStyleModel",
            "_view_count": null,
            "_view_module": "@jupyter-widgets/base",
            "_view_module_version": "1.2.0",
            "_view_name": "StyleView",
            "bar_color": null,
            "description_width": ""
          }
        },
        "f58a8ed444674bd4905fbe9bd7cd3f9b": {
          "model_module": "@jupyter-widgets/base",
          "model_module_version": "1.2.0",
          "model_name": "LayoutModel",
          "state": {
            "_model_module": "@jupyter-widgets/base",
            "_model_module_version": "1.2.0",
            "_model_name": "LayoutModel",
            "_view_count": null,
            "_view_module": "@jupyter-widgets/base",
            "_view_module_version": "1.2.0",
            "_view_name": "LayoutView",
            "align_content": null,
            "align_items": null,
            "align_self": null,
            "border": null,
            "bottom": null,
            "display": null,
            "flex": null,
            "flex_flow": null,
            "grid_area": null,
            "grid_auto_columns": null,
            "grid_auto_flow": null,
            "grid_auto_rows": null,
            "grid_column": null,
            "grid_gap": null,
            "grid_row": null,
            "grid_template_areas": null,
            "grid_template_columns": null,
            "grid_template_rows": null,
            "height": null,
            "justify_content": null,
            "justify_items": null,
            "left": null,
            "margin": null,
            "max_height": null,
            "max_width": null,
            "min_height": null,
            "min_width": null,
            "object_fit": null,
            "object_position": null,
            "order": null,
            "overflow": null,
            "overflow_x": null,
            "overflow_y": null,
            "padding": null,
            "right": null,
            "top": null,
            "visibility": null,
            "width": null
          }
        },
        "f5f943b2c0a34af286b66948f5dc592d": {
          "model_module": "@jupyter-widgets/controls",
          "model_module_version": "1.5.0",
          "model_name": "HTMLModel",
          "state": {
            "_dom_classes": [],
            "_model_module": "@jupyter-widgets/controls",
            "_model_module_version": "1.5.0",
            "_model_name": "HTMLModel",
            "_view_count": null,
            "_view_module": "@jupyter-widgets/controls",
            "_view_module_version": "1.5.0",
            "_view_name": "HTMLView",
            "description": "",
            "description_tooltip": null,
            "layout": "IPY_MODEL_d7a36b4faf2744d8be7849aceeebee3b",
            "placeholder": "​",
            "style": "IPY_MODEL_a062f5f4f7b8429c9636b83d0ce2d993",
            "value": "Downloading data files: 100%"
          }
        },
        "fa50aed874624f3dba610f3be81835e4": {
          "model_module": "@jupyter-widgets/controls",
          "model_module_version": "1.5.0",
          "model_name": "HTMLModel",
          "state": {
            "_dom_classes": [],
            "_model_module": "@jupyter-widgets/controls",
            "_model_module_version": "1.5.0",
            "_model_name": "HTMLModel",
            "_view_count": null,
            "_view_module": "@jupyter-widgets/controls",
            "_view_module_version": "1.5.0",
            "_view_name": "HTMLView",
            "description": "",
            "description_tooltip": null,
            "layout": "IPY_MODEL_7db4aaf819554f359b481650676ee521",
            "placeholder": "​",
            "style": "IPY_MODEL_2720460a2d1e46b1b08e0850d385dcfa",
            "value": " 10/12 [00:07&lt;00:01,  1.44ba/s]"
          }
        },
        "fc1e4c9ebe7d449d9e5371c8de17662b": {
          "model_module": "@jupyter-widgets/controls",
          "model_module_version": "1.5.0",
          "model_name": "HBoxModel",
          "state": {
            "_dom_classes": [],
            "_model_module": "@jupyter-widgets/controls",
            "_model_module_version": "1.5.0",
            "_model_name": "HBoxModel",
            "_view_count": null,
            "_view_module": "@jupyter-widgets/controls",
            "_view_module_version": "1.5.0",
            "_view_name": "HBoxView",
            "box_style": "",
            "children": [
              "IPY_MODEL_f5f943b2c0a34af286b66948f5dc592d",
              "IPY_MODEL_56b0cef121dd4f1aba91ba3c32a05474",
              "IPY_MODEL_17ee7ded95dc4d34a8bec33e6df5bbe7"
            ],
            "layout": "IPY_MODEL_328b8e4036c94ba8a5f9f8bd4c16fcb6"
          }
        },
        "fe7ed5ebbd244b928289df6aa93ada88": {
          "model_module": "@jupyter-widgets/controls",
          "model_module_version": "1.5.0",
          "model_name": "FloatProgressModel",
          "state": {
            "_dom_classes": [],
            "_model_module": "@jupyter-widgets/controls",
            "_model_module_version": "1.5.0",
            "_model_name": "FloatProgressModel",
            "_view_count": null,
            "_view_module": "@jupyter-widgets/controls",
            "_view_module_version": "1.5.0",
            "_view_name": "ProgressView",
            "bar_style": "success",
            "description": "",
            "description_tooltip": null,
            "layout": "IPY_MODEL_075bf84f91164244bb693b95173e6afa",
            "max": 1,
            "min": 0,
            "orientation": "horizontal",
            "style": "IPY_MODEL_debc0e539a3a4d4da9f1097bbeb041cf",
            "value": 1
          }
        }
      }
    }
  },
  "nbformat": 4,
  "nbformat_minor": 0
}